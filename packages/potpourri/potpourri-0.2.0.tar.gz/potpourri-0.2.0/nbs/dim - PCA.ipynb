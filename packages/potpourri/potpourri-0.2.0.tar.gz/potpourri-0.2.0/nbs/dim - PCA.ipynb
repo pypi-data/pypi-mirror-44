{
 "cells": [
  {
   "cell_type": "markdown",
   "metadata": {},
   "source": [
    "# Principal Component Analysis\n",
    "* `dim1` -- PCA with given number of components\n",
    "* `dim2` -- PCA Minka's MLE\n",
    "* `dim3` -- PCA required Explained Variance"
   ]
  },
  {
   "cell_type": "code",
   "execution_count": 1,
   "metadata": {},
   "outputs": [],
   "source": [
    "%load_ext autoreload\n",
    "%autoreload 2"
   ]
  },
  {
   "cell_type": "code",
   "execution_count": 2,
   "metadata": {},
   "outputs": [],
   "source": [
    "# add path\n",
    "import sys; import os; sys.path.append(os.path.realpath(\"../\"))"
   ]
  },
  {
   "cell_type": "code",
   "execution_count": 3,
   "metadata": {},
   "outputs": [],
   "source": [
    "# demo datasets\n",
    "from datasets.demo1 import X_train, Y_train, fold_ids, X_valid, Y_valid, meta as meta_data\n",
    "#meta_data"
   ]
  },
  {
   "cell_type": "code",
   "execution_count": 4,
   "metadata": {},
   "outputs": [],
   "source": [
    "# transformer implementations\n",
    "typ = 'dim1'\n",
    "\n",
    "if typ is 'dim1':\n",
    "    from verto.dim1 import trans, meta\n",
    "    trans.set_params(**{'pca__n_components': 3})\n",
    "elif typ is 'dim2':\n",
    "    from verto.dim2 import trans, meta\n",
    "elif typ is 'dim3':\n",
    "    from verto.dim3 import trans, meta\n",
    "    trans.set_params(**{'required_ev': 0.8})  # slowly increase from 0.1 towards 100%"
   ]
  },
  {
   "cell_type": "code",
   "execution_count": 5,
   "metadata": {},
   "outputs": [
    {
     "data": {
      "text/plain": [
       "{'id': 'dim1',\n",
       " 'name': 'PCA',\n",
       " 'description': 'PCA with given number of components',\n",
       " 'keywords': ['dimensionality reduction',\n",
       "  'principal component anlysis',\n",
       "  'StandardScaler',\n",
       "  'PCA'],\n",
       " 'feature_names_prefix': 'pca'}"
      ]
     },
     "execution_count": 5,
     "metadata": {},
     "output_type": "execute_result"
    }
   ],
   "source": [
    "meta"
   ]
  },
  {
   "cell_type": "markdown",
   "metadata": {},
   "source": [
    "## Transform"
   ]
  },
  {
   "cell_type": "code",
   "execution_count": 6,
   "metadata": {},
   "outputs": [
    {
     "name": "stdout",
     "output_type": "stream",
     "text": [
      "CPU times: user 4.8 ms, sys: 2.21 ms, total: 7.01 ms\n",
      "Wall time: 6.89 ms\n"
     ]
    },
    {
     "data": {
      "text/plain": [
       "Pipeline(memory=None,\n",
       "     steps=[('scl', StandardScaler(copy=True, with_mean=True, with_std=True)), ('pca', PCA(copy=True, iterated_power='auto', n_components=3, random_state=None,\n",
       "  svd_solver='auto', tol=0.0, whiten=False))])"
      ]
     },
     "execution_count": 6,
     "metadata": {},
     "output_type": "execute_result"
    }
   ],
   "source": [
    "%%time\n",
    "trans.fit(X_train)"
   ]
  },
  {
   "cell_type": "code",
   "execution_count": 7,
   "metadata": {},
   "outputs": [
    {
     "name": "stdout",
     "output_type": "stream",
     "text": [
      "CPU times: user 1.05 ms, sys: 2.52 ms, total: 3.56 ms\n",
      "Wall time: 2.97 ms\n"
     ]
    }
   ],
   "source": [
    "%%time\n",
    "X_new = trans.transform(X_train)"
   ]
  },
  {
   "cell_type": "code",
   "execution_count": 8,
   "metadata": {},
   "outputs": [
    {
     "name": "stdout",
     "output_type": "stream",
     "text": [
      "['pca_0', 'pca_1', 'pca_2']\n"
     ]
    }
   ],
   "source": [
    "from seasalt import create_feature_names\n",
    "feature_names = create_feature_names(meta['feature_names_prefix'], X_new.shape[1])\n",
    "print(feature_names)"
   ]
  },
  {
   "cell_type": "code",
   "execution_count": 9,
   "metadata": {},
   "outputs": [],
   "source": [
    "import pandas as pd\n",
    "df_new = pd.DataFrame(data=X_new, columns=feature_names)"
   ]
  },
  {
   "cell_type": "markdown",
   "metadata": {},
   "source": [
    "## Evaluate\n",
    "- check if the PCA components are \"good\" predictors\n",
    "- eyeball the p-values of the logistic regression coefficients"
   ]
  },
  {
   "cell_type": "code",
   "execution_count": 10,
   "metadata": {},
   "outputs": [
    {
     "data": {
      "text/html": [
       "<div>\n",
       "<style scoped>\n",
       "    .dataframe tbody tr th:only-of-type {\n",
       "        vertical-align: middle;\n",
       "    }\n",
       "\n",
       "    .dataframe tbody tr th {\n",
       "        vertical-align: top;\n",
       "    }\n",
       "\n",
       "    .dataframe thead th {\n",
       "        text-align: right;\n",
       "    }\n",
       "</style>\n",
       "<table border=\"1\" class=\"dataframe\">\n",
       "  <thead>\n",
       "    <tr style=\"text-align: right;\">\n",
       "      <th></th>\n",
       "      <th>pca_0</th>\n",
       "      <th>pca_1</th>\n",
       "      <th>pca_2</th>\n",
       "    </tr>\n",
       "  </thead>\n",
       "  <tbody>\n",
       "    <tr>\n",
       "      <th>0</th>\n",
       "      <td>-3.084842</td>\n",
       "      <td>-2.158704</td>\n",
       "      <td>-0.339875</td>\n",
       "    </tr>\n",
       "    <tr>\n",
       "      <th>1</th>\n",
       "      <td>-2.182647</td>\n",
       "      <td>-0.617571</td>\n",
       "      <td>0.447208</td>\n",
       "    </tr>\n",
       "    <tr>\n",
       "      <th>2</th>\n",
       "      <td>2.049959</td>\n",
       "      <td>2.328953</td>\n",
       "      <td>1.169407</td>\n",
       "    </tr>\n",
       "    <tr>\n",
       "      <th>3</th>\n",
       "      <td>-2.809267</td>\n",
       "      <td>-0.950791</td>\n",
       "      <td>-0.305102</td>\n",
       "    </tr>\n",
       "    <tr>\n",
       "      <th>4</th>\n",
       "      <td>-1.913537</td>\n",
       "      <td>-1.072582</td>\n",
       "      <td>0.498365</td>\n",
       "    </tr>\n",
       "  </tbody>\n",
       "</table>\n",
       "</div>"
      ],
      "text/plain": [
       "      pca_0     pca_1     pca_2\n",
       "0 -3.084842 -2.158704 -0.339875\n",
       "1 -2.182647 -0.617571  0.447208\n",
       "2  2.049959  2.328953  1.169407\n",
       "3 -2.809267 -0.950791 -0.305102\n",
       "4 -1.913537 -1.072582  0.498365"
      ]
     },
     "execution_count": 10,
     "metadata": {},
     "output_type": "execute_result"
    }
   ],
   "source": [
    "df_new.head()"
   ]
  },
  {
   "cell_type": "code",
   "execution_count": 11,
   "metadata": {},
   "outputs": [
    {
     "name": "stdout",
     "output_type": "stream",
     "text": [
      "Optimization terminated successfully.    (Exit mode 0)\n",
      "            Current function value: 0.1295775447691668\n",
      "            Iterations: 33\n",
      "            Function evaluations: 33\n",
      "            Gradient evaluations: 33\n",
      "                           Logit Regression Results                           \n",
      "==============================================================================\n",
      "Dep. Variable:                      y   No. Observations:                  398\n",
      "Model:                          Logit   Df Residuals:                      394\n",
      "Method:                           MLE   Df Model:                            3\n",
      "Date:                Tue, 02 Apr 2019   Pseudo R-squ.:                  0.8117\n",
      "Time:                        16:08:43   Log-Likelihood:                -49.556\n",
      "converged:                       True   LL-Null:                       -263.17\n",
      "                                        LLR p-value:                 2.786e-92\n",
      "==============================================================================\n",
      "                 coef    std err          z      P>|z|      [0.025      0.975]\n",
      "------------------------------------------------------------------------------\n",
      "const          0.5989      0.261      2.292      0.022       0.087       1.111\n",
      "x1            -1.9378      0.275     -7.052      0.000      -2.476      -1.399\n",
      "x2             1.0412      0.197      5.273      0.000       0.654       1.428\n",
      "x3             0.4544      0.152      2.981      0.003       0.156       0.753\n",
      "==============================================================================\n",
      "\n",
      "Possibly complete quasi-separation: A fraction 0.18 of observations can be\n",
      "perfectly predicted. This might indicate that there is complete\n",
      "quasi-separation. In this case some parameters will not be identified.\n"
     ]
    }
   ],
   "source": [
    "import statsmodels.api as sm\n",
    "#lr = sm.Logit(Y_train, sm.add_constant(X_new)).fit()\n",
    "lr = sm.Logit(Y_train, sm.add_constant(X_new)).fit_regularized(method='l1', alpha=.5)\n",
    "print(lr.summary())"
   ]
  }
 ],
 "metadata": {
  "kernelspec": {
   "display_name": "Python 3",
   "language": "python",
   "name": "python3"
  },
  "language_info": {
   "codemirror_mode": {
    "name": "ipython",
    "version": 3
   },
   "file_extension": ".py",
   "mimetype": "text/x-python",
   "name": "python",
   "nbconvert_exporter": "python",
   "pygments_lexer": "ipython3",
   "version": "3.6.2"
  }
 },
 "nbformat": 4,
 "nbformat_minor": 2
}
