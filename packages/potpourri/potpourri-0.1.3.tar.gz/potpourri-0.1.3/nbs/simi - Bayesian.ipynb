{
 "cells": [
  {
   "cell_type": "markdown",
   "metadata": {},
   "source": [
    "# Bayesian Regression\n",
    "* `simi13` -- Bayesian Ridge Regression\n",
    "* `simi14` -- Automatic Relevance Determination\n"
   ]
  },
  {
   "cell_type": "code",
   "execution_count": 1,
   "metadata": {},
   "outputs": [],
   "source": [
    "# add path\n",
    "import sys; import os; sys.path.append(os.path.realpath(\"../\"))\n",
    "\n",
    "# general hyperparameter optimization settings\n",
    "from seasalt import (select_the_best, refit_model) \n",
    "from seasalt.si import (cv_settings, scorerfun, print_scores)\n",
    "from sklearn.model_selection import RandomizedSearchCV"
   ]
  },
  {
   "cell_type": "code",
   "execution_count": 2,
   "metadata": {},
   "outputs": [],
   "source": [
    "# demo datasets\n",
    "from datasets.demo2 import X_train, Y_train, fold_ids, X_valid, Y_valid, meta as meta_data\n",
    "#meta_data"
   ]
  },
  {
   "cell_type": "code",
   "execution_count": 3,
   "metadata": {},
   "outputs": [
    {
     "data": {
      "text/plain": [
       "{'id': 'simi14',\n",
       " 'name': 'LinReg ARD',\n",
       " 'descriptions': 'Automatic Relevance Determination',\n",
       " 'solver': 'Evidence Maximization',\n",
       " 'active': True,\n",
       " 'keywords': ['linear regression',\n",
       "  'univariate regression',\n",
       "  'multiple regression',\n",
       "  'bayesian regression',\n",
       "  'maximum likelihood estimation',\n",
       "  'automatic relevance determination',\n",
       "  'sparse bayesian learning and relevance vector machine',\n",
       "  'sklearn.linear_model.ARDRegression'],\n",
       " 'output_num': 'single',\n",
       " 'output_scale': 'interval',\n",
       " 'output_dtype': 'float',\n",
       " 'input_num': 'multi',\n",
       " 'input_scale': 'interval',\n",
       " 'input_dtype': 'float'}"
      ]
     },
     "execution_count": 3,
     "metadata": {},
     "output_type": "execute_result"
    }
   ],
   "source": [
    "# model implementations\n",
    "#from potpourri.simi13 import model, hyper, meta  # Bayesian Ridge Regression\n",
    "from potpourri.simi14 import model, hyper, meta  # Automatic Relevance Determination\n",
    "meta"
   ]
  },
  {
   "cell_type": "markdown",
   "metadata": {},
   "source": [
    "## Train"
   ]
  },
  {
   "cell_type": "code",
   "execution_count": 4,
   "metadata": {},
   "outputs": [
    {
     "name": "stderr",
     "output_type": "stream",
     "text": [
      "/Users/uh/cfs/venv-3.6.2/lib/python3.6/site-packages/sklearn/model_selection/_search.py:841: DeprecationWarning: The default of the `iid` parameter will change from True to False in version 0.22 and will be removed in 0.24. This will change numeric results when test-set sizes are unequal.\n",
      "  DeprecationWarning)\n"
     ]
    },
    {
     "name": "stdout",
     "output_type": "stream",
     "text": [
      "CPU times: user 3.03 s, sys: 455 ms, total: 3.49 s\n",
      "Wall time: 43.6 s\n"
     ]
    }
   ],
   "source": [
    "%%time\n",
    "rscv = RandomizedSearchCV(**{'estimator': model, 'param_distributions': hyper}, **cv_settings)\n",
    "rscv.fit(X = X_train, y = Y_train)  # Run CV\n",
    "\n",
    "bestparam, summary = select_the_best(rscv)  # find the \"best\" parameters\n",
    "bestmodel = refit_model(model, bestparam, X_train, Y_train)  # Refit the \"best\" model"
   ]
  },
  {
   "cell_type": "code",
   "execution_count": 5,
   "metadata": {},
   "outputs": [],
   "source": [
    "#rscv.cv_results_"
   ]
  },
  {
   "cell_type": "markdown",
   "metadata": {},
   "source": [
    "## Evaluate"
   ]
  },
  {
   "cell_type": "code",
   "execution_count": 6,
   "metadata": {},
   "outputs": [
    {
     "name": "stdout",
     "output_type": "stream",
     "text": [
      "\n",
      "out of sample score\n",
      "0.4836020956302698\n",
      "\n",
      "out of sample score (Other metrics)\n",
      "  Explained Variance:       0.4861\n",
      "                 MAE:      42.0456\n",
      "                 MSE:    2787.6748\n",
      "     Mean Sq Log Err:       0.1647\n",
      "      Median Abs Err:      35.8435\n",
      "                 R^2:       0.4836\n",
      "{'lin__alpha_1': 0.007673952499523488, 'lin__alpha_2': 0.0009463915881162096, 'lin__lambda_1': 0.01803654794246297, 'lin__lambda_2': 0.003868202936673966, 'lin__threshold_lambda': 10}\n",
      "\n",
      "in-sample scores and model variants (from CV)\n"
     ]
    },
    {
     "data": {
      "text/html": [
       "<div>\n",
       "<style scoped>\n",
       "    .dataframe tbody tr th:only-of-type {\n",
       "        vertical-align: middle;\n",
       "    }\n",
       "\n",
       "    .dataframe tbody tr th {\n",
       "        vertical-align: top;\n",
       "    }\n",
       "\n",
       "    .dataframe thead th {\n",
       "        text-align: right;\n",
       "    }\n",
       "</style>\n",
       "<table border=\"1\" class=\"dataframe\">\n",
       "  <thead>\n",
       "    <tr style=\"text-align: right;\">\n",
       "      <th></th>\n",
       "      <th>params</th>\n",
       "      <th>cvratio</th>\n",
       "      <th>rank_test_score</th>\n",
       "      <th>mean_test_score</th>\n",
       "      <th>std_test_score</th>\n",
       "    </tr>\n",
       "  </thead>\n",
       "  <tbody>\n",
       "    <tr>\n",
       "      <th>35</th>\n",
       "      <td>{'lin__alpha_1': 0.007673952499523488, 'lin__a...</td>\n",
       "      <td>3.855690</td>\n",
       "      <td>4</td>\n",
       "      <td>0.450293</td>\n",
       "      <td>0.116787</td>\n",
       "    </tr>\n",
       "    <tr>\n",
       "      <th>9</th>\n",
       "      <td>{'lin__alpha_1': 0.02400432887393024, 'lin__al...</td>\n",
       "      <td>3.855439</td>\n",
       "      <td>1</td>\n",
       "      <td>0.450337</td>\n",
       "      <td>0.116806</td>\n",
       "    </tr>\n",
       "    <tr>\n",
       "      <th>0</th>\n",
       "      <td>{'lin__alpha_1': 0.004692780899768591, 'lin__a...</td>\n",
       "      <td>3.854258</td>\n",
       "      <td>5</td>\n",
       "      <td>0.450287</td>\n",
       "      <td>0.116828</td>\n",
       "    </tr>\n",
       "    <tr>\n",
       "      <th>32</th>\n",
       "      <td>{'lin__alpha_1': 0.0042323882487663765, 'lin__...</td>\n",
       "      <td>3.854010</td>\n",
       "      <td>3</td>\n",
       "      <td>0.450310</td>\n",
       "      <td>0.116842</td>\n",
       "    </tr>\n",
       "    <tr>\n",
       "      <th>3</th>\n",
       "      <td>{'lin__alpha_1': 0.0020262142283225706, 'lin__...</td>\n",
       "      <td>3.852633</td>\n",
       "      <td>2</td>\n",
       "      <td>0.450313</td>\n",
       "      <td>0.116884</td>\n",
       "    </tr>\n",
       "  </tbody>\n",
       "</table>\n",
       "</div>"
      ],
      "text/plain": [
       "                                               params   cvratio  \\\n",
       "35  {'lin__alpha_1': 0.007673952499523488, 'lin__a...  3.855690   \n",
       "9   {'lin__alpha_1': 0.02400432887393024, 'lin__al...  3.855439   \n",
       "0   {'lin__alpha_1': 0.004692780899768591, 'lin__a...  3.854258   \n",
       "32  {'lin__alpha_1': 0.0042323882487663765, 'lin__...  3.854010   \n",
       "3   {'lin__alpha_1': 0.0020262142283225706, 'lin__...  3.852633   \n",
       "\n",
       "    rank_test_score  mean_test_score  std_test_score  \n",
       "35                4         0.450293        0.116787  \n",
       "9                 1         0.450337        0.116806  \n",
       "0                 5         0.450287        0.116828  \n",
       "32                3         0.450310        0.116842  \n",
       "3                 2         0.450313        0.116884  "
      ]
     },
     "execution_count": 6,
     "metadata": {},
     "output_type": "execute_result"
    }
   ],
   "source": [
    "print(\"\\nout of sample score\")\n",
    "Y_pred = bestmodel.predict(X_valid)\n",
    "print(scorerfun(Y_valid, Y_pred))\n",
    "\n",
    "print(\"\\nout of sample score (Other metrics)\")\n",
    "print_scores(bestmodel, Y_valid, X_valid)\n",
    "\n",
    "print(bestparam)\n",
    "\n",
    "print(\"\\nin-sample scores and model variants (from CV)\")\n",
    "summary"
   ]
  },
  {
   "cell_type": "markdown",
   "metadata": {},
   "source": [
    "### Parameters"
   ]
  },
  {
   "cell_type": "code",
   "execution_count": 7,
   "metadata": {},
   "outputs": [
    {
     "data": {
      "text/plain": [
       "array([ 0.00000000e+00, -1.01200101e+01,  2.76230245e+01,  1.78430488e+01,\n",
       "       -4.42535022e+00, -2.07535024e-02, -1.41603389e+01,  1.97921155e-02,\n",
       "        1.96846187e+01,  3.75815083e-02])"
      ]
     },
     "execution_count": 7,
     "metadata": {},
     "output_type": "execute_result"
    }
   ],
   "source": [
    "bestmodel.steps[1][1].coef_"
   ]
  },
  {
   "cell_type": "markdown",
   "metadata": {},
   "source": [
    "### Target vs Predicted"
   ]
  },
  {
   "cell_type": "code",
   "execution_count": 8,
   "metadata": {},
   "outputs": [
    {
     "data": {
      "image/png": "[encoded data removed]",
      "text/plain": [
       "<Figure size 432x432 with 1 Axes>"
      ]
     },
     "metadata": {
      "needs_background": "light"
     },
     "output_type": "display_data"
    }
   ],
   "source": [
    "import numpy as np\n",
    "import matplotlib.pyplot as plt\n",
    "%matplotlib inline\n",
    "\n",
    "plt.figure(figsize=(6,6))\n",
    "plt.scatter(y=Y_pred, x=Y_valid);\n",
    "#plt.scatter(x=np.log(Y_pred), y=np.log(Y_valid));\n",
    "plt.xlabel('target');\n",
    "plt.ylabel('predicted');"
   ]
  },
  {
   "cell_type": "markdown",
   "metadata": {},
   "source": [
    "## Debug, Memory, Misc"
   ]
  },
  {
   "cell_type": "code",
   "execution_count": 9,
   "metadata": {},
   "outputs": [
    {
     "name": "stdout",
     "output_type": "stream",
     "text": [
      "Variable             Type                  Data/Info\n",
      "----------------------------------------------------\n",
      "RandomizedSearchCV   ABCMeta               <class 'sklearn.model_sel<...>arch.RandomizedSearchCV'>\n",
      "X_train              ndarray               309x10: 3090 elems, type `float64`, 24720 bytes\n",
      "X_valid              ndarray               133x10: 1330 elems, type `float64`, 10640 bytes\n",
      "Y_pred               ndarray               133: 133 elems, type `float64`, 1064 bytes\n",
      "Y_train              ndarray               309: 309 elems, type `float64`, 2472 bytes\n",
      "Y_valid              ndarray               133: 133 elems, type `float64`, 1064 bytes\n",
      "bestmodel            Pipeline              Pipeline(memory=None,\\n  <...>n       verbose=False))])\n",
      "bestparam            dict                  n=5\n",
      "cv_settings          dict                  n=6\n",
      "fold_ids             ndarray               309: 309 elems, type `int64`, 2472 bytes\n",
      "hyper                dict                  n=5\n",
      "meta                 dict                  n=12\n",
      "meta_data            dict                  n=14\n",
      "model                Pipeline              Pipeline(memory=None,\\n  <...>=0.001, verbose=False))])\n",
      "np                   module                <module 'numpy' from '/Us<...>kages/numpy/__init__.py'>\n",
      "os                   module                <module 'os' from '/Users<...>6.2/lib/python3.6/os.py'>\n",
      "plt                  module                <module 'matplotlib.pyplo<...>es/matplotlib/pyplot.py'>\n",
      "print_scores         function              <function print_scores at 0x115008ea0>\n",
      "refit_model          function              <function refit_model at 0x11328aa60>\n",
      "rscv                 RandomizedSearchCV    RandomizedSearchCV(cv=5, <...>e),\\n          verbose=0)\n",
      "scorerfun            function              <function r2_score at 0x116782268>\n",
      "select_the_best      function              <function select_the_best at 0x1132f6510>\n",
      "summary              DataFrame                                      <...>.450313        0.116884  \n",
      "sys                  module                <module 'sys' (built-in)>\n"
     ]
    }
   ],
   "source": [
    "#del summary\n",
    "#locals()\n",
    "%whos"
   ]
  },
  {
   "cell_type": "code",
   "execution_count": null,
   "metadata": {},
   "outputs": [],
   "source": []
  }
 ],
 "metadata": {
  "kernelspec": {
   "display_name": "Python 3",
   "language": "python",
   "name": "python3"
  },
  "language_info": {
   "codemirror_mode": {
    "name": "ipython",
    "version": 3
   },
   "file_extension": ".py",
   "mimetype": "text/x-python",
   "name": "python",
   "nbconvert_exporter": "python",
   "pygments_lexer": "ipython3",
   "version": "3.6.2"
  }
 },
 "nbformat": 4,
 "nbformat_minor": 2
}
