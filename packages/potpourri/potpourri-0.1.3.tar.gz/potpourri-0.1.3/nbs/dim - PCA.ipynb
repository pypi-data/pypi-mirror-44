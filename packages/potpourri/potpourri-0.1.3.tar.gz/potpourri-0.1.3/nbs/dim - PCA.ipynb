{
 "cells": [
  {
   "cell_type": "markdown",
   "metadata": {},
   "source": [
    "# Principal Component Analysis\n",
    "* `dim2` -- PCA Minka's MLE\n",
    "* `dim3` -- PCA required Explained Variance"
   ]
  },
  {
   "cell_type": "code",
   "execution_count": 1,
   "metadata": {},
   "outputs": [],
   "source": [
    "%load_ext autoreload\n",
    "%autoreload 2"
   ]
  },
  {
   "cell_type": "code",
   "execution_count": 2,
   "metadata": {},
   "outputs": [],
   "source": [
    "# add path\n",
    "import sys; import os; sys.path.append(os.path.realpath(\"../\"))\n",
    "import pandas as pd"
   ]
  },
  {
   "cell_type": "code",
   "execution_count": 3,
   "metadata": {},
   "outputs": [],
   "source": [
    "# demo datasets\n",
    "from datasets.demo1 import X_train, Y_train, fold_ids, X_valid, Y_valid, meta as meta_data\n",
    "#meta_data"
   ]
  },
  {
   "cell_type": "code",
   "execution_count": 4,
   "metadata": {},
   "outputs": [],
   "source": [
    "# transformer implementations\n",
    "typ = 'dim2'\n",
    "\n",
    "if typ is 'dim2':\n",
    "    from verto.dim2 import trans, meta\n",
    "elif typ is 'dim3':\n",
    "    from verto.dim3 import trans, meta\n",
    "    trans.set_params(**{'required_ev': 0.5})  # slowly increase from 0.1 towards 100%"
   ]
  },
  {
   "cell_type": "code",
   "execution_count": 5,
   "metadata": {},
   "outputs": [
    {
     "data": {
      "text/plain": [
       "{'id': 'dim2',\n",
       " 'name': 'PCA Minka MLE',\n",
       " 'description': \"Minka's MLE to guess n_components\",\n",
       " 'keywords': ['dimensionality reduction',\n",
       "  'principal component anlysis',\n",
       "  'StandardScaler',\n",
       "  'PCA',\n",
       "  'Minka MLE']}"
      ]
     },
     "execution_count": 5,
     "metadata": {},
     "output_type": "execute_result"
    }
   ],
   "source": [
    "meta"
   ]
  },
  {
   "cell_type": "code",
   "execution_count": 6,
   "metadata": {},
   "outputs": [
    {
     "data": {
      "text/plain": [
       "PcaMinka(prefix='minka')"
      ]
     },
     "execution_count": 6,
     "metadata": {},
     "output_type": "execute_result"
    }
   ],
   "source": [
    "trans  # __repr__"
   ]
  },
  {
   "cell_type": "code",
   "execution_count": 7,
   "metadata": {},
   "outputs": [
    {
     "name": "stdout",
     "output_type": "stream",
     "text": [
      "PcaMinka(prefix='minka')\n"
     ]
    }
   ],
   "source": [
    "print(trans)  # __str__"
   ]
  },
  {
   "cell_type": "markdown",
   "metadata": {},
   "source": [
    "## Transform"
   ]
  },
  {
   "cell_type": "code",
   "execution_count": 8,
   "metadata": {},
   "outputs": [
    {
     "name": "stdout",
     "output_type": "stream",
     "text": [
      "CPU times: user 18.6 ms, sys: 2.03 ms, total: 20.7 ms\n",
      "Wall time: 19.5 ms\n"
     ]
    },
    {
     "data": {
      "text/plain": [
       "PcaMinka(prefix='minka')"
      ]
     },
     "execution_count": 8,
     "metadata": {},
     "output_type": "execute_result"
    }
   ],
   "source": [
    "%%time\n",
    "trans.fit(X_train)"
   ]
  },
  {
   "cell_type": "code",
   "execution_count": 9,
   "metadata": {},
   "outputs": [
    {
     "name": "stdout",
     "output_type": "stream",
     "text": [
      "CPU times: user 1.74 ms, sys: 1.49 ms, total: 3.24 ms\n",
      "Wall time: 1.69 ms\n"
     ]
    }
   ],
   "source": [
    "%%time\n",
    "X_new = trans.transform(X_train)"
   ]
  },
  {
   "cell_type": "code",
   "execution_count": 10,
   "metadata": {},
   "outputs": [],
   "source": [
    "df_new = pd.DataFrame(data=X_new, columns=trans.feature_names_)"
   ]
  },
  {
   "cell_type": "markdown",
   "metadata": {},
   "source": [
    "## Evaluate\n",
    "- check if the PCA components are \"good\" predictors\n",
    "- eyeball the p-values of the logistic regression coefficients"
   ]
  },
  {
   "cell_type": "code",
   "execution_count": 11,
   "metadata": {},
   "outputs": [
    {
     "data": {
      "text/html": [
       "<div>\n",
       "<style scoped>\n",
       "    .dataframe tbody tr th:only-of-type {\n",
       "        vertical-align: middle;\n",
       "    }\n",
       "\n",
       "    .dataframe tbody tr th {\n",
       "        vertical-align: top;\n",
       "    }\n",
       "\n",
       "    .dataframe thead th {\n",
       "        text-align: right;\n",
       "    }\n",
       "</style>\n",
       "<table border=\"1\" class=\"dataframe\">\n",
       "  <thead>\n",
       "    <tr style=\"text-align: right;\">\n",
       "      <th></th>\n",
       "      <th>minka_0</th>\n",
       "      <th>minka_1</th>\n",
       "      <th>minka_2</th>\n",
       "      <th>minka_3</th>\n",
       "      <th>minka_4</th>\n",
       "      <th>minka_5</th>\n",
       "      <th>minka_6</th>\n",
       "      <th>minka_7</th>\n",
       "      <th>minka_8</th>\n",
       "      <th>minka_9</th>\n",
       "      <th>...</th>\n",
       "      <th>minka_19</th>\n",
       "      <th>minka_20</th>\n",
       "      <th>minka_21</th>\n",
       "      <th>minka_22</th>\n",
       "      <th>minka_23</th>\n",
       "      <th>minka_24</th>\n",
       "      <th>minka_25</th>\n",
       "      <th>minka_26</th>\n",
       "      <th>minka_27</th>\n",
       "      <th>minka_28</th>\n",
       "    </tr>\n",
       "  </thead>\n",
       "  <tbody>\n",
       "    <tr>\n",
       "      <th>0</th>\n",
       "      <td>-3.083984</td>\n",
       "      <td>-2.158203</td>\n",
       "      <td>-0.339844</td>\n",
       "      <td>-0.216675</td>\n",
       "      <td>1.544922</td>\n",
       "      <td>0.258057</td>\n",
       "      <td>0.571289</td>\n",
       "      <td>-0.137939</td>\n",
       "      <td>-0.100342</td>\n",
       "      <td>-0.269531</td>\n",
       "      <td>...</td>\n",
       "      <td>0.085938</td>\n",
       "      <td>-0.047119</td>\n",
       "      <td>0.070740</td>\n",
       "      <td>-0.029984</td>\n",
       "      <td>-0.083984</td>\n",
       "      <td>0.013786</td>\n",
       "      <td>-0.000401</td>\n",
       "      <td>-0.053009</td>\n",
       "      <td>0.030823</td>\n",
       "      <td>-0.013023</td>\n",
       "    </tr>\n",
       "    <tr>\n",
       "      <th>1</th>\n",
       "      <td>-2.183594</td>\n",
       "      <td>-0.617676</td>\n",
       "      <td>0.447266</td>\n",
       "      <td>-0.150879</td>\n",
       "      <td>2.859375</td>\n",
       "      <td>-0.353027</td>\n",
       "      <td>-0.098267</td>\n",
       "      <td>0.222168</td>\n",
       "      <td>-0.334961</td>\n",
       "      <td>-0.221436</td>\n",
       "      <td>...</td>\n",
       "      <td>0.087708</td>\n",
       "      <td>0.022522</td>\n",
       "      <td>-0.015366</td>\n",
       "      <td>-0.107239</td>\n",
       "      <td>-0.058014</td>\n",
       "      <td>0.070618</td>\n",
       "      <td>-0.030899</td>\n",
       "      <td>0.062744</td>\n",
       "      <td>0.045227</td>\n",
       "      <td>0.004559</td>\n",
       "    </tr>\n",
       "    <tr>\n",
       "      <th>2</th>\n",
       "      <td>2.050781</td>\n",
       "      <td>2.328125</td>\n",
       "      <td>1.168945</td>\n",
       "      <td>-1.814453</td>\n",
       "      <td>-0.115601</td>\n",
       "      <td>0.280762</td>\n",
       "      <td>0.211060</td>\n",
       "      <td>-0.176880</td>\n",
       "      <td>-0.740234</td>\n",
       "      <td>-0.214478</td>\n",
       "      <td>...</td>\n",
       "      <td>-0.048126</td>\n",
       "      <td>-0.083984</td>\n",
       "      <td>-0.183838</td>\n",
       "      <td>0.022339</td>\n",
       "      <td>0.027817</td>\n",
       "      <td>-0.056915</td>\n",
       "      <td>-0.176270</td>\n",
       "      <td>-0.029724</td>\n",
       "      <td>0.036804</td>\n",
       "      <td>0.004261</td>\n",
       "    </tr>\n",
       "    <tr>\n",
       "      <th>3</th>\n",
       "      <td>-2.808594</td>\n",
       "      <td>-0.950684</td>\n",
       "      <td>-0.305176</td>\n",
       "      <td>-0.380859</td>\n",
       "      <td>0.546875</td>\n",
       "      <td>1.203125</td>\n",
       "      <td>-0.277588</td>\n",
       "      <td>-0.093079</td>\n",
       "      <td>0.380371</td>\n",
       "      <td>0.372314</td>\n",
       "      <td>...</td>\n",
       "      <td>-0.007004</td>\n",
       "      <td>0.046143</td>\n",
       "      <td>-0.052399</td>\n",
       "      <td>-0.054749</td>\n",
       "      <td>0.038910</td>\n",
       "      <td>-0.038177</td>\n",
       "      <td>-0.007996</td>\n",
       "      <td>0.022980</td>\n",
       "      <td>0.006023</td>\n",
       "      <td>0.022491</td>\n",
       "    </tr>\n",
       "    <tr>\n",
       "      <th>4</th>\n",
       "      <td>-1.913086</td>\n",
       "      <td>-1.072266</td>\n",
       "      <td>0.498291</td>\n",
       "      <td>1.311523</td>\n",
       "      <td>-0.204224</td>\n",
       "      <td>0.064941</td>\n",
       "      <td>-0.051331</td>\n",
       "      <td>-0.019699</td>\n",
       "      <td>0.153931</td>\n",
       "      <td>-0.166260</td>\n",
       "      <td>...</td>\n",
       "      <td>-0.076294</td>\n",
       "      <td>-0.028442</td>\n",
       "      <td>0.053833</td>\n",
       "      <td>-0.118896</td>\n",
       "      <td>-0.095581</td>\n",
       "      <td>-0.017822</td>\n",
       "      <td>-0.066406</td>\n",
       "      <td>-0.013092</td>\n",
       "      <td>-0.007168</td>\n",
       "      <td>-0.005123</td>\n",
       "    </tr>\n",
       "  </tbody>\n",
       "</table>\n",
       "<p>5 rows × 29 columns</p>\n",
       "</div>"
      ],
      "text/plain": [
       "    minka_0   minka_1   minka_2   minka_3   minka_4   minka_5   minka_6  \\\n",
       "0 -3.083984 -2.158203 -0.339844 -0.216675  1.544922  0.258057  0.571289   \n",
       "1 -2.183594 -0.617676  0.447266 -0.150879  2.859375 -0.353027 -0.098267   \n",
       "2  2.050781  2.328125  1.168945 -1.814453 -0.115601  0.280762  0.211060   \n",
       "3 -2.808594 -0.950684 -0.305176 -0.380859  0.546875  1.203125 -0.277588   \n",
       "4 -1.913086 -1.072266  0.498291  1.311523 -0.204224  0.064941 -0.051331   \n",
       "\n",
       "    minka_7   minka_8   minka_9    ...     minka_19  minka_20  minka_21  \\\n",
       "0 -0.137939 -0.100342 -0.269531    ...     0.085938 -0.047119  0.070740   \n",
       "1  0.222168 -0.334961 -0.221436    ...     0.087708  0.022522 -0.015366   \n",
       "2 -0.176880 -0.740234 -0.214478    ...    -0.048126 -0.083984 -0.183838   \n",
       "3 -0.093079  0.380371  0.372314    ...    -0.007004  0.046143 -0.052399   \n",
       "4 -0.019699  0.153931 -0.166260    ...    -0.076294 -0.028442  0.053833   \n",
       "\n",
       "   minka_22  minka_23  minka_24  minka_25  minka_26  minka_27  minka_28  \n",
       "0 -0.029984 -0.083984  0.013786 -0.000401 -0.053009  0.030823 -0.013023  \n",
       "1 -0.107239 -0.058014  0.070618 -0.030899  0.062744  0.045227  0.004559  \n",
       "2  0.022339  0.027817 -0.056915 -0.176270 -0.029724  0.036804  0.004261  \n",
       "3 -0.054749  0.038910 -0.038177 -0.007996  0.022980  0.006023  0.022491  \n",
       "4 -0.118896 -0.095581 -0.017822 -0.066406 -0.013092 -0.007168 -0.005123  \n",
       "\n",
       "[5 rows x 29 columns]"
      ]
     },
     "execution_count": 11,
     "metadata": {},
     "output_type": "execute_result"
    }
   ],
   "source": [
    "df_new.head()"
   ]
  },
  {
   "cell_type": "code",
   "execution_count": 12,
   "metadata": {},
   "outputs": [
    {
     "name": "stdout",
     "output_type": "stream",
     "text": [
      "Optimization terminated successfully.    (Exit mode 0)\n",
      "            Current function value: 0.07083846334278182\n",
      "            Iterations: 190\n",
      "            Function evaluations: 190\n",
      "            Gradient evaluations: 190\n",
      "                           Logit Regression Results                           \n",
      "==============================================================================\n",
      "Dep. Variable:                      y   No. Observations:                  398\n",
      "Model:                          Logit   Df Residuals:                      382\n",
      "Method:                           MLE   Df Model:                           15\n",
      "Date:                Sun, 31 Mar 2019   Pseudo R-squ.:                  0.9237\n",
      "Time:                        13:23:29   Log-Likelihood:                -20.073\n",
      "converged:                       True   LL-Null:                       -263.17\n",
      "                                        LLR p-value:                 4.677e-94\n",
      "==============================================================================\n",
      "                 coef    std err          z      P>|z|      [0.025      0.975]\n",
      "------------------------------------------------------------------------------\n",
      "const               0        nan        nan        nan         nan         nan\n",
      "x1            -2.9807      0.517     -5.760      0.000      -3.995      -1.966\n",
      "x2             1.6947      0.360      4.714      0.000       0.990       2.399\n",
      "x3             0.4647      0.310      1.498      0.134      -0.143       1.073\n",
      "x4            -0.6858      0.270     -2.542      0.011      -1.215      -0.157\n",
      "x5             1.1425      0.364      3.139      0.002       0.429       1.856\n",
      "x6             0.4347      0.376      1.157      0.247      -0.302       1.171\n",
      "x7            -0.5806      0.592     -0.981      0.327      -1.741       0.580\n",
      "x8            -0.2355      0.524     -0.450      0.653      -1.262       0.791\n",
      "x9            -1.3514      0.794     -1.701      0.089      -2.908       0.205\n",
      "x10                 0        nan        nan        nan         nan         nan\n",
      "x11           -2.2891      0.859     -2.666      0.008      -3.972      -0.606\n",
      "x12           -0.1032      0.756     -0.137      0.891      -1.584       1.378\n",
      "x13            0.0840      1.183      0.071      0.943      -2.234       2.402\n",
      "x14            1.1599      1.117      1.038      0.299      -1.030       3.350\n",
      "x15                 0        nan        nan        nan         nan         nan\n",
      "x16           -0.8815      2.201     -0.400      0.689      -5.196       3.433\n",
      "x17                 0        nan        nan        nan         nan         nan\n",
      "x18                 0        nan        nan        nan         nan         nan\n",
      "x19           -2.1334      2.156     -0.989      0.322      -6.360       2.093\n",
      "x20                 0        nan        nan        nan         nan         nan\n",
      "x21                 0        nan        nan        nan         nan         nan\n",
      "x22                 0        nan        nan        nan         nan         nan\n",
      "x23                 0        nan        nan        nan         nan         nan\n",
      "x24                 0        nan        nan        nan         nan         nan\n",
      "x25           -0.0186      3.975     -0.005      0.996      -7.810       7.773\n",
      "x26                 0        nan        nan        nan         nan         nan\n",
      "x27                 0        nan        nan        nan         nan         nan\n",
      "x28                 0        nan        nan        nan         nan         nan\n",
      "x29                 0        nan        nan        nan         nan         nan\n",
      "==============================================================================\n",
      "\n",
      "Possibly complete quasi-separation: A fraction 0.40 of observations can be\n",
      "perfectly predicted. This might indicate that there is complete\n",
      "quasi-separation. In this case some parameters will not be identified.\n"
     ]
    },
    {
     "name": "stderr",
     "output_type": "stream",
     "text": [
      "/Users/uh/cfs/venv-3.6.2/lib/python3.6/site-packages/scipy/stats/_distn_infrastructure.py:879: RuntimeWarning: invalid value encountered in greater\n",
      "  return (self.a < x) & (x < self.b)\n",
      "/Users/uh/cfs/venv-3.6.2/lib/python3.6/site-packages/scipy/stats/_distn_infrastructure.py:879: RuntimeWarning: invalid value encountered in less\n",
      "  return (self.a < x) & (x < self.b)\n",
      "/Users/uh/cfs/venv-3.6.2/lib/python3.6/site-packages/scipy/stats/_distn_infrastructure.py:1821: RuntimeWarning: invalid value encountered in less_equal\n",
      "  cond2 = cond0 & (x <= self.a)\n"
     ]
    }
   ],
   "source": [
    "import statsmodels.api as sm\n",
    "#lr = sm.Logit(Y_train, sm.add_constant(X_new)).fit()\n",
    "lr = sm.Logit(Y_train, sm.add_constant(X_new)).fit_regularized(method='l1', alpha=.5)\n",
    "print(lr.summary())"
   ]
  },
  {
   "cell_type": "code",
   "execution_count": null,
   "metadata": {},
   "outputs": [],
   "source": []
  },
  {
   "cell_type": "code",
   "execution_count": null,
   "metadata": {},
   "outputs": [],
   "source": []
  },
  {
   "cell_type": "code",
   "execution_count": null,
   "metadata": {},
   "outputs": [],
   "source": []
  }
 ],
 "metadata": {
  "kernelspec": {
   "display_name": "Python 3",
   "language": "python",
   "name": "python3"
  },
  "language_info": {
   "codemirror_mode": {
    "name": "ipython",
    "version": 3
   },
   "file_extension": ".py",
   "mimetype": "text/x-python",
   "name": "python",
   "nbconvert_exporter": "python",
   "pygments_lexer": "ipython3",
   "version": "3.6.2"
  }
 },
 "nbformat": 4,
 "nbformat_minor": 2
}
