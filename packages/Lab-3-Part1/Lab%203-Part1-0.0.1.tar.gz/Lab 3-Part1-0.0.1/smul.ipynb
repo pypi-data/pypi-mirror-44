{
 "cells": [
  {
   "cell_type": "code",
   "execution_count": 1,
   "metadata": {},
   "outputs": [
    {
     "data": {
      "application/javascript": [
       "\n",
       "require(['notebook/js/codecell'], function(codecell) {\n",
       "  codecell.CodeCell.options_default.highlight_modes[\n",
       "      'magic_text/x-csrc'] = {'reg':[/^%%microblaze/]};\n",
       "  Jupyter.notebook.events.one('kernel_ready.Kernel', function(){\n",
       "      Jupyter.notebook.get_cells().map(function(cell){\n",
       "          if (cell.cell_type == 'code'){ cell.auto_highlight(); } }) ;\n",
       "  });\n",
       "});\n"
      ]
     },
     "metadata": {},
     "output_type": "display_data"
    }
   ],
   "source": [
    "import numpy as np\n",
    "\n",
    "from pynq import Overlay\n",
    "import pynq.lib.dma\n",
    "from pynq import Xlnk\n",
    "from pynq import MMIO\n",
    "\n",
    "import time\n",
    "import random\n",
    "\n",
    "ol = Overlay('/home/xilinx/jupyter_notebooks/smul/smul.bit') # check your path\n",
    "ol.download() # it downloads your bit to FPGA\n",
    "\n",
    "dma = ol.streamMul.smul_dma # creating a dma instance. Note that we packed smul and smul_dma into streamMul\n",
    "\n",
    "# sadd_ip = MMIO(0x43c00000, 0x10000) # we got this IP from Address Editor\n",
    "sadd_ip = ol.streamMul.smul.mmio\n",
    "\n",
    "xlnk = Xlnk()"
   ]
  },
  {
   "cell_type": "code",
   "execution_count": null,
   "metadata": {},
   "outputs": [],
   "source": [
    "length = 11\n",
    "\n",
    "in_buffer = xlnk.cma_array(shape=(length,), dtype=np.int32) # input buffer\n",
    "out_buffer = xlnk.cma_array(shape=(length,), dtype=np.int32) # output buffer\n",
    "\n",
    "samples = random.sample(range(0, length), length)\n",
    "np.copyto(in_buffer, samples) # copy samples to inout buffer\n",
    "\n",
    "sadd_ip.write(0x10, length) # we got this address from Vivado source\n",
    "\n",
    "t_start = time.time()\n",
    "dma.sendchannel.transfer(in_buffer)\n",
    "dma.recvchannel.transfer(out_buffer)\n",
    "dma.sendchannel.wait() # wait for send channel\n",
    "dma.recvchannel.wait() # wait for recv channel\n",
    "t_stop = time.time()\n",
    "\n",
    "in_buffer.close()\n",
    "out_buffer.close()\n",
    "\n",
    "print('Hardware execution time: ', t_stop-t_start)\n",
    "for i in range(0, length):\n",
    "    print('{}*2 = {}'.format(in_buffer[i], out_buffer[i]))"
   ]
  },
  {
   "cell_type": "code",
   "execution_count": 21,
   "metadata": {},
   "outputs": [
    {
     "data": {
      "text/plain": [
       "{'streamMul/smul': {'addr_range': 65536,\n",
       "  'fullpath': 'streamMul/smul',\n",
       "  'gpio': {},\n",
       "  'interrupts': {},\n",
       "  'phys_addr': 1136656384,\n",
       "  'state': None,\n",
       "  'type': 'xilinx.com:hls:smul:1.0'},\n",
       " 'streamMul/smul_dma': {'addr_range': 65536,\n",
       "  'fullpath': 'streamMul/smul_dma',\n",
       "  'gpio': {},\n",
       "  'interrupts': {},\n",
       "  'phys_addr': 1077936128,\n",
       "  'state': None,\n",
       "  'type': 'xilinx.com:ip:axi_dma:7.1'}}"
      ]
     },
     "execution_count": 21,
     "metadata": {},
     "output_type": "execute_result"
    }
   ],
   "source": [
    "ol.ip_dict"
   ]
  },
  {
   "cell_type": "code",
   "execution_count": null,
   "metadata": {},
   "outputs": [],
   "source": [
    "ol.streamMul.smul."
   ]
  }
 ],
 "metadata": {
  "kernelspec": {
   "display_name": "Python 3",
   "language": "python",
   "name": "python3"
  },
  "language_info": {
   "codemirror_mode": {
    "name": "ipython",
    "version": 3
   },
   "file_extension": ".py",
   "mimetype": "text/x-python",
   "name": "python",
   "nbconvert_exporter": "python",
   "pygments_lexer": "ipython3",
   "version": "3.6.5"
  }
 },
 "nbformat": 4,
 "nbformat_minor": 2
}
