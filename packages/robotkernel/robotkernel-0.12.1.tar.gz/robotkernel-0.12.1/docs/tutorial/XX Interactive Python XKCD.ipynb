{
 "cells": [
  {
   "cell_type": "markdown",
   "metadata": {},
   "source": [
    "# Interactive XKCD"
   ]
  },
  {
   "cell_type": "markdown",
   "metadata": {},
   "source": [
    "[ipywidgets documentation](Ihttps://ipywidgets.readthedocs.io/en/stable/examples/Using%20Interact.html)"
   ]
  },
  {
   "cell_type": "code",
   "execution_count": 8,
   "metadata": {},
   "outputs": [],
   "source": [
    "from ipywidgets import interact\n",
    "from ipywidgets import widgets\n",
    "from IPython.display import Image\n",
    "\n",
    "from requests import get"
   ]
  },
  {
   "cell_type": "code",
   "execution_count": 8,
   "metadata": {},
   "outputs": [],
   "source": [
    "def get_xkcd(num):\n",
    "    template = 'https://xkcd.com/{0:d}/info.0.json'\n",
    "    url = template.format(num)\n",
    "    json = get(url).json()\n",
    "    return Image(json['img'])"
   ]
  },
  {
   "cell_type": "code",
   "execution_count": null,
   "metadata": {},
   "outputs": [
    {
     "data": {
      "application/vnd.jupyter.widget-view+json": {
       "model_id": "00ec60067be842088a23ac78e2602a03",
       "version_major": 2,
       "version_minor": 0
      },
      "text/plain": [
       "interactive(children=(IntSlider(value=2098, continuous_update=False, description='num', max=2098, min=1), Outp…"
      ]
     },
     "metadata": {},
     "output_type": "display_data"
    }
   ],
   "source": [
    "last = get('https://xkcd.com/info.0.json').json()['num']\n",
    "widget = widgets.IntSlider(min=1, max=last, step=1, value=last,\n",
    "                          continuous_update=False)\n",
    "interact(get_xkcd, num=widget)"
   ]
  },
  {
   "cell_type": "markdown",
   "metadata": {},
   "source": [
    "The XKCD strip from https://xkcd.com/ is licensed under a Creative Commons Attribution-NonCommercial 2.5 License."
   ]
  }
 ],
 "metadata": {
  "kernelspec": {
   "display_name": "Python 3",
   "language": "python",
   "name": "python3"
  },
  "language_info": {
   "codemirror_mode": {
    "name": "ipython",
    "version": 3
   },
   "file_extension": ".py",
   "mimetype": "text/x-python",
   "name": "python",
   "nbconvert_exporter": "python",
   "pygments_lexer": "ipython3",
   "version": "3.7.2"
  }
 },
 "nbformat": 4,
 "nbformat_minor": 2
}
