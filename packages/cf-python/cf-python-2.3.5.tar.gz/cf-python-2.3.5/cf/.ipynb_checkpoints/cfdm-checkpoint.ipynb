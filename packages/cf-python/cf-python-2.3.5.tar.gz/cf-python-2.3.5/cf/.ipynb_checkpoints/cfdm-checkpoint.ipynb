{
 "cells": [
  {
   "cell_type": "markdown",
   "metadata": {},
   "source": [
    "# cfdm - a customisable reference implementation of the CF data model"
   ]
  },
  {
   "cell_type": "code",
   "execution_count": 1,
   "metadata": {
    "collapsed": true
   },
   "outputs": [],
   "source": [
    "import cfdm"
   ]
  },
  {
   "cell_type": "markdown",
   "metadata": {},
   "source": [
    "### Reading/writing is easy"
   ]
  },
  {
   "cell_type": "code",
   "execution_count": 2,
   "metadata": {
    "collapsed": false
   },
   "outputs": [
    {
     "name": "stdout",
     "output_type": "stream",
     "text": [
      "eastward_wind field summary\n",
      "---------------------------\n",
      "Data           : eastward_wind(atmosphere_hybrid_height_coordinate(1), grid_latitude(10), grid_longitude(9)) m s-1\n",
      "Cell methods   : grid_longitude: mean grid_latitude: max\n",
      "Axes           : atmosphere_hybrid_height_coordinate(1) = [1.5]\n",
      "               : grid_latitude(10) = [0.0, ..., 9.0] degrees\n",
      "               : grid_longitude(9) = [20.0, ..., 34.0] degrees\n",
      "Aux coords     : latitude(grid_latitude(10), grid_longitude(9)) = [[-45, ..., 44]] degree_N\n",
      "               : longitude(grid_longitude(9), grid_latitude(10)) = [[60, ..., 149]] degreesE\n",
      "               : greek_letters(grid_latitude(10)) = [--, ..., kappa]\n",
      "Cell measures  : area(grid_longitude(9), grid_latitude(10)) = [[1.0, ..., 109827.0]] km2\n",
      "Coord refs     : atmosphere_hybrid_height_coordinate\n",
      "               : rotated_latitude_longitude\n",
      "Domain ancils  : ncvar%atmosphere_hybrid_height_coordinate_ak(atmosphere_hybrid_height_coordinate(1)) = [10.0] m\n",
      "               : ncvar%atmosphere_hybrid_height_coordinate_bk(atmosphere_hybrid_height_coordinate(1)) = [20.0]\n",
      "               : surface_altitude(grid_latitude(10), grid_longitude(9)) = [[0.0, ..., 89.0]] m s-1\n",
      "Field ancils   : ancillaryB(grid_longitude(9)) = [0.0, ..., 8.0] m s-1\n",
      "               : ancillaryA(grid_latitude(10), grid_longitude(9)) = [[0.0, ..., 89.0]] m s-1\n",
      "               : ancillaryC(grid_latitude(10)) = [0.0, ..., 81.0] m s-1\n",
      "\n"
     ]
    }
   ],
   "source": [
    "f = cfdm.read('~/cf-python/testcfdm/test_file.nc')[0]\n",
    "print f"
   ]
  },
  {
   "cell_type": "code",
   "execution_count": 3,
   "metadata": {
    "collapsed": false
   },
   "outputs": [
    {
     "name": "stdout",
     "output_type": "stream",
     "text": [
      "eastward_wind field summary\n",
      "---------------------------\n",
      "Data           : eastward_wind(atmosphere_hybrid_height_coordinate(1), grid_latitude(10), grid_longitude(9)) m s-1\n",
      "Cell methods   : grid_longitude: mean grid_latitude: max\n",
      "Axes           : atmosphere_hybrid_height_coordinate(1) = [1.5]\n",
      "               : grid_latitude(10) = [0.0, ..., 9.0] degrees\n",
      "               : grid_longitude(9) = [20.0, ..., 34.0] degrees\n",
      "Aux coords     : latitude(grid_latitude(10), grid_longitude(9)) = [[-45, ..., 44]] degree_N\n",
      "               : longitude(grid_longitude(9), grid_latitude(10)) = [[60, ..., 149]] degreesE\n",
      "               : greek_letters(grid_latitude(10)) = [--, ..., kappa]\n",
      "Cell measures  : area(grid_longitude(9), grid_latitude(10)) = [[1.0, ..., 109827.0]] km2\n",
      "Coord refs     : atmosphere_hybrid_height_coordinate\n",
      "               : rotated_latitude_longitude\n",
      "Domain ancils  : ncvar%atmosphere_hybrid_height_coordinate_ak(atmosphere_hybrid_height_coordinate(1)) = [10.0] m\n",
      "               : ncvar%atmosphere_hybrid_height_coordinate_bk(atmosphere_hybrid_height_coordinate(1)) = [20.0]\n",
      "               : surface_altitude(grid_latitude(10), grid_longitude(9)) = [[0.0, ..., 89.0]] m s-1\n",
      "Field ancils   : ancillaryA(grid_latitude(10), grid_longitude(9)) = [[0.0, ..., 89.0]] m s-1\n",
      "               : ancillaryB(grid_longitude(9)) = [0.0, ..., 8.0] m s-1\n",
      "               : ancillaryC(grid_latitude(10)) = [0.0, ..., 81.0] m s-1\n",
      "\n"
     ]
    }
   ],
   "source": [
    "cfdm.write(f, '~/delete_me.nc')\n",
    "print cfdm.read('~/delete_me.nc')"
   ]
  },
  {
   "cell_type": "markdown",
   "metadata": {},
   "source": [
    "### Changing properties"
   ]
  },
  {
   "cell_type": "code",
   "execution_count": 4,
   "metadata": {
    "collapsed": false
   },
   "outputs": [
    {
     "data": {
      "text/plain": [
       "<CF Field: long_name:foobar(atmosphere_hybrid_height_coordinate(1), grid_latitude(10), grid_longitude(9)) m s-1>"
      ]
     },
     "execution_count": 4,
     "metadata": {},
     "output_type": "execute_result"
    }
   ],
   "source": [
    "del f.standard_name\n",
    "f.long_name = 'foobar'\n",
    "f"
   ]
  },
  {
   "cell_type": "markdown",
   "metadata": {},
   "source": [
    "### Creating a field is easy"
   ]
  },
  {
   "cell_type": "code",
   "execution_count": 5,
   "metadata": {
    "collapsed": true
   },
   "outputs": [],
   "source": [
    "g = cfdm.Field()\n",
    "g.standard_name = 'air_temperature'"
   ]
  },
  {
   "cell_type": "code",
   "execution_count": 6,
   "metadata": {
    "collapsed": false
   },
   "outputs": [
    {
     "name": "stdout",
     "output_type": "stream",
     "text": [
      "<CF DimensionCoordinate: (4) degrees_E>\n",
      "<CF DimensionCoordinate: (3) degrees_N>\n"
     ]
    }
   ],
   "source": [
    "x = cfdm.DimensionCoordinate(data=cfdm.Data([0, 1, 2, 3], 'degrees_E'))\n",
    "y = cfdm.DimensionCoordinate(data=cfdm.Data([4, 5, 6], 'degrees_N'))\n",
    "print repr(x)\n",
    "print repr(y)"
   ]
  },
  {
   "cell_type": "code",
   "execution_count": 7,
   "metadata": {
    "collapsed": false
   },
   "outputs": [
    {
     "name": "stdout",
     "output_type": "stream",
     "text": [
      "air_temperature field summary\n",
      "-----------------------------\n",
      "Axes           : axis%dim0(4) = [0, ..., 3] degrees_E\n",
      "               : axis%dim1(3) = [4, ..., 6] degrees_N\n",
      "\n"
     ]
    }
   ],
   "source": [
    "g.insert_dim(x)\n",
    "g.insert_dim(y)\n",
    "print g"
   ]
  },
  {
   "cell_type": "code",
   "execution_count": 8,
   "metadata": {
    "collapsed": false
   },
   "outputs": [
    {
     "name": "stdout",
     "output_type": "stream",
     "text": [
      "air_temperature field summary\n",
      "-----------------------------\n",
      "Data           : air_temperature(axis%dim0(4), axis%dim1(3)) K\n",
      "Axes           : axis%dim0(4) = [0, ..., 3] degrees_E\n",
      "               : axis%dim1(3) = [4, ..., 6] degrees_N\n",
      "\n"
     ]
    }
   ],
   "source": [
    "import numpy\n",
    "g.insert_data(cfdm.Data(numpy.arange(12).reshape(4, 3), 'K'))\n",
    "print g"
   ]
  },
  {
   "cell_type": "code",
   "execution_count": 9,
   "metadata": {
    "collapsed": false
   },
   "outputs": [
    {
     "data": {
      "text/plain": [
       "array([[ 0,  1,  2],\n",
       "       [ 3,  4,  5],\n",
       "       [ 6,  7,  8],\n",
       "       [ 9, 10, 11]])"
      ]
     },
     "execution_count": 9,
     "metadata": {},
     "output_type": "execute_result"
    }
   ],
   "source": [
    "g.array"
   ]
  },
  {
   "cell_type": "markdown",
   "metadata": {},
   "source": [
    "### Assignment to subspaces is possible"
   ]
  },
  {
   "cell_type": "code",
   "execution_count": 10,
   "metadata": {
    "collapsed": false
   },
   "outputs": [
    {
     "name": "stdout",
     "output_type": "stream",
     "text": [
      "[[99 99 99]\n",
      " [99 99 99]\n",
      " [99 99 99]\n",
      " [99 99 99]]\n"
     ]
    }
   ],
   "source": [
    "g[...] = 99\n",
    "print g.array"
   ]
  },
  {
   "cell_type": "markdown",
   "metadata": {},
   "source": [
    "### arithmetic and comparison is not defined on a field nor data object"
   ]
  },
  {
   "cell_type": "code",
   "execution_count": 11,
   "metadata": {
    "collapsed": false
   },
   "outputs": [
    {
     "ename": "TypeError",
     "evalue": "unsupported operand type(s) for +=: 'Field' and 'int'",
     "output_type": "error",
     "traceback": [
      "\u001b[0;31m---------------------------------------------------------------------------\u001b[0m",
      "\u001b[0;31mTypeError\u001b[0m                                 Traceback (most recent call last)",
      "\u001b[0;32m<ipython-input-11-bd8c11d9cfa4>\u001b[0m in \u001b[0;36m<module>\u001b[0;34m()\u001b[0m\n\u001b[0;32m----> 1\u001b[0;31m \u001b[0mg\u001b[0m\u001b[0;34m[\u001b[0m\u001b[0;34m.\u001b[0m\u001b[0;34m.\u001b[0m\u001b[0;34m.\u001b[0m\u001b[0;34m]\u001b[0m \u001b[0;34m+=\u001b[0m \u001b[0;34m-\u001b[0m\u001b[0;36m100\u001b[0m\u001b[0;34m\u001b[0m\u001b[0m\n\u001b[0m",
      "\u001b[0;31mTypeError\u001b[0m: unsupported operand type(s) for +=: 'Field' and 'int'"
     ]
    }
   ],
   "source": [
    "g[...] += -100"
   ]
  },
  {
   "cell_type": "code",
   "execution_count": 12,
   "metadata": {
    "collapsed": false
   },
   "outputs": [
    {
     "ename": "TypeError",
     "evalue": "unsupported operand type(s) for +: 'Field' and 'int'",
     "output_type": "error",
     "traceback": [
      "\u001b[0;31m---------------------------------------------------------------------------\u001b[0m",
      "\u001b[0;31mTypeError\u001b[0m                                 Traceback (most recent call last)",
      "\u001b[0;32m<ipython-input-12-a19bc6e8a288>\u001b[0m in \u001b[0;36m<module>\u001b[0;34m()\u001b[0m\n\u001b[0;32m----> 1\u001b[0;31m \u001b[0mg\u001b[0m \u001b[0;34m+\u001b[0m \u001b[0;36m2\u001b[0m\u001b[0;34m\u001b[0m\u001b[0m\n\u001b[0m",
      "\u001b[0;31mTypeError\u001b[0m: unsupported operand type(s) for +: 'Field' and 'int'"
     ]
    }
   ],
   "source": [
    "g + 2"
   ]
  },
  {
   "cell_type": "markdown",
   "metadata": {},
   "source": [
    "### Units are not accounted for "
   ]
  },
  {
   "cell_type": "code",
   "execution_count": 13,
   "metadata": {
    "collapsed": false
   },
   "outputs": [
    {
     "name": "stdout",
     "output_type": "stream",
     "text": [
      "[[99 99 99]\n",
      " [99 99 99]\n",
      " [99 99 99]\n",
      " [99 99 99]]\n",
      "air_temperature field summary\n",
      "-----------------------------\n",
      "Data           : air_temperature(axis%dim0(4), axis%dim1(3)) m s-1\n",
      "Axes           : axis%dim0(4) = [0, ..., 3] degrees_E\n",
      "               : axis%dim1(3) = [4, ..., 6] degrees_N\n",
      "\n"
     ]
    }
   ],
   "source": [
    "g.Units = cfdm.Units('m s-1')\n",
    "print g.array\n",
    "print g"
   ]
  },
  {
   "cell_type": "code",
   "execution_count": null,
   "metadata": {
    "collapsed": true
   },
   "outputs": [],
   "source": []
  },
  {
   "cell_type": "code",
   "execution_count": null,
   "metadata": {
    "collapsed": true
   },
   "outputs": [],
   "source": []
  }
 ],
 "metadata": {
  "kernelspec": {
   "display_name": "Python 2",
   "language": "python",
   "name": "python2"
  },
  "language_info": {
   "codemirror_mode": {
    "name": "ipython",
    "version": 2
   },
   "file_extension": ".py",
   "mimetype": "text/x-python",
   "name": "python",
   "nbconvert_exporter": "python",
   "pygments_lexer": "ipython2",
   "version": "2.7.13"
  }
 },
 "nbformat": 4,
 "nbformat_minor": 2
}
