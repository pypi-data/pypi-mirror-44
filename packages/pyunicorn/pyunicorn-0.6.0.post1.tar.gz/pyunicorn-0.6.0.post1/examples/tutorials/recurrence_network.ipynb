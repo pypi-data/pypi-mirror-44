{
 "cells": [
  {
   "cell_type": "markdown",
   "metadata": {},
   "source": [
    "# Recurrence Network Tutorial\n",
    "Tutorial on how to handle recurrence plots and recurrence networks using\n",
    "Python, based on the timeseries package.\n",
    "\n",
    "Written as part of a PhD thesis in Physics by Jonathan F. Donges\n",
    "(donges@pik-potsdam.de) at the Potsdam Institute of Climate Impact Research\n",
    "(PIK) and Humboldt University Berlin,\n",
    "\n",
    "Copyright 2008-2019."
   ]
  },
  {
   "cell_type": "markdown",
   "metadata": {},
   "source": [
    "Create, print and plot a time series using the logistic map"
   ]
  },
  {
   "cell_type": "code",
   "execution_count": null,
   "metadata": {
    "scrolled": true
   },
   "outputs": [],
   "source": [
    "import pylab\n",
    "import numpy as np\n",
    "\n",
    "def logistic_map(x0, r, T):\n",
    "    \"\"\"\n",
    "    Returns a time series of length T using the logistic map\n",
    "    x_(n+1) = r*x_n(1-x_n) at parameter r and using the initial condition x0.\n",
    "\n",
    "    INPUT: x0 - Initial condition, 0 <= x0 <= 1\n",
    "            r - Bifurcation parameter, 0 <= r <= 4\n",
    "            T - length of the desired time series\n",
    "    TODO: Cythonize\n",
    "    \"\"\"\n",
    "    #  Initialize the time series array\n",
    "    timeSeries = np.empty(T)\n",
    "\n",
    "    timeSeries[0] = x0\n",
    "    for i in range(1, len(timeSeries)):\n",
    "        xn = timeSeries[i-1]\n",
    "        timeSeries[i] = r * xn * (1 - xn)\n",
    "\n",
    "    return timeSeries\n",
    "\n",
    "#  Parameters of logistic map\n",
    "r = 3.679  # Bifurcation parameter\n",
    "x0 = 0.7   # Initial value\n",
    "\n",
    "#  Length of the time series\n",
    "T = 150\n",
    "\n",
    "time_series = logistic_map(x0, r, T)\n",
    "#  Print the time series\n",
    "print(time_series)\n",
    "#  Plot the time series\n",
    "pylab.plot(time_series, \"r\")\n",
    "#  You can include LaTex labels...\n",
    "pylab.xlabel(\"$n$\")\n",
    "pylab.ylabel(\"$x_n$\")"
   ]
  },
  {
   "cell_type": "markdown",
   "metadata": {},
   "source": [
    "Generate and plot a recurrence plot object with fixed recurrence threshold EPS"
   ]
  },
  {
   "cell_type": "code",
   "execution_count": null,
   "metadata": {},
   "outputs": [],
   "source": [
    "from pyunicorn.timeseries import RecurrencePlot\n",
    "\n",
    "#  Settings for the embedding\n",
    "DIM = 1  # Embedding dimension\n",
    "TAU = 0  # Embedding delay\n",
    "\n",
    "# Distance metric in phase space ->\n",
    "# Possible choices (\"manhattan\",\"euclidean\",\"supremum\")\n",
    "METRIC = \"supremum\"\n",
    "\n",
    "EPS = 0.05  # Fixed recurrence threshold\n",
    "\n",
    "rp = RecurrencePlot(time_series, dim=DIM, tau=TAU, metric=METRIC,\n",
    "                    normalize=False, threshold=EPS)\n",
    "\n",
    "pylab.matshow(rp.recurrence_matrix())\n",
    "pylab.xlabel(\"$n$\")\n",
    "pylab.ylabel(\"$n$\")\n",
    "pylab.show()"
   ]
  },
  {
   "cell_type": "markdown",
   "metadata": {},
   "source": [
    "Calculate and print the recurrence rate and some standard RQA measures"
   ]
  },
  {
   "cell_type": "code",
   "execution_count": null,
   "metadata": {},
   "outputs": [],
   "source": [
    "RR = rp.recurrence_rate()\n",
    "DET = rp.determinism(l_min=2)\n",
    "LAM = rp.laminarity(v_min=2)\n",
    "\n",
    "print(\"Recurrence rate:\", RR)\n",
    "print(\"Determinism:\", DET)\n",
    "print(\"Laminarity:\", LAM)"
   ]
  },
  {
   "cell_type": "markdown",
   "metadata": {},
   "source": [
    "Generate and plot another recurrence plot object with fixed recurrence rate RR"
   ]
  },
  {
   "cell_type": "code",
   "execution_count": null,
   "metadata": {
    "scrolled": true
   },
   "outputs": [],
   "source": [
    "RR = 0.05   # Fixed recurrence rate\n",
    "\n",
    "rp = RecurrencePlot(time_series, dim=DIM, tau=TAU, metric=METRIC,\n",
    "                    normalize=False, recurrence_rate=RR)\n",
    "\n",
    "pylab.matshow(rp.recurrence_matrix())\n",
    "pylab.xlabel(\"$n$\")\n",
    "pylab.ylabel(\"$n$\")\n",
    "pylab.show()"
   ]
  },
  {
   "cell_type": "markdown",
   "metadata": {},
   "source": [
    "Check the recurrence rate and calculate some standard RQA measures"
   ]
  },
  {
   "cell_type": "code",
   "execution_count": null,
   "metadata": {},
   "outputs": [],
   "source": [
    "RR = rp.recurrence_rate()\n",
    "DET = rp.determinism(l_min=2)\n",
    "LAM = rp.laminarity(v_min=2)\n",
    "\n",
    "print(\"Recurrence rate:\", RR)\n",
    "print(\"Determinism:\", DET)\n",
    "print(\"Laminarity:\", LAM)"
   ]
  },
  {
   "cell_type": "markdown",
   "metadata": {},
   "source": [
    "Generate a recurrence network and calculate some measures of the network"
   ]
  },
  {
   "cell_type": "code",
   "execution_count": null,
   "metadata": {},
   "outputs": [],
   "source": [
    "from pyunicorn.timeseries import RecurrenceNetwork\n",
    "\n",
    "rn = RecurrenceNetwork(time_series, dim=DIM, tau=TAU, metric=METRIC,\n",
    "                       normalize=False, recurrence_rate=RR)\n",
    "\n",
    "L = rn.average_path_length()\n",
    "T = rn.transitivity()\n",
    "C = rn.global_clustering()\n",
    "R = rn.assortativity()\n",
    "\n",
    "print(\"Average path length:\", L)\n",
    "print(\"Transitivity:\", T)\n",
    "print(\"Global clustering:\", C)\n",
    "print(\"Assortativity:\", R)"
   ]
  }
 ],
 "metadata": {
  "kernelspec": {
   "display_name": "Python 3",
   "language": "python",
   "name": "python3"
  },
  "language_info": {
   "codemirror_mode": {
    "name": "ipython",
    "version": 3
   },
   "file_extension": ".py",
   "mimetype": "text/x-python",
   "name": "python",
   "nbconvert_exporter": "python",
   "pygments_lexer": "ipython3",
   "version": "3.6.6"
  }
 },
 "nbformat": 4,
 "nbformat_minor": 2
}
