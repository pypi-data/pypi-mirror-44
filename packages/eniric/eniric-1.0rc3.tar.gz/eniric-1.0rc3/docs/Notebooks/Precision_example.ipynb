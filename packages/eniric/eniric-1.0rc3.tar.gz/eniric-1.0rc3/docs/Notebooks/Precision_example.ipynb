{
 "cells": [
  {
   "cell_type": "markdown",
   "metadata": {},
   "source": [
    "# Example how to calculate the RV precision"
   ]
  },
  {
   "cell_type": "markdown",
   "metadata": {},
   "source": [
    "Simple example of how to calculate precision, No convolution or SNR scaling is preformed."
   ]
  },
  {
   "cell_type": "code",
   "execution_count": 1,
   "metadata": {
    "scrolled": true
   },
   "outputs": [],
   "source": [
    "import os\n",
    "\n",
    "import matplotlib.pyplot as plt\n",
    "\n",
    "from eniric import config, precision"
   ]
  },
  {
   "cell_type": "code",
   "execution_count": 2,
   "metadata": {},
   "outputs": [
    {
     "name": "stdout",
     "output_type": "stream",
     "text": [
      "..\\..\\data\\test_data\\phoenix-raw\n",
      "1569128\n"
     ]
    }
   ],
   "source": [
    "# Load a spectrum\n",
    "from astropy.io import fits\n",
    "\n",
    "test_data = config.paths[\"phoenix_raw\"]\n",
    "print(test_data)\n",
    "\n",
    "wav = fits.getdata(os.path.join(test_data, \"WAVE_PHOENIX-ACES-AGSS-COND-2011.fits\"))\n",
    "flux = fits.getdata(\n",
    "    os.path.join(\n",
    "        test_data, \"Z-0.0\", \"lte03900-4.50-0.0.PHOENIX-ACES-AGSS-COND-2011-HiRes.fits\"\n",
    "    )\n",
    ")\n",
    "# This is a bit long\n",
    "print(len(flux))"
   ]
  },
  {
   "cell_type": "code",
   "execution_count": 3,
   "metadata": {},
   "outputs": [
    {
     "name": "stdout",
     "output_type": "stream",
     "text": [
      "10001\n"
     ]
    }
   ],
   "source": [
    "# Take a section of wavelength\n",
    "xmin = 2000  # nm\n",
    "xmax = 3000  # nm\n",
    "mask = (wav >= xmin) & (wav <= xmax)\n",
    "wav = wav[mask]\n",
    "flux = flux[mask]\n",
    "\n",
    "print(len(flux))"
   ]
  },
  {
   "cell_type": "code",
   "execution_count": 4,
   "metadata": {},
   "outputs": [
    {
     "name": "stdout",
     "output_type": "stream",
     "text": [
      "RV precision between 2000-3000nm = 0.000416 m / s\n"
     ]
    }
   ],
   "source": [
    "# Calculate precision with no masking and without scaling\n",
    "rv_precision = precision.rv_precision(wavelength=wav, flux=flux)\n",
    "\n",
    "print(f\"RV precision between {xmin}-{xmax}nm = {rv_precision:1.6f}\")"
   ]
  },
  {
   "cell_type": "markdown",
   "metadata": {},
   "source": [
    "This precision has not been scaled to a specific flux/SNR level."
   ]
  },
  {
   "cell_type": "code",
   "execution_count": 5,
   "metadata": {},
   "outputs": [
    {
     "name": "stdout",
     "output_type": "stream",
     "text": [
      "Spectral quality between 2000-3000nm = 21490.5\n"
     ]
    }
   ],
   "source": [
    "# Calculate spectral quality also with no masking and without scaling\n",
    "quality = precision.quality(wavelength=wav, flux=flux)\n",
    "\n",
    "print(f\"Spectral quality between {xmin}-{xmax}nm = {quality:7.1f}\")"
   ]
  },
  {
   "cell_type": "markdown",
   "metadata": {},
   "source": [
    "## Scaling Effects\n",
    "Scaling the flux of the spectrum affects the RV precision, Need to scale to known SNR level for relative comparisions."
   ]
  },
  {
   "cell_type": "code",
   "execution_count": 6,
   "metadata": {},
   "outputs": [
    {
     "data": {
      "image/png": "[encoded data removed]",
      "text/plain": [
       "<Figure size 432x288 with 1 Axes>"
      ]
     },
     "metadata": {
      "needs_background": "light"
     },
     "output_type": "display_data"
    }
   ],
   "source": [
    "# The precision needs to be scaled to the relative SNR.\n",
    "# 1/1e6 scales the test data flux to give sensible numbers here.\n",
    "scales = [0.1, 0.2, 0.5, 2, 5, 10]\n",
    "prec = [\n",
    "    precision.rv_precision(wavelength=wav, flux=flux / 1e6 * scale).value\n",
    "    for scale in scales\n",
    "]\n",
    "\n",
    "plt.plot(scales, prec)\n",
    "plt.xlabel(\"Flux scale\")\n",
    "plt.ylabel(\"Precision (m/s)\")\n",
    "plt.show()"
   ]
  },
  {
   "cell_type": "code",
   "execution_count": null,
   "metadata": {},
   "outputs": [],
   "source": []
  }
 ],
 "metadata": {
  "kernelspec": {
   "display_name": "Python 3",
   "language": "python",
   "name": "python3"
  },
  "language_info": {
   "codemirror_mode": {
    "name": "ipython",
    "version": 3
   },
   "file_extension": ".py",
   "mimetype": "text/x-python",
   "name": "python",
   "nbconvert_exporter": "python",
   "pygments_lexer": "ipython3",
   "version": "3.6.6"
  }
 },
 "nbformat": 4,
 "nbformat_minor": 2
}
