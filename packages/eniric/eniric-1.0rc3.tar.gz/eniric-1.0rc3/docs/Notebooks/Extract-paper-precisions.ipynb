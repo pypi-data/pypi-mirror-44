{
 "cells": [
  {
   "cell_type": "markdown",
   "metadata": {},
   "source": [
    "# Extract Precisions with tabular\n",
    "This notebook requires [tabula-py](https://pypi.org/project/tabula-py/) and Java to be installed.\n",
    "\n",
    "It uses tabular to extract the RV precision from the appendix table of the previous paper [docs/Figueira_etal_2016.pdf](https://github.com/jason-neal/eniric/blob/master/docs/Figueira_etal_2016.pdf).\n"
   ]
  },
  {
   "cell_type": "code",
   "execution_count": null,
   "metadata": {},
   "outputs": [],
   "source": [
    "import sys\n",
    "\n",
    "import pandas as pd\n",
    "import tabula\n",
    "from tabula import read_pdf\n",
    "\n",
    "# Tabular needs java 6 or 7!\n",
    "# This is a hack may not work everywhere.\n",
    "# I included it because my system java is version 9.\n",
    "# You will need to point to own location of java.\n",
    "# https://stackoverflow.com/questions/31414041/how-to-prepend-a-path-to-sys-path-in-python\n",
    "\n",
    "# May need to manually prepend java location\n",
    "# using export to PATH before launching jupyter\n",
    "\n",
    "sys.path = [\"/opt/java/jre1.7.0_79/bin\"] + sys.path"
   ]
  },
  {
   "cell_type": "code",
   "execution_count": null,
   "metadata": {},
   "outputs": [],
   "source": [
    "# Specify paper\n",
    "paper = \"../Figueira_etal_2016.pdf\"\n",
    "pages = [15, 16, 17]"
   ]
  },
  {
   "cell_type": "code",
   "execution_count": null,
   "metadata": {},
   "outputs": [],
   "source": [
    "# Read in the table from the pdf\n",
    "df = read_pdf(paper, pages=pages, guess=True)"
   ]
  },
  {
   "cell_type": "code",
   "execution_count": null,
   "metadata": {},
   "outputs": [],
   "source": [
    "# There is an extra line of headings which need removed.\n",
    "# There is also a couple more futher in the data from \n",
    "# the top of each table as it spans 3 pages.\n",
    "df.head()"
   ]
  },
  {
   "cell_type": "code",
   "execution_count": null,
   "metadata": {},
   "outputs": [],
   "source": [
    "# Remove mistakenly added title rows\n",
    "# Easily done beacuse they do not start with \"M\"\n",
    "df = df[df.Simulation.str.startswith(\"M\")]\n",
    "df.head()"
   ]
  },
  {
   "cell_type": "code",
   "execution_count": null,
   "metadata": {},
   "outputs": [],
   "source": [
    "# Format the column names\n",
    "print(df.columns)\n",
    "df.columns = df.columns.str.replace(\" \", \"_\")\n",
    "df.columns = df.columns.str.replace(\"σ\", \"\")\n",
    "df.columns = df.columns.str.replace(\"(\", \"\")\n",
    "df.columns = df.columns.str.replace(\")\", \"\")\n",
    "df.columns = df.columns.str.replace(\".\", \"\")\n",
    "df.columns"
   ]
  },
  {
   "cell_type": "code",
   "execution_count": null,
   "metadata": {},
   "outputs": [],
   "source": [
    "# Turing RV precision values to floats\n",
    "print(\"Before:\\n\", df.dtypes)\n",
    "\n",
    "df[\"RV_Cond_1\"] = df.RV_Cond_1.astype(float)\n",
    "df[\"RV_Cond_2\"] = df.RV_Cond_2.astype(float)\n",
    "df[\"RV_Cond_3\"] = df.RV_Cond_3.astype(float)\n",
    "\n",
    "print(\"\\nAfter:\\n\", df.dtypes)"
   ]
  },
  {
   "cell_type": "code",
   "execution_count": null,
   "metadata": {},
   "outputs": [],
   "source": [
    "# Add units to headers to save\n",
    "hdr = df.columns\n",
    "new_header = [\n",
    "    hdr[0],\n",
    "    hdr[1] + \"[m/s]\",\n",
    "    hdr[2] + \"[m/s]\",\n",
    "    hdr[3] + \"[m/s]\",\n",
    "]  # Adjust header to save results\n",
    "new_header"
   ]
  },
  {
   "cell_type": "code",
   "execution_count": null,
   "metadata": {},
   "outputs": [],
   "source": [
    "# Save Results to file\n",
    "f = \"../../data/precision_figueira_2016.dat\"\n",
    "\n",
    "df.to_csv(f, mode=\"w\", sep=\"\\t\", float_format=\"%6.2f\", header=new_header, index=False)"
   ]
  },
  {
   "cell_type": "code",
   "execution_count": null,
   "metadata": {},
   "outputs": [],
   "source": [
    "# Check read in\n",
    "newdf = pd.read_csv(f, sep=\"\\t\")\n",
    "\n",
    "newdf.head()"
   ]
  },
  {
   "cell_type": "markdown",
   "metadata": {},
   "source": [
    "This has successfully imported the precision value from the Figueira et al. (2016) appendix."
   ]
  }
 ],
 "metadata": {
  "anaconda-cloud": {},
  "kernelspec": {
   "display_name": "Python 3",
   "language": "python",
   "name": "python3"
  },
  "language_info": {
   "codemirror_mode": {
    "name": "ipython",
    "version": 3
   },
   "file_extension": ".py",
   "mimetype": "text/x-python",
   "name": "python",
   "nbconvert_exporter": "python",
   "pygments_lexer": "ipython3",
   "version": "3.6.6"
  }
 },
 "nbformat": 4,
 "nbformat_minor": 2
}
