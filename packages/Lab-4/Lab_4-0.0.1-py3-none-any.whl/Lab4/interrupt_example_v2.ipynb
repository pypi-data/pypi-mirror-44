{
 "cells": [
  {
   "cell_type": "code",
   "execution_count": 1,
   "metadata": {},
   "outputs": [
    {
     "data": {
      "application/javascript": [
       "\n",
       "require(['notebook/js/codecell'], function(codecell) {\n",
       "  codecell.CodeCell.options_default.highlight_modes[\n",
       "      'magic_text/x-csrc'] = {'reg':[/^%%microblaze/]};\n",
       "  Jupyter.notebook.events.one('kernel_ready.Kernel', function(){\n",
       "      Jupyter.notebook.get_cells().map(function(cell){\n",
       "          if (cell.cell_type == 'code'){ cell.auto_highlight(); } }) ;\n",
       "  });\n",
       "});\n"
      ]
     },
     "metadata": {},
     "output_type": "display_data"
    }
   ],
   "source": [
    "from pynq import Overlay\n",
    "import asyncio\n",
    "from psutil import cpu_percent\n",
    "\n",
    "ol = Overlay(\"fact_intrpt.bit\") #assumes you have the overlay bitstream in the current directory"
   ]
  },
  {
   "cell_type": "code",
   "execution_count": null,
   "metadata": {},
   "outputs": [],
   "source": [
    "ol.ip_dict"
   ]
  },
  {
   "cell_type": "markdown",
   "metadata": {},
   "source": [
    "# IP address map\n",
    "You need to set up the interrupt controller in Vivado and get this information from there."
   ]
  },
  {
   "cell_type": "raw",
   "metadata": {},
   "source": [
    "------------------------Address Info-------------------\n",
    " 0x00 : Control signals\n",
    "        bit 0  - ap_start (Read/Write/COH)\n",
    "        bit 1  - ap_done (Read/COR)\n",
    "        bit 2  - ap_idle (Read)\n",
    "        bit 3  - ap_ready (Read)\n",
    "        bit 7  - auto_restart (Read/Write)\n",
    "        others - reserved\n",
    " 0x04 : Global Interrupt Enable Register\n",
    "        bit 0  - Global Interrupt Enable (Read/Write)\n",
    "        others - reserved\n",
    " 0x08 : IP Interrupt Enable Register (Read/Write)\n",
    "        bit 0  - Channel 0 (ap_done)\n",
    "        bit 1  - Channel 1 (ap_ready)\n",
    "        others - reserved\n",
    " 0x0c : IP Interrupt Status Register (Read/TOW)\n",
    "        bit 0  - Channel 0 (ap_done)\n",
    "        bit 1  - Channel 1 (ap_ready)\n",
    "        others - reserved\n",
    " 0x10 : Data signal of out_r\n",
    "        bit 31~0 - out_r[31:0] (Read)\n",
    " 0x14 : Control signal of out_r\n",
    "        bit 0  - out_r_ap_vld (Read/COR)\n",
    "        others - reserved\n",
    " 0x18 : Data signal of in_r\n",
    "        bit 31~0 - in_r[31:0] (Read/Write)\n",
    " 0x1c : reserved\n",
    " (SC = Self Clear, COR = Clear on Read, TOW = Toggle on Write, COH = Clear on Handshake)"
   ]
  },
  {
   "cell_type": "code",
   "execution_count": 2,
   "metadata": {},
   "outputs": [],
   "source": [
    "# IP's addresses\n",
    "IP_CTRL = 0x00\n",
    "AP_START = 0x1\n",
    "GIER = 0x04\n",
    "IP_IER = 0x08\n",
    "IP_ISR = 0x0C\n",
    "INTRPT_AP_DONE = 0x1\n",
    "INTRPT_AP_READY = 0x2\n",
    "OUT_REG = 0x10\n",
    "INP_REG = 0x18\n",
    "\n",
    "_INTRPT = INTRPT_AP_DONE \n",
    "\n",
    "fact_ip = ol.fact_intrpt\n",
    "fact_ip.write(GIER, 0x1)\n",
    "fact_ip.write(IP_IER, 0x3) #fix me"
   ]
  },
  {
   "cell_type": "code",
   "execution_count": 5,
   "metadata": {},
   "outputs": [
    {
     "name": "stdout",
     "output_type": "stream",
     "text": [
      "Interrupt received. Status register: 2\n",
      "interrupt received AP_READY\n",
      "Interrupt received. Status register: 2\n",
      "interrupt received AP_READY\n",
      "Interrupt received. Status register: 3\n",
      "interrupt received AP_DONE, out = 1\n",
      "Interrupt received. Status register: 3\n",
      "interrupt received AP_DONE, out = 2\n",
      "Interrupt received. Status register: 3\n",
      "interrupt received AP_DONE, out = 6\n",
      "Interrupt received. Status register: 3\n",
      "interrupt received AP_DONE, out = 24\n",
      "Interrupt received. Status register: 3\n",
      "interrupt received AP_DONE, out = 120\n",
      "Interrupt received. Status register: 3\n",
      "interrupt received AP_DONE, out = 720\n",
      "Interrupt received. Status register: 3\n",
      "interrupt received AP_DONE, out = 5040\n",
      "Interrupt received. Status register: 3\n",
      "interrupt received AP_DONE, out = 40320\n",
      "Interrupt received. Status register: 3\n",
      "interrupt received AP_DONE, out = 362880\n",
      "Interrupt received. Status register: 3\n",
      "interrupt received AP_DONE, out = 3628800\n",
      "Interrupt received. Status register: 3\n",
      "interrupt received AP_DONE, out = 39916800\n",
      "Interrupt received. Status register: 3\n",
      "interrupt received AP_DONE, out = 479001600\n",
      "Interrupt received. Status register: 3\n",
      "interrupt received AP_DONE, out = 1932053504\n",
      "Interrupt received. Status register: 3\n",
      "interrupt received AP_DONE, out = 1278945280\n",
      "Interrupt received. Status register: 3\n",
      "interrupt received AP_DONE, out = 2004310016\n",
      "Interrupt received. Status register: 3\n",
      "interrupt received AP_DONE, out = 2004189184\n",
      "Interrupt received. Status register: 3\n",
      "interrupt received AP_DONE, out = 4006445056\n",
      "Interrupt received. Status register: 3\n",
      "interrupt received AP_DONE, out = 3396534272\n",
      "Interrupt received. Status register: 3\n",
      "interrupt received AP_DONE, out = 109641728\n",
      "Interrupt received. Status register: 3\n",
      "interrupt received AP_DONE, out = 2192834560\n",
      "CPU Utilization = [44.4, 60.0]\n"
     ]
    },
    {
     "data": {
      "text/plain": [
       "True"
      ]
     },
     "execution_count": 5,
     "metadata": {},
     "output_type": "execute_result"
    }
   ],
   "source": [
    "import asyncio\n",
    "import time  \n",
    "from datetime import datetime\n",
    "import math\n",
    "\n",
    "# You may want to comment out print statements in the read_ip and write_wait coroutines\n",
    "\n",
    "# Coroutine that waits for an IP to be done.\n",
    "async def read_ip(ip):\n",
    "    while True:\n",
    "        # Wait for the IP to finish.\n",
    "        await ip.interrupt.wait()\n",
    "        print('Interrupt received. Status register: {}'.format(ip.read(IP_ISR)))\n",
    "        # Clear the interrupt and then print output's value.\n",
    "        if (ip.read(IP_ISR) & INTRPT_AP_DONE):\n",
    "            ip.write(IP_ISR, INTRPT_AP_DONE)\n",
    "            print('interrupt received AP_DONE, out = {}'.format(ip.read(OUT_REG)))\n",
    "        elif (ip.read(IP_ISR) & INTRPT_AP_READY):\n",
    "            print('interrupt received AP_READY')\n",
    "\n",
    "# Make a task from the read_ip coroutine and add it to the event loop\n",
    "ip_task = asyncio.ensure_future(read_ip(fact_ip))\n",
    "    \n",
    "# Coroutine for writing input and starting the IP with delay\n",
    "async def write_wait(interval):\n",
    "    await asyncio.sleep(interval) #wait initial time\n",
    "    factorial_input = 1\n",
    "    #while True: #uncomment if you want to run forever\n",
    "    for i in range(20): #uncomment if you want to run a limited number of times\n",
    "        # write to input\n",
    "        fact_ip.write(INP_REG, factorial_input) \n",
    "        currtime = time.time()\n",
    "        fact_ip.write(IP_CTRL, AP_START) \n",
    "#         print(\"input {} started at time {}\".format(factorial_input, currtime))\n",
    "        await asyncio.sleep(interval)\n",
    "        factorial_input += 1\n",
    "         \n",
    "# Run the event loop until the time interval expires\n",
    "time_interval = .0001  # time in seconds\n",
    "loop = asyncio.get_event_loop()\n",
    "write_task = asyncio.ensure_future(write_wait(time_interval))\n",
    "\n",
    "# Using psutil to record CPU utilization.\n",
    "cpu_percent(percpu=True)  # Initializing the CPU monitoring.\n",
    "loop.run_until_complete(write_task)\n",
    "cpu_used = cpu_percent(percpu=True)\n",
    "\n",
    "# Printing the CPU utilization\n",
    "print('CPU Utilization = {cpu_used}'.format(**locals()))\n",
    "\n",
    "# Removing the IP task from the event loop.\n",
    "ip_task.cancel()"
   ]
  },
  {
   "cell_type": "markdown",
   "metadata": {},
   "source": [
    "CPU utilization returns percentage used on each core of the ARM\n",
    "\n",
    "### Run factorial on CPU and see utilization"
   ]
  },
  {
   "cell_type": "code",
   "execution_count": null,
   "metadata": {},
   "outputs": [],
   "source": [
    "import time  \n",
    "from datetime import datetime\n",
    "import math\n",
    "from psutil import cpu_percent\n",
    "\n",
    "cpu_percent(percpu=True)\n",
    "for i in range(100):\n",
    "    math.factorial(i)\n",
    "cpu_used = cpu_percent(percpu=True)\n",
    "# Printing the CPU utilization\n",
    "print('CPU Utilization = {cpu_used}'.format(**locals()))  "
   ]
  },
  {
   "cell_type": "code",
   "execution_count": null,
   "metadata": {},
   "outputs": [],
   "source": []
  }
 ],
 "metadata": {
  "kernelspec": {
   "display_name": "Python 3",
   "language": "python",
   "name": "python3"
  },
  "language_info": {
   "codemirror_mode": {
    "name": "ipython",
    "version": 3
   },
   "file_extension": ".py",
   "mimetype": "text/x-python",
   "name": "python",
   "nbconvert_exporter": "python",
   "pygments_lexer": "ipython3",
   "version": "3.6.5"
  }
 },
 "nbformat": 4,
 "nbformat_minor": 2
}
