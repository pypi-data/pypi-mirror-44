{
 "cells": [
  {
   "cell_type": "markdown",
   "metadata": {
    "collapsed": true
   },
   "source": [
    "# DataPath Example 4\n",
    "\n",
    "This notebook covers somewhat more advanced examples for using `DataPath`s. It assumes that you understand \n",
    "the concepts presented in the previous example notebooks.\n",
    "\n",
    "You should also read the ERMrest documentation and the derivapy wiki. There are more advanced concepts in this notebook that are demonstrated but not fully (re)explained here, as the concepts are explained in other documentation.\n",
    "\n",
    "## Exampe Data Model\n",
    "The examples require that you understand a little bit about the example catalog data model, which is based on the FaceBase project.\n",
    "\n",
    "### Key tables\n",
    "- `'dataset'` : represents a unit of data usually a `'study'` or `'experiment'`\n",
    "- `'sample'` : a biosample\n",
    "- `'assay'` : a bioassay (typically RNA-seq or ChIP-seq assays)\n",
    "\n",
    "### Relationships\n",
    "- `dataset <- sample`: A dataset may have one to many samples. I.e., there \n",
    "  is a foreign key reference from sample to dataset.\n",
    "- `sample <- assay`: A sample may have one to many assays. I.e., there is a\n",
    "  foreign key reference from assay to sample."
   ]
  },
  {
   "cell_type": "code",
   "execution_count": 1,
   "metadata": {
    "collapsed": true
   },
   "outputs": [],
   "source": [
    "# Import deriva modules\n",
    "from deriva.core import ErmrestCatalog, get_credential"
   ]
  },
  {
   "cell_type": "code",
   "execution_count": 2,
   "metadata": {
    "collapsed": true
   },
   "outputs": [],
   "source": [
    "# Connect with the deriva catalog\n",
    "protocol = 'https'\n",
    "hostname = 'www.facebase.org'\n",
    "catalog_number = 1\n",
    "credential = None\n",
    "# If you need to authenticate, use Deriva Auth agent and get the credential\n",
    "# credential = get_credential(hostname)\n",
    "catalog = ErmrestCatalog(protocol, hostname, catalog_number, credential)"
   ]
  },
  {
   "cell_type": "code",
   "execution_count": 3,
   "metadata": {
    "collapsed": true
   },
   "outputs": [],
   "source": [
    "# Get the path builder interface for this catalog\n",
    "pb = catalog.getPathBuilder()\n",
    "\n",
    "# Get some local variable handles to tables for convenience\n",
    "dataset = pb.isa.dataset\n",
    "sample = pb.isa.sample\n",
    "assay = pb.isa.assay"
   ]
  },
  {
   "cell_type": "markdown",
   "metadata": {},
   "source": [
    "## Implicit DataPaths\n",
    "**Proceed with caution**\n",
    "\n",
    "For compactness, `Table` objects (and `TableAlias` objects) provide `DataPath`-like methods. E.g., `link(...)`, `filter(...)`, and `entities(...)`, which will implicitly create `DataPath`s rooted at the table and return the newly created path. These operations `return` the new `DataPath` rather than mutating the `Table` (or `TableAlias`) objects."
   ]
  },
  {
   "cell_type": "code",
   "execution_count": 4,
   "metadata": {},
   "outputs": [
    {
     "data": {
      "text/plain": [
       "71"
      ]
     },
     "execution_count": 4,
     "metadata": {},
     "output_type": "execute_result"
    }
   ],
   "source": [
    "entities = dataset.filter(dataset.status > 2).entities()\n",
    "len(entities)"
   ]
  },
  {
   "cell_type": "markdown",
   "metadata": {},
   "source": [
    "### DataPath-like methods\n",
    "The `DataPath`-like methods on `Table`s are essentially \"wrapper\" functions over the implicitly generated `DataPath` rooted at the `Table` instance. The wrappers include:\n",
    "- `link(...)` generates a path, links the related table, and returns the generated path.\n",
    "- `filter(...)` generate a path, adds a filter, and returns the generated path.\n",
    "- `entities(...)` generate a path, (optionally) selects columns, and returns an entity set."
   ]
  },
  {
   "cell_type": "markdown",
   "metadata": {},
   "source": [
    "## Attribute Examples"
   ]
  },
  {
   "cell_type": "markdown",
   "metadata": {},
   "source": [
    "### Example: selecting all columns of a table instance\n",
    "Passing a table (or table instance) object to the `entities(...)` method will project all (i.e., `*`) of its attributes."
   ]
  },
  {
   "cell_type": "code",
   "execution_count": 5,
   "metadata": {},
   "outputs": [
    {
     "name": "stdout",
     "output_type": "stream",
     "text": [
      "171\n",
      "https://www.facebase.org/ermrest/catalog/1/entity/D:=isa:dataset/sample:=isa:sample/assay:=isa:assay\n"
     ]
    }
   ],
   "source": [
    "path = dataset.alias('D').path\n",
    "path.link(sample).link(assay)\n",
    "entities = path.entities()\n",
    "print(len(entities))\n",
    "print(path.uri)"
   ]
  },
  {
   "cell_type": "code",
   "execution_count": 6,
   "metadata": {},
   "outputs": [
    {
     "name": "stdout",
     "output_type": "stream",
     "text": [
      "https://www.facebase.org/ermrest/catalog/1/attribute/D:=isa:dataset/sample:=isa:sample/assay:=isa:assay/D:*\n"
     ]
    }
   ],
   "source": [
    "entities = path.entities(path.D)\n",
    "print(entities.uri)"
   ]
  },
  {
   "cell_type": "markdown",
   "metadata": {},
   "source": [
    "It is important to remember that the entities method returns a entity set based on the entity type of the last elmenent of the path. In this example that means the number of results will be determined by the number of unique rows in the assay table instance in the path created above, as the last link method used the assay table.  \n",
    "\n",
    "In this example, we are only using attributes from dataset.  What this means is that even though the result of an entities method is always a entity set, since we are not including the attributes from assay in our result, it is possible that we may have duplicate rows, if the same assay is used in more then one dataset."
   ]
  },
  {
   "cell_type": "markdown",
   "metadata": {},
   "source": [
    "### Example: selecting from multiple table instances\n",
    "More than one table instance may be selected in this manner and it can be mixed and matched with columns from other tables instances. "
   ]
  },
  {
   "cell_type": "code",
   "execution_count": 7,
   "metadata": {},
   "outputs": [
    {
     "name": "stdout",
     "output_type": "stream",
     "text": [
      "171\n",
      "https://www.facebase.org/ermrest/catalog/1/attribute/D:=isa:dataset/sample:=isa:sample/assay:=isa:assay/D:*,assay:fragmentation_method,sample:*,assay:isolation_protocol\n"
     ]
    }
   ],
   "source": [
    "entities = path.entities(path.D,\n",
    "                         path.assay.fragmentation_method,\n",
    "                         path.sample,\n",
    "                         path.assay.isolation_protocol)\n",
    "print (len(entities))\n",
    "print(entities.uri)"
   ]
  },
  {
   "cell_type": "markdown",
   "metadata": {},
   "source": [
    " If you want to base the results on a different entity, you can introduce a table instance alias into the end of the path, before calling the entities function.  In this case, even though we are asking for the same attributes, we are getting the set of datasets, not the set of assays.  Also, since we are including the attributes from dataset in our query, we know that we will not be seeing any duplicate rows."
   ]
  },
  {
   "cell_type": "code",
   "execution_count": 8,
   "metadata": {},
   "outputs": [
    {
     "name": "stdout",
     "output_type": "stream",
     "text": [
      "7\n",
      "https://www.facebase.org/ermrest/catalog/1/attribute/D:=isa:dataset/sample:=isa:sample/assay:=isa:assay/$D/D:*,assay:fragmentation_method,sample:*,assay:isolation_protocol\n"
     ]
    }
   ],
   "source": [
    "entities = path.D.entities(path.D,\n",
    "                           path.assay.fragmentation_method,\n",
    "                           path.sample,\n",
    "                           path.assay.isolation_protocol)\n",
    "print (len(entities))\n",
    "print(entities.uri)"
   ]
  },
  {
   "cell_type": "markdown",
   "metadata": {},
   "source": [
    "## Filtering Examples"
   ]
  },
  {
   "cell_type": "markdown",
   "metadata": {},
   "source": [
    "### Example: filter on `null` attribute\n",
    "To test for a `null` attribute value, do an equality comparison against the `None` identity."
   ]
  },
  {
   "cell_type": "code",
   "execution_count": 9,
   "metadata": {},
   "outputs": [
    {
     "name": "stdout",
     "output_type": "stream",
     "text": [
      "https://www.facebase.org/ermrest/catalog/1/entity/dataset:=isa:dataset/sample:=isa:sample/gene::null::\n",
      "1216\n"
     ]
    }
   ],
   "source": [
    "path = dataset.link(sample).filter(sample.gene == None)\n",
    "print(path.uri)\n",
    "print(len(path.entities()))"
   ]
  },
  {
   "cell_type": "markdown",
   "metadata": {},
   "source": [
    "### Example: advanced text filters\n",
    "Deriva supports advanced text filters for regular expressions (`regexp`), case-instansitive regexp (`ciregexp`), and text search (`ts`). You may have to review your text and full-text indexes in your ERMrest catalog before using these features."
   ]
  },
  {
   "cell_type": "code",
   "execution_count": 10,
   "metadata": {},
   "outputs": [
    {
     "name": "stdout",
     "output_type": "stream",
     "text": [
      "https://www.facebase.org/ermrest/catalog/1/entity/dataset:=isa:dataset/description::ciregexp::palate\n",
      "26\n"
     ]
    }
   ],
   "source": [
    "path = dataset.filter(dataset.description.ciregexp('palate'))\n",
    "print(path.uri)\n",
    "print(len(path.entities()))"
   ]
  },
  {
   "cell_type": "markdown",
   "metadata": {},
   "source": [
    "### Example: negate a filter\n",
    "Use the \"inverse\" ('`~`') operator to negate a filter. Negation works against simple comparison filters as demonstrated above as well as on logical operators to be discussed next. You must wrap the comparison or logical operators in an extra parens to use the negate operation, e.g., \"`~ (...)`\". "
   ]
  },
  {
   "cell_type": "code",
   "execution_count": 11,
   "metadata": {},
   "outputs": [
    {
     "name": "stdout",
     "output_type": "stream",
     "text": [
      "https://www.facebase.org/ermrest/catalog/1/entity/dataset:=isa:dataset/!(description::ciregexp::palate)\n",
      "693\n"
     ]
    }
   ],
   "source": [
    "path = dataset.filter( ~ (dataset.description.ciregexp('palate')) )\n",
    "print(path.uri)\n",
    "print(len(path.entities()))"
   ]
  },
  {
   "cell_type": "markdown",
   "metadata": {},
   "source": [
    "### Example: filters with logical operators\n",
    "This example shows how to combine two comparisons with a conjuncting (i.e., `and` operator). Because Python's logical-and (`and`) keyword cannot be overloaded, we instead overload the bitwise-and (`&`) operator. This approach has become customary among many similar data access libraries."
   ]
  },
  {
   "cell_type": "code",
   "execution_count": 12,
   "metadata": {},
   "outputs": [
    {
     "name": "stdout",
     "output_type": "stream",
     "text": [
      "https://www.facebase.org/ermrest/catalog/1/entity/dataset:=isa:dataset/sample:=isa:sample/assay:=isa:assay/(markers=histology)&(selection=H3K27AC)\n"
     ]
    }
   ],
   "source": [
    "path = dataset.link(sample).link(assay).filter(\n",
    "    ((assay.markers == 'histology') & (assay.selection == 'H3K27AC')))\n",
    "\n",
    "print(path.uri)"
   ]
  },
  {
   "cell_type": "code",
   "execution_count": 13,
   "metadata": {},
   "outputs": [
    {
     "data": {
      "text/html": [
       "<div>\n",
       "<style>\n",
       "    .dataframe thead tr:only-child th {\n",
       "        text-align: right;\n",
       "    }\n",
       "\n",
       "    .dataframe thead th {\n",
       "        text-align: left;\n",
       "    }\n",
       "\n",
       "    .dataframe tbody tr th {\n",
       "        vertical-align: top;\n",
       "    }\n",
       "</style>\n",
       "<table border=\"1\" class=\"dataframe\">\n",
       "  <thead>\n",
       "    <tr style=\"text-align: right;\">\n",
       "      <th></th>\n",
       "      <th>RCB</th>\n",
       "      <th>RCT</th>\n",
       "      <th>RID</th>\n",
       "      <th>RMB</th>\n",
       "      <th>RMT</th>\n",
       "      <th>alignment_id</th>\n",
       "      <th>dataset</th>\n",
       "      <th>fragmentation_method</th>\n",
       "      <th>id</th>\n",
       "      <th>isolation_protocol</th>\n",
       "      <th>...</th>\n",
       "      <th>reagent_source</th>\n",
       "      <th>replicate</th>\n",
       "      <th>sample</th>\n",
       "      <th>sample_composition</th>\n",
       "      <th>sample_purification</th>\n",
       "      <th>sample_type</th>\n",
       "      <th>selection</th>\n",
       "      <th>strandednes</th>\n",
       "      <th>target_of_assay</th>\n",
       "      <th>tracks_id</th>\n",
       "    </tr>\n",
       "  </thead>\n",
       "  <tbody>\n",
       "    <tr>\n",
       "      <th>0</th>\n",
       "      <td>None</td>\n",
       "      <td>2017-09-22T17:33:18.797126-07:00</td>\n",
       "      <td>26531</td>\n",
       "      <td>None</td>\n",
       "      <td>2017-10-18T19:59:03.14624-07:00</td>\n",
       "      <td>59</td>\n",
       "      <td>14068</td>\n",
       "      <td>Sonication</td>\n",
       "      <td>19</td>\n",
       "      <td></td>\n",
       "      <td>...</td>\n",
       "      <td>Active Motif</td>\n",
       "      <td>1</td>\n",
       "      <td>2</td>\n",
       "      <td>maxillary process</td>\n",
       "      <td>excision</td>\n",
       "      <td>2</td>\n",
       "      <td>H3K27AC</td>\n",
       "      <td>None</td>\n",
       "      <td>None</td>\n",
       "      <td>39</td>\n",
       "    </tr>\n",
       "    <tr>\n",
       "      <th>1</th>\n",
       "      <td>None</td>\n",
       "      <td>2017-09-22T17:33:18.797126-07:00</td>\n",
       "      <td>26535</td>\n",
       "      <td>None</td>\n",
       "      <td>2017-10-18T19:59:03.14624-07:00</td>\n",
       "      <td>45</td>\n",
       "      <td>14068</td>\n",
       "      <td>Sonication</td>\n",
       "      <td>5</td>\n",
       "      <td></td>\n",
       "      <td>...</td>\n",
       "      <td>Active Motif</td>\n",
       "      <td>1</td>\n",
       "      <td>1</td>\n",
       "      <td>medial nasal process</td>\n",
       "      <td>excision</td>\n",
       "      <td>2</td>\n",
       "      <td>H3K27AC</td>\n",
       "      <td>None</td>\n",
       "      <td>None</td>\n",
       "      <td>25</td>\n",
       "    </tr>\n",
       "    <tr>\n",
       "      <th>2</th>\n",
       "      <td>None</td>\n",
       "      <td>2017-09-22T17:33:18.797126-07:00</td>\n",
       "      <td>26541</td>\n",
       "      <td>None</td>\n",
       "      <td>2017-10-18T19:59:03.14624-07:00</td>\n",
       "      <td>52</td>\n",
       "      <td>14068</td>\n",
       "      <td>Sonication</td>\n",
       "      <td>12</td>\n",
       "      <td></td>\n",
       "      <td>...</td>\n",
       "      <td>Active Motif</td>\n",
       "      <td>1</td>\n",
       "      <td>4</td>\n",
       "      <td>mandibular process</td>\n",
       "      <td>excision</td>\n",
       "      <td>2</td>\n",
       "      <td>H3K27AC</td>\n",
       "      <td>None</td>\n",
       "      <td>None</td>\n",
       "      <td>32</td>\n",
       "    </tr>\n",
       "    <tr>\n",
       "      <th>3</th>\n",
       "      <td>None</td>\n",
       "      <td>2017-09-22T17:33:18.797126-07:00</td>\n",
       "      <td>26544</td>\n",
       "      <td>None</td>\n",
       "      <td>2017-10-18T19:59:03.14624-07:00</td>\n",
       "      <td>54</td>\n",
       "      <td>14068</td>\n",
       "      <td>Sonication</td>\n",
       "      <td>14</td>\n",
       "      <td></td>\n",
       "      <td>...</td>\n",
       "      <td>Active Motif</td>\n",
       "      <td>1</td>\n",
       "      <td>3</td>\n",
       "      <td>latero nasal process</td>\n",
       "      <td>excision</td>\n",
       "      <td>2</td>\n",
       "      <td>H3K27AC</td>\n",
       "      <td>None</td>\n",
       "      <td>None</td>\n",
       "      <td>34</td>\n",
       "    </tr>\n",
       "  </tbody>\n",
       "</table>\n",
       "<p>4 rows × 29 columns</p>\n",
       "</div>"
      ],
      "text/plain": [
       "    RCB                               RCT    RID   RMB  \\\n",
       "0  None  2017-09-22T17:33:18.797126-07:00  26531  None   \n",
       "1  None  2017-09-22T17:33:18.797126-07:00  26535  None   \n",
       "2  None  2017-09-22T17:33:18.797126-07:00  26541  None   \n",
       "3  None  2017-09-22T17:33:18.797126-07:00  26544  None   \n",
       "\n",
       "                               RMT  alignment_id  dataset  \\\n",
       "0  2017-10-18T19:59:03.14624-07:00            59    14068   \n",
       "1  2017-10-18T19:59:03.14624-07:00            45    14068   \n",
       "2  2017-10-18T19:59:03.14624-07:00            52    14068   \n",
       "3  2017-10-18T19:59:03.14624-07:00            54    14068   \n",
       "\n",
       "  fragmentation_method  id isolation_protocol    ...     reagent_source  \\\n",
       "0           Sonication  19                       ...       Active Motif   \n",
       "1           Sonication   5                       ...       Active Motif   \n",
       "2           Sonication  12                       ...       Active Motif   \n",
       "3           Sonication  14                       ...       Active Motif   \n",
       "\n",
       "  replicate  sample    sample_composition sample_purification sample_type  \\\n",
       "0         1       2     maxillary process            excision           2   \n",
       "1         1       1  medial nasal process            excision           2   \n",
       "2         1       4    mandibular process            excision           2   \n",
       "3         1       3  latero nasal process            excision           2   \n",
       "\n",
       "  selection strandednes target_of_assay tracks_id  \n",
       "0   H3K27AC        None            None        39  \n",
       "1   H3K27AC        None            None        25  \n",
       "2   H3K27AC        None            None        32  \n",
       "3   H3K27AC        None            None        34  \n",
       "\n",
       "[4 rows x 29 columns]"
      ]
     },
     "execution_count": 13,
     "metadata": {},
     "output_type": "execute_result"
    }
   ],
   "source": [
    "path.entities().dataframe"
   ]
  },
  {
   "cell_type": "markdown",
   "metadata": {},
   "source": [
    "### Example: combine conjunction and disjunctions in filters\n",
    "Similar to the prior example, the filters allow combining of conjunctive and disjunctive operators. Like the bitwise-and operator, we also overload the bitwise-or (` | `) operator because the logical-or (`or`) operatar cannot be overloaded."
   ]
  },
  {
   "cell_type": "code",
   "execution_count": 14,
   "metadata": {},
   "outputs": [
    {
     "name": "stdout",
     "output_type": "stream",
     "text": [
      "https://www.facebase.org/ermrest/catalog/1/entity/dataset:=isa:dataset/sample:=isa:sample/assay:=isa:assay/((markers=histology)&(selection=H3K27AC));((sample_type=3)&(selection=genomicDNA))\n"
     ]
    }
   ],
   "source": [
    "path = dataset.link(sample).link(assay).filter(\n",
    "    ((assay.markers == 'histology') & (assay.selection == 'H3K27AC')) |\n",
    "    ((assay.sample_type == 3) & (assay.selection == 'genomicDNA')))\n",
    "\n",
    "print(path.uri)"
   ]
  },
  {
   "cell_type": "code",
   "execution_count": 15,
   "metadata": {},
   "outputs": [
    {
     "data": {
      "text/html": [
       "<div>\n",
       "<style>\n",
       "    .dataframe thead tr:only-child th {\n",
       "        text-align: right;\n",
       "    }\n",
       "\n",
       "    .dataframe thead th {\n",
       "        text-align: left;\n",
       "    }\n",
       "\n",
       "    .dataframe tbody tr th {\n",
       "        vertical-align: top;\n",
       "    }\n",
       "</style>\n",
       "<table border=\"1\" class=\"dataframe\">\n",
       "  <thead>\n",
       "    <tr style=\"text-align: right;\">\n",
       "      <th></th>\n",
       "      <th>RCB</th>\n",
       "      <th>RCT</th>\n",
       "      <th>RID</th>\n",
       "      <th>RMB</th>\n",
       "      <th>RMT</th>\n",
       "      <th>alignment_id</th>\n",
       "      <th>dataset</th>\n",
       "      <th>fragmentation_method</th>\n",
       "      <th>id</th>\n",
       "      <th>isolation_protocol</th>\n",
       "      <th>...</th>\n",
       "      <th>reagent_source</th>\n",
       "      <th>replicate</th>\n",
       "      <th>sample</th>\n",
       "      <th>sample_composition</th>\n",
       "      <th>sample_purification</th>\n",
       "      <th>sample_type</th>\n",
       "      <th>selection</th>\n",
       "      <th>strandednes</th>\n",
       "      <th>target_of_assay</th>\n",
       "      <th>tracks_id</th>\n",
       "    </tr>\n",
       "  </thead>\n",
       "  <tbody>\n",
       "    <tr>\n",
       "      <th>0</th>\n",
       "      <td>None</td>\n",
       "      <td>2017-09-22T17:33:18.797126-07:00</td>\n",
       "      <td>26531</td>\n",
       "      <td>None</td>\n",
       "      <td>2017-10-18T19:59:03.14624-07:00</td>\n",
       "      <td>59</td>\n",
       "      <td>14068</td>\n",
       "      <td>Sonication</td>\n",
       "      <td>19</td>\n",
       "      <td></td>\n",
       "      <td>...</td>\n",
       "      <td>Active Motif</td>\n",
       "      <td>1</td>\n",
       "      <td>2</td>\n",
       "      <td>maxillary process</td>\n",
       "      <td>excision</td>\n",
       "      <td>2</td>\n",
       "      <td>H3K27AC</td>\n",
       "      <td>None</td>\n",
       "      <td>None</td>\n",
       "      <td>39.0</td>\n",
       "    </tr>\n",
       "    <tr>\n",
       "      <th>1</th>\n",
       "      <td>None</td>\n",
       "      <td>2017-09-22T17:33:18.797126-07:00</td>\n",
       "      <td>26533</td>\n",
       "      <td>None</td>\n",
       "      <td>2017-10-18T19:59:03.14624-07:00</td>\n",
       "      <td>47</td>\n",
       "      <td>14068</td>\n",
       "      <td>Sonication</td>\n",
       "      <td>7</td>\n",
       "      <td></td>\n",
       "      <td>...</td>\n",
       "      <td>NA</td>\n",
       "      <td>4</td>\n",
       "      <td>3</td>\n",
       "      <td>latero nasal process</td>\n",
       "      <td>excision</td>\n",
       "      <td>3</td>\n",
       "      <td>genomicDNA</td>\n",
       "      <td>None</td>\n",
       "      <td>None</td>\n",
       "      <td>27.0</td>\n",
       "    </tr>\n",
       "    <tr>\n",
       "      <th>2</th>\n",
       "      <td>None</td>\n",
       "      <td>2017-09-22T17:33:18.797126-07:00</td>\n",
       "      <td>26535</td>\n",
       "      <td>None</td>\n",
       "      <td>2017-10-18T19:59:03.14624-07:00</td>\n",
       "      <td>45</td>\n",
       "      <td>14068</td>\n",
       "      <td>Sonication</td>\n",
       "      <td>5</td>\n",
       "      <td></td>\n",
       "      <td>...</td>\n",
       "      <td>Active Motif</td>\n",
       "      <td>1</td>\n",
       "      <td>1</td>\n",
       "      <td>medial nasal process</td>\n",
       "      <td>excision</td>\n",
       "      <td>2</td>\n",
       "      <td>H3K27AC</td>\n",
       "      <td>None</td>\n",
       "      <td>None</td>\n",
       "      <td>25.0</td>\n",
       "    </tr>\n",
       "    <tr>\n",
       "      <th>3</th>\n",
       "      <td>None</td>\n",
       "      <td>2017-09-22T17:33:18.797126-07:00</td>\n",
       "      <td>26538</td>\n",
       "      <td>None</td>\n",
       "      <td>2017-10-18T19:59:03.14624-07:00</td>\n",
       "      <td>49</td>\n",
       "      <td>14068</td>\n",
       "      <td>Sonication</td>\n",
       "      <td>9</td>\n",
       "      <td></td>\n",
       "      <td>...</td>\n",
       "      <td>NA</td>\n",
       "      <td>4</td>\n",
       "      <td>4</td>\n",
       "      <td>mandibular process</td>\n",
       "      <td>excision</td>\n",
       "      <td>3</td>\n",
       "      <td>genomicDNA</td>\n",
       "      <td>None</td>\n",
       "      <td>None</td>\n",
       "      <td>29.0</td>\n",
       "    </tr>\n",
       "    <tr>\n",
       "      <th>4</th>\n",
       "      <td>None</td>\n",
       "      <td>2017-09-22T17:33:18.797126-07:00</td>\n",
       "      <td>26541</td>\n",
       "      <td>None</td>\n",
       "      <td>2017-10-18T19:59:03.14624-07:00</td>\n",
       "      <td>52</td>\n",
       "      <td>14068</td>\n",
       "      <td>Sonication</td>\n",
       "      <td>12</td>\n",
       "      <td></td>\n",
       "      <td>...</td>\n",
       "      <td>Active Motif</td>\n",
       "      <td>1</td>\n",
       "      <td>4</td>\n",
       "      <td>mandibular process</td>\n",
       "      <td>excision</td>\n",
       "      <td>2</td>\n",
       "      <td>H3K27AC</td>\n",
       "      <td>None</td>\n",
       "      <td>None</td>\n",
       "      <td>32.0</td>\n",
       "    </tr>\n",
       "    <tr>\n",
       "      <th>5</th>\n",
       "      <td>None</td>\n",
       "      <td>2017-09-22T17:33:18.797126-07:00</td>\n",
       "      <td>26544</td>\n",
       "      <td>None</td>\n",
       "      <td>2017-10-18T19:59:03.14624-07:00</td>\n",
       "      <td>54</td>\n",
       "      <td>14068</td>\n",
       "      <td>Sonication</td>\n",
       "      <td>14</td>\n",
       "      <td></td>\n",
       "      <td>...</td>\n",
       "      <td>Active Motif</td>\n",
       "      <td>1</td>\n",
       "      <td>3</td>\n",
       "      <td>latero nasal process</td>\n",
       "      <td>excision</td>\n",
       "      <td>2</td>\n",
       "      <td>H3K27AC</td>\n",
       "      <td>None</td>\n",
       "      <td>None</td>\n",
       "      <td>34.0</td>\n",
       "    </tr>\n",
       "    <tr>\n",
       "      <th>6</th>\n",
       "      <td>None</td>\n",
       "      <td>2017-09-22T17:33:18.797126-07:00</td>\n",
       "      <td>26546</td>\n",
       "      <td>None</td>\n",
       "      <td>2017-10-18T19:59:03.14624-07:00</td>\n",
       "      <td>42</td>\n",
       "      <td>14068</td>\n",
       "      <td>Sonication</td>\n",
       "      <td>2</td>\n",
       "      <td></td>\n",
       "      <td>...</td>\n",
       "      <td>NA</td>\n",
       "      <td>4</td>\n",
       "      <td>1</td>\n",
       "      <td>medial nasal process</td>\n",
       "      <td>excision</td>\n",
       "      <td>3</td>\n",
       "      <td>genomicDNA</td>\n",
       "      <td>None</td>\n",
       "      <td>None</td>\n",
       "      <td>22.0</td>\n",
       "    </tr>\n",
       "    <tr>\n",
       "      <th>7</th>\n",
       "      <td>None</td>\n",
       "      <td>2017-09-22T17:33:18.797126-07:00</td>\n",
       "      <td>26549</td>\n",
       "      <td>None</td>\n",
       "      <td>2017-10-18T19:59:03.14624-07:00</td>\n",
       "      <td>56</td>\n",
       "      <td>14068</td>\n",
       "      <td>Sonication</td>\n",
       "      <td>16</td>\n",
       "      <td></td>\n",
       "      <td>...</td>\n",
       "      <td>NA</td>\n",
       "      <td>4</td>\n",
       "      <td>2</td>\n",
       "      <td>maxillary process</td>\n",
       "      <td>excision</td>\n",
       "      <td>3</td>\n",
       "      <td>genomicDNA</td>\n",
       "      <td>None</td>\n",
       "      <td>None</td>\n",
       "      <td>36.0</td>\n",
       "    </tr>\n",
       "    <tr>\n",
       "      <th>8</th>\n",
       "      <td>None</td>\n",
       "      <td>2017-09-22T17:33:18.797126-07:00</td>\n",
       "      <td>26554</td>\n",
       "      <td>None</td>\n",
       "      <td>2017-10-18T19:59:03.14624-07:00</td>\n",
       "      <td>61</td>\n",
       "      <td>14130</td>\n",
       "      <td>Sonication</td>\n",
       "      <td>24</td>\n",
       "      <td>None</td>\n",
       "      <td>...</td>\n",
       "      <td>NA</td>\n",
       "      <td>4</td>\n",
       "      <td>1088</td>\n",
       "      <td>face</td>\n",
       "      <td>Excision</td>\n",
       "      <td>3</td>\n",
       "      <td>genomicDNA</td>\n",
       "      <td>None</td>\n",
       "      <td>None</td>\n",
       "      <td>NaN</td>\n",
       "    </tr>\n",
       "    <tr>\n",
       "      <th>9</th>\n",
       "      <td>None</td>\n",
       "      <td>2017-09-22T17:33:18.797126-07:00</td>\n",
       "      <td>26559</td>\n",
       "      <td>None</td>\n",
       "      <td>2017-10-18T19:59:03.14624-07:00</td>\n",
       "      <td>63</td>\n",
       "      <td>14130</td>\n",
       "      <td>Sonication</td>\n",
       "      <td>29</td>\n",
       "      <td>None</td>\n",
       "      <td>...</td>\n",
       "      <td>NA</td>\n",
       "      <td>4</td>\n",
       "      <td>1089</td>\n",
       "      <td>face</td>\n",
       "      <td>Excision</td>\n",
       "      <td>3</td>\n",
       "      <td>genomicDNA</td>\n",
       "      <td>None</td>\n",
       "      <td>None</td>\n",
       "      <td>NaN</td>\n",
       "    </tr>\n",
       "  </tbody>\n",
       "</table>\n",
       "<p>10 rows × 29 columns</p>\n",
       "</div>"
      ],
      "text/plain": [
       "    RCB                               RCT    RID   RMB  \\\n",
       "0  None  2017-09-22T17:33:18.797126-07:00  26531  None   \n",
       "1  None  2017-09-22T17:33:18.797126-07:00  26533  None   \n",
       "2  None  2017-09-22T17:33:18.797126-07:00  26535  None   \n",
       "3  None  2017-09-22T17:33:18.797126-07:00  26538  None   \n",
       "4  None  2017-09-22T17:33:18.797126-07:00  26541  None   \n",
       "5  None  2017-09-22T17:33:18.797126-07:00  26544  None   \n",
       "6  None  2017-09-22T17:33:18.797126-07:00  26546  None   \n",
       "7  None  2017-09-22T17:33:18.797126-07:00  26549  None   \n",
       "8  None  2017-09-22T17:33:18.797126-07:00  26554  None   \n",
       "9  None  2017-09-22T17:33:18.797126-07:00  26559  None   \n",
       "\n",
       "                               RMT  alignment_id  dataset  \\\n",
       "0  2017-10-18T19:59:03.14624-07:00            59    14068   \n",
       "1  2017-10-18T19:59:03.14624-07:00            47    14068   \n",
       "2  2017-10-18T19:59:03.14624-07:00            45    14068   \n",
       "3  2017-10-18T19:59:03.14624-07:00            49    14068   \n",
       "4  2017-10-18T19:59:03.14624-07:00            52    14068   \n",
       "5  2017-10-18T19:59:03.14624-07:00            54    14068   \n",
       "6  2017-10-18T19:59:03.14624-07:00            42    14068   \n",
       "7  2017-10-18T19:59:03.14624-07:00            56    14068   \n",
       "8  2017-10-18T19:59:03.14624-07:00            61    14130   \n",
       "9  2017-10-18T19:59:03.14624-07:00            63    14130   \n",
       "\n",
       "  fragmentation_method  id isolation_protocol    ...     reagent_source  \\\n",
       "0           Sonication  19                       ...       Active Motif   \n",
       "1           Sonication   7                       ...                 NA   \n",
       "2           Sonication   5                       ...       Active Motif   \n",
       "3           Sonication   9                       ...                 NA   \n",
       "4           Sonication  12                       ...       Active Motif   \n",
       "5           Sonication  14                       ...       Active Motif   \n",
       "6           Sonication   2                       ...                 NA   \n",
       "7           Sonication  16                       ...                 NA   \n",
       "8           Sonication  24               None    ...                 NA   \n",
       "9           Sonication  29               None    ...                 NA   \n",
       "\n",
       "  replicate  sample    sample_composition sample_purification sample_type  \\\n",
       "0         1       2     maxillary process            excision           2   \n",
       "1         4       3  latero nasal process            excision           3   \n",
       "2         1       1  medial nasal process            excision           2   \n",
       "3         4       4    mandibular process            excision           3   \n",
       "4         1       4    mandibular process            excision           2   \n",
       "5         1       3  latero nasal process            excision           2   \n",
       "6         4       1  medial nasal process            excision           3   \n",
       "7         4       2     maxillary process            excision           3   \n",
       "8         4    1088                  face            Excision           3   \n",
       "9         4    1089                  face            Excision           3   \n",
       "\n",
       "    selection strandednes target_of_assay tracks_id  \n",
       "0     H3K27AC        None            None      39.0  \n",
       "1  genomicDNA        None            None      27.0  \n",
       "2     H3K27AC        None            None      25.0  \n",
       "3  genomicDNA        None            None      29.0  \n",
       "4     H3K27AC        None            None      32.0  \n",
       "5     H3K27AC        None            None      34.0  \n",
       "6  genomicDNA        None            None      22.0  \n",
       "7  genomicDNA        None            None      36.0  \n",
       "8  genomicDNA        None            None       NaN  \n",
       "9  genomicDNA        None            None       NaN  \n",
       "\n",
       "[10 rows x 29 columns]"
      ]
     },
     "execution_count": 15,
     "metadata": {},
     "output_type": "execute_result"
    }
   ],
   "source": [
    "path.entities().dataframe"
   ]
  },
  {
   "cell_type": "markdown",
   "metadata": {},
   "source": [
    "### Example: filtering at different stages of the path\n",
    "Filtering a path does not have to be done at the end of a path. In fact, the initial intention of the ERMrest URI was to mimick \"RESTful\" semantics where a RESTful \"resource\" is identified, then filtered, then a \"sub-resource\" is identified, and then filtered, and so on."
   ]
  },
  {
   "cell_type": "code",
   "execution_count": 16,
   "metadata": {},
   "outputs": [
    {
     "name": "stdout",
     "output_type": "stream",
     "text": [
      "https://www.facebase.org/ermrest/catalog/1/entity/dataset:=isa:dataset/release_date::geq::2017-01-01/sample:=isa:sample/species=2/assay:=isa:assay/selection=totalRNA\n"
     ]
    }
   ],
   "source": [
    "path = dataset.filter(dataset.release_date >= '2017-01-01') \\\n",
    "    .link(sample).filter(sample.species == 2) \\\n",
    "    .link(assay).filter(assay.selection == 'totalRNA')\n",
    "    \n",
    "print(path.uri)"
   ]
  },
  {
   "cell_type": "code",
   "execution_count": 17,
   "metadata": {},
   "outputs": [
    {
     "data": {
      "text/html": [
       "<div>\n",
       "<style>\n",
       "    .dataframe thead tr:only-child th {\n",
       "        text-align: right;\n",
       "    }\n",
       "\n",
       "    .dataframe thead th {\n",
       "        text-align: left;\n",
       "    }\n",
       "\n",
       "    .dataframe tbody tr th {\n",
       "        vertical-align: top;\n",
       "    }\n",
       "</style>\n",
       "<table border=\"1\" class=\"dataframe\">\n",
       "  <thead>\n",
       "    <tr style=\"text-align: right;\">\n",
       "      <th></th>\n",
       "      <th>RCB</th>\n",
       "      <th>RCT</th>\n",
       "      <th>RID</th>\n",
       "      <th>RMB</th>\n",
       "      <th>RMT</th>\n",
       "      <th>alignment_id</th>\n",
       "      <th>dataset</th>\n",
       "      <th>fragmentation_method</th>\n",
       "      <th>id</th>\n",
       "      <th>isolation_protocol</th>\n",
       "      <th>...</th>\n",
       "      <th>reagent_source</th>\n",
       "      <th>replicate</th>\n",
       "      <th>sample</th>\n",
       "      <th>sample_composition</th>\n",
       "      <th>sample_purification</th>\n",
       "      <th>sample_type</th>\n",
       "      <th>selection</th>\n",
       "      <th>strandednes</th>\n",
       "      <th>target_of_assay</th>\n",
       "      <th>tracks_id</th>\n",
       "    </tr>\n",
       "  </thead>\n",
       "  <tbody>\n",
       "    <tr>\n",
       "      <th>0</th>\n",
       "      <td>None</td>\n",
       "      <td>2017-09-22T17:33:18.797126-07:00</td>\n",
       "      <td>26532</td>\n",
       "      <td>None</td>\n",
       "      <td>2017-10-18T19:59:03.14624-07:00</td>\n",
       "      <td>60</td>\n",
       "      <td>14068</td>\n",
       "      <td>Fragmentation Buffer from Illumina</td>\n",
       "      <td>20</td>\n",
       "      <td></td>\n",
       "      <td>...</td>\n",
       "      <td>Illumina</td>\n",
       "      <td>5</td>\n",
       "      <td>4</td>\n",
       "      <td>mandibular process</td>\n",
       "      <td>excision</td>\n",
       "      <td>1</td>\n",
       "      <td>totalRNA</td>\n",
       "      <td>None</td>\n",
       "      <td>None</td>\n",
       "      <td>40</td>\n",
       "    </tr>\n",
       "    <tr>\n",
       "      <th>1</th>\n",
       "      <td>None</td>\n",
       "      <td>2017-09-22T17:33:18.797126-07:00</td>\n",
       "      <td>26536</td>\n",
       "      <td>None</td>\n",
       "      <td>2017-10-18T19:59:03.14624-07:00</td>\n",
       "      <td>46</td>\n",
       "      <td>14068</td>\n",
       "      <td>Fragmentation Buffer from Illumina</td>\n",
       "      <td>6</td>\n",
       "      <td></td>\n",
       "      <td>...</td>\n",
       "      <td>Illumina</td>\n",
       "      <td>5</td>\n",
       "      <td>3</td>\n",
       "      <td>latero nasal process</td>\n",
       "      <td>excision</td>\n",
       "      <td>1</td>\n",
       "      <td>totalRNA</td>\n",
       "      <td>None</td>\n",
       "      <td>None</td>\n",
       "      <td>26</td>\n",
       "    </tr>\n",
       "    <tr>\n",
       "      <th>2</th>\n",
       "      <td>None</td>\n",
       "      <td>2017-09-22T17:33:18.797126-07:00</td>\n",
       "      <td>26545</td>\n",
       "      <td>None</td>\n",
       "      <td>2017-10-18T19:59:03.14624-07:00</td>\n",
       "      <td>41</td>\n",
       "      <td>14068</td>\n",
       "      <td>Fragmentation Buffer from Illumina</td>\n",
       "      <td>1</td>\n",
       "      <td></td>\n",
       "      <td>...</td>\n",
       "      <td>Illumina</td>\n",
       "      <td>5</td>\n",
       "      <td>1</td>\n",
       "      <td>medial nasal process</td>\n",
       "      <td>excision</td>\n",
       "      <td>1</td>\n",
       "      <td>totalRNA</td>\n",
       "      <td>None</td>\n",
       "      <td>None</td>\n",
       "      <td>21</td>\n",
       "    </tr>\n",
       "    <tr>\n",
       "      <th>3</th>\n",
       "      <td>None</td>\n",
       "      <td>2017-09-22T17:33:18.797126-07:00</td>\n",
       "      <td>26548</td>\n",
       "      <td>None</td>\n",
       "      <td>2017-10-18T19:59:03.14624-07:00</td>\n",
       "      <td>55</td>\n",
       "      <td>14068</td>\n",
       "      <td>Fragmentation Buffer from Illumina</td>\n",
       "      <td>15</td>\n",
       "      <td></td>\n",
       "      <td>...</td>\n",
       "      <td>Illumina</td>\n",
       "      <td>5</td>\n",
       "      <td>2</td>\n",
       "      <td>maxillary process</td>\n",
       "      <td>excision</td>\n",
       "      <td>1</td>\n",
       "      <td>totalRNA</td>\n",
       "      <td>None</td>\n",
       "      <td>None</td>\n",
       "      <td>35</td>\n",
       "    </tr>\n",
       "  </tbody>\n",
       "</table>\n",
       "<p>4 rows × 29 columns</p>\n",
       "</div>"
      ],
      "text/plain": [
       "    RCB                               RCT    RID   RMB  \\\n",
       "0  None  2017-09-22T17:33:18.797126-07:00  26532  None   \n",
       "1  None  2017-09-22T17:33:18.797126-07:00  26536  None   \n",
       "2  None  2017-09-22T17:33:18.797126-07:00  26545  None   \n",
       "3  None  2017-09-22T17:33:18.797126-07:00  26548  None   \n",
       "\n",
       "                               RMT  alignment_id  dataset  \\\n",
       "0  2017-10-18T19:59:03.14624-07:00            60    14068   \n",
       "1  2017-10-18T19:59:03.14624-07:00            46    14068   \n",
       "2  2017-10-18T19:59:03.14624-07:00            41    14068   \n",
       "3  2017-10-18T19:59:03.14624-07:00            55    14068   \n",
       "\n",
       "                 fragmentation_method  id isolation_protocol    ...     \\\n",
       "0  Fragmentation Buffer from Illumina  20                       ...      \n",
       "1  Fragmentation Buffer from Illumina   6                       ...      \n",
       "2  Fragmentation Buffer from Illumina   1                       ...      \n",
       "3  Fragmentation Buffer from Illumina  15                       ...      \n",
       "\n",
       "   reagent_source replicate  sample    sample_composition sample_purification  \\\n",
       "0        Illumina         5       4    mandibular process            excision   \n",
       "1        Illumina         5       3  latero nasal process            excision   \n",
       "2        Illumina         5       1  medial nasal process            excision   \n",
       "3        Illumina         5       2     maxillary process            excision   \n",
       "\n",
       "  sample_type selection strandednes target_of_assay tracks_id  \n",
       "0           1  totalRNA        None            None        40  \n",
       "1           1  totalRNA        None            None        26  \n",
       "2           1  totalRNA        None            None        21  \n",
       "3           1  totalRNA        None            None        35  \n",
       "\n",
       "[4 rows x 29 columns]"
      ]
     },
     "execution_count": 17,
     "metadata": {},
     "output_type": "execute_result"
    }
   ],
   "source": [
    "path.entities().dataframe"
   ]
  },
  {
   "cell_type": "markdown",
   "metadata": {},
   "source": [
    "## Linking Examples\n",
    "\n",
    "### Example: explicit column links\n",
    "Up until now, the examples have shown how to link entities via _implicit_ join predicates. That is, we knew there existed a foriegn key reference constraint between foreign keys of one entity and keys of another entity. We needed only to ask ERMrest to link the entities in order to get the linked set.\n",
    "\n",
    "The problem with implicit links is that it become _ambiguous_ if there are more than one foreign key reference between tables. To support these situations, ERMrest and the `DataPath`'s `link(...)` method can specify the columns to use for the link condition, explicitly.\n",
    "\n",
    "The structure of the `on` clause is:\n",
    "- an equality comparison operation where\n",
    "- the _left_ operand is a column of the _left_ table instance which is also the path _context_ before the link method is called, and\n",
    "- the _right_ operand is a column of the _right_ table instance which is the table _to be linked_ to the path."
   ]
  },
  {
   "cell_type": "code",
   "execution_count": 18,
   "metadata": {},
   "outputs": [
    {
     "name": "stdout",
     "output_type": "stream",
     "text": [
      "https://www.facebase.org/ermrest/catalog/1/entity/dataset:=isa:dataset/sample:=(id)=(isa:sample:dataset)\n"
     ]
    }
   ],
   "source": [
    "path = dataset.link(sample, on=(dataset.id==sample.dataset))\n",
    "print(path.uri)"
   ]
  },
  {
   "cell_type": "markdown",
   "metadata": {},
   "source": [
    "**IMPORTANT** Not all tables are related by foreign key references. ERMrest does not allow arbitrary relational joins. Tables must be related by a foreign key reference in order to link them in a data path."
   ]
  },
  {
   "cell_type": "code",
   "execution_count": 19,
   "metadata": {},
   "outputs": [
    {
     "data": {
      "text/html": [
       "<div>\n",
       "<style>\n",
       "    .dataframe thead tr:only-child th {\n",
       "        text-align: right;\n",
       "    }\n",
       "\n",
       "    .dataframe thead th {\n",
       "        text-align: left;\n",
       "    }\n",
       "\n",
       "    .dataframe tbody tr th {\n",
       "        vertical-align: top;\n",
       "    }\n",
       "</style>\n",
       "<table border=\"1\" class=\"dataframe\">\n",
       "  <thead>\n",
       "    <tr style=\"text-align: right;\">\n",
       "      <th></th>\n",
       "      <th>RCB</th>\n",
       "      <th>RCT</th>\n",
       "      <th>RID</th>\n",
       "      <th>RMB</th>\n",
       "      <th>RMT</th>\n",
       "      <th>_keywords</th>\n",
       "      <th>anatomy</th>\n",
       "      <th>collection_date</th>\n",
       "      <th>dataset</th>\n",
       "      <th>gender</th>\n",
       "      <th>...</th>\n",
       "      <th>mutation</th>\n",
       "      <th>origin</th>\n",
       "      <th>phenotype</th>\n",
       "      <th>replicate</th>\n",
       "      <th>replicate_group</th>\n",
       "      <th>species</th>\n",
       "      <th>specimen</th>\n",
       "      <th>stage</th>\n",
       "      <th>strain</th>\n",
       "      <th>theiler_stage</th>\n",
       "    </tr>\n",
       "  </thead>\n",
       "  <tbody>\n",
       "    <tr>\n",
       "      <th>0</th>\n",
       "      <td>None</td>\n",
       "      <td>2017-09-22T17:33:18.797126-07:00</td>\n",
       "      <td>14312</td>\n",
       "      <td>None</td>\n",
       "      <td>2017-09-22T17:33:18.797126-07:00</td>\n",
       "      <td>None</td>\n",
       "      <td>173</td>\n",
       "      <td>2014-08-25</td>\n",
       "      <td>14139</td>\n",
       "      <td>None</td>\n",
       "      <td>...</td>\n",
       "      <td>None</td>\n",
       "      <td>None</td>\n",
       "      <td>None</td>\n",
       "      <td>None</td>\n",
       "      <td>None</td>\n",
       "      <td>2</td>\n",
       "      <td>None</td>\n",
       "      <td>5</td>\n",
       "      <td>3</td>\n",
       "      <td>25</td>\n",
       "    </tr>\n",
       "    <tr>\n",
       "      <th>1</th>\n",
       "      <td>None</td>\n",
       "      <td>2017-09-22T17:33:18.797126-07:00</td>\n",
       "      <td>14313</td>\n",
       "      <td>None</td>\n",
       "      <td>2017-09-22T17:33:18.797126-07:00</td>\n",
       "      <td>None</td>\n",
       "      <td>133</td>\n",
       "      <td>2014-08-25</td>\n",
       "      <td>14139</td>\n",
       "      <td>None</td>\n",
       "      <td>...</td>\n",
       "      <td>None</td>\n",
       "      <td>None</td>\n",
       "      <td>None</td>\n",
       "      <td>None</td>\n",
       "      <td>None</td>\n",
       "      <td>2</td>\n",
       "      <td>None</td>\n",
       "      <td>5</td>\n",
       "      <td>3</td>\n",
       "      <td>25</td>\n",
       "    </tr>\n",
       "    <tr>\n",
       "      <th>2</th>\n",
       "      <td>None</td>\n",
       "      <td>2017-09-22T17:33:18.797126-07:00</td>\n",
       "      <td>14314</td>\n",
       "      <td>None</td>\n",
       "      <td>2017-09-22T17:33:18.797126-07:00</td>\n",
       "      <td>None</td>\n",
       "      <td>139</td>\n",
       "      <td>2014-08-25</td>\n",
       "      <td>14139</td>\n",
       "      <td>None</td>\n",
       "      <td>...</td>\n",
       "      <td>None</td>\n",
       "      <td>None</td>\n",
       "      <td>None</td>\n",
       "      <td>None</td>\n",
       "      <td>None</td>\n",
       "      <td>2</td>\n",
       "      <td>None</td>\n",
       "      <td>5</td>\n",
       "      <td>3</td>\n",
       "      <td>25</td>\n",
       "    </tr>\n",
       "  </tbody>\n",
       "</table>\n",
       "<p>3 rows × 25 columns</p>\n",
       "</div>"
      ],
      "text/plain": [
       "    RCB                               RCT    RID   RMB  \\\n",
       "0  None  2017-09-22T17:33:18.797126-07:00  14312  None   \n",
       "1  None  2017-09-22T17:33:18.797126-07:00  14313  None   \n",
       "2  None  2017-09-22T17:33:18.797126-07:00  14314  None   \n",
       "\n",
       "                                RMT _keywords  anatomy collection_date  \\\n",
       "0  2017-09-22T17:33:18.797126-07:00      None      173      2014-08-25   \n",
       "1  2017-09-22T17:33:18.797126-07:00      None      133      2014-08-25   \n",
       "2  2017-09-22T17:33:18.797126-07:00      None      139      2014-08-25   \n",
       "\n",
       "   dataset gender      ...      mutation  origin  phenotype replicate  \\\n",
       "0    14139   None      ...          None    None       None      None   \n",
       "1    14139   None      ...          None    None       None      None   \n",
       "2    14139   None      ...          None    None       None      None   \n",
       "\n",
       "  replicate_group species specimen stage strain theiler_stage  \n",
       "0            None       2     None     5      3            25  \n",
       "1            None       2     None     5      3            25  \n",
       "2            None       2     None     5      3            25  \n",
       "\n",
       "[3 rows x 25 columns]"
      ]
     },
     "execution_count": 19,
     "metadata": {},
     "output_type": "execute_result"
    }
   ],
   "source": [
    "path.entities().fetch(limit=3).dataframe"
   ]
  },
  {
   "cell_type": "markdown",
   "metadata": {},
   "source": [
    "### Example: explicit column links combined with table aliasing\n",
    "As usual, table instances are generated automatically unless we provide a table alias."
   ]
  },
  {
   "cell_type": "code",
   "execution_count": 20,
   "metadata": {},
   "outputs": [
    {
     "name": "stdout",
     "output_type": "stream",
     "text": [
      "https://www.facebase.org/ermrest/catalog/1/entity/dataset:=isa:dataset/S:=(id)=(isa:sample:dataset)\n"
     ]
    }
   ],
   "source": [
    "path = dataset.link(sample.alias('S'), on=(dataset.id==sample.dataset))\n",
    "print(path.uri)"
   ]
  },
  {
   "cell_type": "markdown",
   "metadata": {},
   "source": [
    "Notice that we cannot use the alias right away in the `on` clause because it was not _bound_ to the path until _after_ the `link(...)` operation was performed."
   ]
  },
  {
   "cell_type": "markdown",
   "metadata": {},
   "source": [
    "### Example: links with \"outer join\" semantics\n",
    "Up until now, the examples have shown \"`link`s\" with _inner join_ semantics. _Outer join_ semantics can be expressed as part of explicit column links, and _only_ when using explicit column links.\n",
    "\n",
    "The `link(...)` method accepts a \"`join_type`\" parameter, i.e., \"`.link(... join_type=TYPE)`\", where _TYPE_ may be `'left'`, `'right'`, `'full'`, and defaults to `''` which indicates inner join type.\n",
    "\n",
    "By '`right`' outer joining in the link from `'sample'` to `'dataset`', the following path gives us a reference to `'dataset'` entities that _may or may not_ have any samples with assays."
   ]
  },
  {
   "cell_type": "code",
   "execution_count": 21,
   "metadata": {},
   "outputs": [
    {
     "name": "stdout",
     "output_type": "stream",
     "text": [
      "https://www.facebase.org/ermrest/catalog/1/attribute/assay:=isa:assay/S:=(sample)=(isa:sample:id)/D:=right(dataset)=(isa:dataset:id)/D:accession,D:title,S:species,S:stage\n"
     ]
    },
    {
     "data": {
      "text/plain": [
       "719"
      ]
     },
     "execution_count": 21,
     "metadata": {},
     "output_type": "execute_result"
    }
   ],
   "source": [
    "path = assay.link(sample.alias('S'), on=assay.sample==sample.id) \\\n",
    "            .link(dataset.alias('D'), sample.dataset==dataset.id, join_type='right')\n",
    "\n",
    "# path instances were not bound until the above line was executed\n",
    "\n",
    "entities = path.entities(path.D.accession, path.D.title, path.S.species, path.S.stage)\n",
    "\n",
    "print(entities.uri)\n",
    "len(entities)"
   ]
  },
  {
   "cell_type": "markdown",
   "metadata": {},
   "source": [
    "We can see above that we have a full set of datasets _whether or not_ they have any samples with assays. For further evidence, we can convert to a DataFrame and look at a slice of its entries. Note that the sample's 'species' and 'stage' attributes do not exist for some entities (i.e., `NaN`) because those entities did not exist for the join condition."
   ]
  },
  {
   "cell_type": "code",
   "execution_count": 22,
   "metadata": {},
   "outputs": [
    {
     "data": {
      "text/html": [
       "<div>\n",
       "<style>\n",
       "    .dataframe thead tr:only-child th {\n",
       "        text-align: right;\n",
       "    }\n",
       "\n",
       "    .dataframe thead th {\n",
       "        text-align: left;\n",
       "    }\n",
       "\n",
       "    .dataframe tbody tr th {\n",
       "        vertical-align: top;\n",
       "    }\n",
       "</style>\n",
       "<table border=\"1\" class=\"dataframe\">\n",
       "  <thead>\n",
       "    <tr style=\"text-align: right;\">\n",
       "      <th></th>\n",
       "      <th>accession</th>\n",
       "      <th>species</th>\n",
       "      <th>stage</th>\n",
       "      <th>title</th>\n",
       "    </tr>\n",
       "  </thead>\n",
       "  <tbody>\n",
       "    <tr>\n",
       "      <th>700</th>\n",
       "      <td>FB00000884</td>\n",
       "      <td>NaN</td>\n",
       "      <td>NaN</td>\n",
       "      <td>Skull vault formation in individual WT AB Fish</td>\n",
       "    </tr>\n",
       "    <tr>\n",
       "      <th>701</th>\n",
       "      <td>FB00000885</td>\n",
       "      <td>NaN</td>\n",
       "      <td>NaN</td>\n",
       "      <td>Skull vault formation in individual WT AB Fish</td>\n",
       "    </tr>\n",
       "    <tr>\n",
       "      <th>702</th>\n",
       "      <td>FB00000886</td>\n",
       "      <td>NaN</td>\n",
       "      <td>NaN</td>\n",
       "      <td>Skull vault formation in individual WT AB Fish</td>\n",
       "    </tr>\n",
       "    <tr>\n",
       "      <th>703</th>\n",
       "      <td>FB00000887</td>\n",
       "      <td>NaN</td>\n",
       "      <td>NaN</td>\n",
       "      <td>Skull vault formation in individual WT AB Fish</td>\n",
       "    </tr>\n",
       "    <tr>\n",
       "      <th>704</th>\n",
       "      <td>FB00000888</td>\n",
       "      <td>NaN</td>\n",
       "      <td>NaN</td>\n",
       "      <td>Skull vault formation in individual WT AB Fish</td>\n",
       "    </tr>\n",
       "    <tr>\n",
       "      <th>705</th>\n",
       "      <td>FB00000889</td>\n",
       "      <td>NaN</td>\n",
       "      <td>NaN</td>\n",
       "      <td>Skull vault formation in individual WT AB Fish</td>\n",
       "    </tr>\n",
       "    <tr>\n",
       "      <th>706</th>\n",
       "      <td>FB00000890</td>\n",
       "      <td>NaN</td>\n",
       "      <td>NaN</td>\n",
       "      <td>Skull vault formation in individual WT AB Fish</td>\n",
       "    </tr>\n",
       "    <tr>\n",
       "      <th>707</th>\n",
       "      <td>FB00000891</td>\n",
       "      <td>2.0</td>\n",
       "      <td>5.0</td>\n",
       "      <td>Temporal analysis of ectoderm and mesenchyme e...</td>\n",
       "    </tr>\n",
       "    <tr>\n",
       "      <th>708</th>\n",
       "      <td>FB00000892</td>\n",
       "      <td>NaN</td>\n",
       "      <td>NaN</td>\n",
       "      <td>3D White Light Photogrammetry Images of North ...</td>\n",
       "    </tr>\n",
       "    <tr>\n",
       "      <th>709</th>\n",
       "      <td>FB00000902</td>\n",
       "      <td>2.0</td>\n",
       "      <td>25.0</td>\n",
       "      <td>Transcriptome Atlases of the Craniofacial Sutures</td>\n",
       "    </tr>\n",
       "    <tr>\n",
       "      <th>710</th>\n",
       "      <td>FB00000903</td>\n",
       "      <td>2.0</td>\n",
       "      <td>4.0</td>\n",
       "      <td>Transcriptome Atlases of the Craniofacial Sutures</td>\n",
       "    </tr>\n",
       "    <tr>\n",
       "      <th>711</th>\n",
       "      <td>FB00000904</td>\n",
       "      <td>2.0</td>\n",
       "      <td>4.0</td>\n",
       "      <td>Transcriptome Atlases of the Craniofacial Sutures</td>\n",
       "    </tr>\n",
       "    <tr>\n",
       "      <th>712</th>\n",
       "      <td>FB00000905</td>\n",
       "      <td>NaN</td>\n",
       "      <td>NaN</td>\n",
       "      <td>Spatial and temporal analysis of gene expressi...</td>\n",
       "    </tr>\n",
       "    <tr>\n",
       "      <th>713</th>\n",
       "      <td>FB00000906</td>\n",
       "      <td>NaN</td>\n",
       "      <td>NaN</td>\n",
       "      <td>Interpremaxilliary suture data submission</td>\n",
       "    </tr>\n",
       "    <tr>\n",
       "      <th>714</th>\n",
       "      <td>FB00000907</td>\n",
       "      <td>NaN</td>\n",
       "      <td>NaN</td>\n",
       "      <td>FB0044_ALX1_Quad Saliva</td>\n",
       "    </tr>\n",
       "    <tr>\n",
       "      <th>715</th>\n",
       "      <td>FB00000908</td>\n",
       "      <td>NaN</td>\n",
       "      <td>NaN</td>\n",
       "      <td>MicroCT-Skull Wnt1-Cre;Alk5fl/fl mouse at P0</td>\n",
       "    </tr>\n",
       "    <tr>\n",
       "      <th>716</th>\n",
       "      <td>FB00000909</td>\n",
       "      <td>NaN</td>\n",
       "      <td>NaN</td>\n",
       "      <td>ChIP-seq and RNA-seq of mouse e13.5 maxillary ...</td>\n",
       "    </tr>\n",
       "    <tr>\n",
       "      <th>717</th>\n",
       "      <td>FB00000910</td>\n",
       "      <td>NaN</td>\n",
       "      <td>NaN</td>\n",
       "      <td>MicroCT-Skull Wnt1-Cre;Alk5fl/fl mouse at P0</td>\n",
       "    </tr>\n",
       "    <tr>\n",
       "      <th>718</th>\n",
       "      <td>FB00000911</td>\n",
       "      <td>NaN</td>\n",
       "      <td>NaN</td>\n",
       "      <td>MicroCT-Head Wnt1-Cre;Alk5fl/fl mouse at P0</td>\n",
       "    </tr>\n",
       "  </tbody>\n",
       "</table>\n",
       "</div>"
      ],
      "text/plain": [
       "      accession  species  stage  \\\n",
       "700  FB00000884      NaN    NaN   \n",
       "701  FB00000885      NaN    NaN   \n",
       "702  FB00000886      NaN    NaN   \n",
       "703  FB00000887      NaN    NaN   \n",
       "704  FB00000888      NaN    NaN   \n",
       "705  FB00000889      NaN    NaN   \n",
       "706  FB00000890      NaN    NaN   \n",
       "707  FB00000891      2.0    5.0   \n",
       "708  FB00000892      NaN    NaN   \n",
       "709  FB00000902      2.0   25.0   \n",
       "710  FB00000903      2.0    4.0   \n",
       "711  FB00000904      2.0    4.0   \n",
       "712  FB00000905      NaN    NaN   \n",
       "713  FB00000906      NaN    NaN   \n",
       "714  FB00000907      NaN    NaN   \n",
       "715  FB00000908      NaN    NaN   \n",
       "716  FB00000909      NaN    NaN   \n",
       "717  FB00000910      NaN    NaN   \n",
       "718  FB00000911      NaN    NaN   \n",
       "\n",
       "                                                 title  \n",
       "700     Skull vault formation in individual WT AB Fish  \n",
       "701     Skull vault formation in individual WT AB Fish  \n",
       "702     Skull vault formation in individual WT AB Fish  \n",
       "703     Skull vault formation in individual WT AB Fish  \n",
       "704     Skull vault formation in individual WT AB Fish  \n",
       "705     Skull vault formation in individual WT AB Fish  \n",
       "706     Skull vault formation in individual WT AB Fish  \n",
       "707  Temporal analysis of ectoderm and mesenchyme e...  \n",
       "708  3D White Light Photogrammetry Images of North ...  \n",
       "709  Transcriptome Atlases of the Craniofacial Sutures  \n",
       "710  Transcriptome Atlases of the Craniofacial Sutures  \n",
       "711  Transcriptome Atlases of the Craniofacial Sutures  \n",
       "712  Spatial and temporal analysis of gene expressi...  \n",
       "713          Interpremaxilliary suture data submission  \n",
       "714                            FB0044_ALX1_Quad Saliva  \n",
       "715       MicroCT-Skull Wnt1-Cre;Alk5fl/fl mouse at P0  \n",
       "716  ChIP-seq and RNA-seq of mouse e13.5 maxillary ...  \n",
       "717       MicroCT-Skull Wnt1-Cre;Alk5fl/fl mouse at P0  \n",
       "718        MicroCT-Head Wnt1-Cre;Alk5fl/fl mouse at P0  "
      ]
     },
     "execution_count": 22,
     "metadata": {},
     "output_type": "execute_result"
    }
   ],
   "source": [
    "entities.dataframe[700:]"
   ]
  },
  {
   "cell_type": "markdown",
   "metadata": {},
   "source": [
    "## Faceting Examples\n",
    "You may have noticed that in the examples above, the 'species' and 'stage' attributes are numeric. These are internal \"primary keys\" that are not meaningful and difficult to filter on. We may want to construct filters on our datasets based on these categories. This can be used for \"faceted search\" modes and can be useful even within the context of programmatic access to data in the catalog."
   ]
  },
  {
   "cell_type": "markdown",
   "metadata": {},
   "source": [
    "### Example: faceting on \"related\" tables\n",
    "Let's say we want to find all of the samples in our catalog where their species are 'Mus musculus' and their age stage are 'E10.5'.\n",
    "\n",
    "We need to extend our understanding of the data model with the following tables that are related to '`sample`'.\n",
    "- `isa.sample.species -> vocabulary.species.id`: the sample table has a foreign key reference to the '`species`' table.\n",
    "- `isa.sample.stage -> vocabulary.stage.id`: the sample table has a foreign key reference to the '`stage`' table.\n",
    "\n",
    "We may say that `species` and `stage` are _related_ to the `sample` table in the sense that `sample` has a direct foreign key relationship from it to them.\n",
    "\n",
    "For convenience, we will get local variables for the species and stage tables."
   ]
  },
  {
   "cell_type": "code",
   "execution_count": 23,
   "metadata": {
    "collapsed": true
   },
   "outputs": [],
   "source": [
    "species = pb.vocabulary.species\n",
    "stage = pb.vocabulary.stage"
   ]
  },
  {
   "cell_type": "markdown",
   "metadata": {},
   "source": [
    "First, let's link samples with species and filter on the term \"Mus musculus\" (i.e., \"mouse\")."
   ]
  },
  {
   "cell_type": "code",
   "execution_count": 24,
   "metadata": {},
   "outputs": [
    {
     "name": "stdout",
     "output_type": "stream",
     "text": [
      "https://www.facebase.org/ermrest/catalog/1/entity/S:=isa:sample/species:=vocabulary:species/term=Mus%20musculus\n"
     ]
    }
   ],
   "source": [
    "path = sample.alias('S').link(species).filter(species.term == 'Mus musculus')\n",
    "print(path.uri)"
   ]
  },
  {
   "cell_type": "markdown",
   "metadata": {},
   "source": [
    "Now the _context_ of the path is the `species` table instance, but we need to link from the `sample` to the age `stage` table.\n",
    "\n",
    "To do so, we reference the `sample` table instance, in this case using its alias `S`. Then we link off of that table instance which updates the `path` itself."
   ]
  },
  {
   "cell_type": "code",
   "execution_count": 25,
   "metadata": {},
   "outputs": [
    {
     "name": "stdout",
     "output_type": "stream",
     "text": [
      "https://www.facebase.org/ermrest/catalog/1/entity/S:=isa:sample/species:=vocabulary:species/term=Mus%20musculus/$S/stage:=vocabulary:stage/term=E10.5\n"
     ]
    }
   ],
   "source": [
    "path.S.link(stage).filter(stage.term == 'E10.5')\n",
    "print(path.uri)"
   ]
  },
  {
   "cell_type": "markdown",
   "metadata": {},
   "source": [
    "Now, the path _context_ is the age `stage` table instance, but we wanted to get the entities for the `sample` table. To do so, again we will reference the `sample` table instance by the alias `S` we used. From there, we will call the `entities(...)` method to get the samples."
   ]
  },
  {
   "cell_type": "code",
   "execution_count": 26,
   "metadata": {},
   "outputs": [
    {
     "name": "stdout",
     "output_type": "stream",
     "text": [
      "https://www.facebase.org/ermrest/catalog/1/attribute/S:=isa:sample/species:=vocabulary:species/term=Mus%20musculus/$S/stage:=vocabulary:stage/term=E10.5/$S/S:id,S:collection_date,species:=species:term,species_iri:=species:iri,stage:=stage:term,stage_iei:=stage:iri\n"
     ]
    }
   ],
   "source": [
    "entities = path.S.entities(path.S.id,\n",
    "                           path.S.collection_date,\n",
    "                           species=path.species.term,\n",
    "                           species_iri=path.species.iri,\n",
    "                           stage=path.stage.term,\n",
    "                           stage_iei=path.stage.iri)\n",
    "print(entities.uri)"
   ]
  },
  {
   "cell_type": "code",
   "execution_count": 27,
   "metadata": {},
   "outputs": [
    {
     "data": {
      "text/html": [
       "<div>\n",
       "<style>\n",
       "    .dataframe thead tr:only-child th {\n",
       "        text-align: right;\n",
       "    }\n",
       "\n",
       "    .dataframe thead th {\n",
       "        text-align: left;\n",
       "    }\n",
       "\n",
       "    .dataframe tbody tr th {\n",
       "        vertical-align: top;\n",
       "    }\n",
       "</style>\n",
       "<table border=\"1\" class=\"dataframe\">\n",
       "  <thead>\n",
       "    <tr style=\"text-align: right;\">\n",
       "      <th></th>\n",
       "      <th>collection_date</th>\n",
       "      <th>id</th>\n",
       "      <th>species</th>\n",
       "      <th>species_iri</th>\n",
       "      <th>stage</th>\n",
       "      <th>stage_iei</th>\n",
       "    </tr>\n",
       "  </thead>\n",
       "  <tbody>\n",
       "    <tr>\n",
       "      <th>0</th>\n",
       "      <td>2015-07-14</td>\n",
       "      <td>1331</td>\n",
       "      <td>Mus musculus</td>\n",
       "      <td>http://purl.bioontology.org/ontology/NCBITAXON...</td>\n",
       "      <td>E10.5</td>\n",
       "      <td>http://purl.org/sig/ont/cmo/cmo0008759</td>\n",
       "    </tr>\n",
       "    <tr>\n",
       "      <th>1</th>\n",
       "      <td>2015-07-14</td>\n",
       "      <td>1332</td>\n",
       "      <td>Mus musculus</td>\n",
       "      <td>http://purl.bioontology.org/ontology/NCBITAXON...</td>\n",
       "      <td>E10.5</td>\n",
       "      <td>http://purl.org/sig/ont/cmo/cmo0008759</td>\n",
       "    </tr>\n",
       "    <tr>\n",
       "      <th>2</th>\n",
       "      <td>2015-07-14</td>\n",
       "      <td>1333</td>\n",
       "      <td>Mus musculus</td>\n",
       "      <td>http://purl.bioontology.org/ontology/NCBITAXON...</td>\n",
       "      <td>E10.5</td>\n",
       "      <td>http://purl.org/sig/ont/cmo/cmo0008759</td>\n",
       "    </tr>\n",
       "    <tr>\n",
       "      <th>3</th>\n",
       "      <td>2015-07-14</td>\n",
       "      <td>1334</td>\n",
       "      <td>Mus musculus</td>\n",
       "      <td>http://purl.bioontology.org/ontology/NCBITAXON...</td>\n",
       "      <td>E10.5</td>\n",
       "      <td>http://purl.org/sig/ont/cmo/cmo0008759</td>\n",
       "    </tr>\n",
       "    <tr>\n",
       "      <th>4</th>\n",
       "      <td>2015-07-14</td>\n",
       "      <td>1335</td>\n",
       "      <td>Mus musculus</td>\n",
       "      <td>http://purl.bioontology.org/ontology/NCBITAXON...</td>\n",
       "      <td>E10.5</td>\n",
       "      <td>http://purl.org/sig/ont/cmo/cmo0008759</td>\n",
       "    </tr>\n",
       "    <tr>\n",
       "      <th>5</th>\n",
       "      <td>2015-07-14</td>\n",
       "      <td>1336</td>\n",
       "      <td>Mus musculus</td>\n",
       "      <td>http://purl.bioontology.org/ontology/NCBITAXON...</td>\n",
       "      <td>E10.5</td>\n",
       "      <td>http://purl.org/sig/ont/cmo/cmo0008759</td>\n",
       "    </tr>\n",
       "  </tbody>\n",
       "</table>\n",
       "</div>"
      ],
      "text/plain": [
       "  collection_date    id       species  \\\n",
       "0      2015-07-14  1331  Mus musculus   \n",
       "1      2015-07-14  1332  Mus musculus   \n",
       "2      2015-07-14  1333  Mus musculus   \n",
       "3      2015-07-14  1334  Mus musculus   \n",
       "4      2015-07-14  1335  Mus musculus   \n",
       "5      2015-07-14  1336  Mus musculus   \n",
       "\n",
       "                                         species_iri  stage  \\\n",
       "0  http://purl.bioontology.org/ontology/NCBITAXON...  E10.5   \n",
       "1  http://purl.bioontology.org/ontology/NCBITAXON...  E10.5   \n",
       "2  http://purl.bioontology.org/ontology/NCBITAXON...  E10.5   \n",
       "3  http://purl.bioontology.org/ontology/NCBITAXON...  E10.5   \n",
       "4  http://purl.bioontology.org/ontology/NCBITAXON...  E10.5   \n",
       "5  http://purl.bioontology.org/ontology/NCBITAXON...  E10.5   \n",
       "\n",
       "                                stage_iei  \n",
       "0  http://purl.org/sig/ont/cmo/cmo0008759  \n",
       "1  http://purl.org/sig/ont/cmo/cmo0008759  \n",
       "2  http://purl.org/sig/ont/cmo/cmo0008759  \n",
       "3  http://purl.org/sig/ont/cmo/cmo0008759  \n",
       "4  http://purl.org/sig/ont/cmo/cmo0008759  \n",
       "5  http://purl.org/sig/ont/cmo/cmo0008759  "
      ]
     },
     "execution_count": 27,
     "metadata": {},
     "output_type": "execute_result"
    }
   ],
   "source": [
    "entities.dataframe"
   ]
  }
 ],
 "metadata": {
  "kernelspec": {
   "display_name": "Python 3",
   "language": "python",
   "name": "python3"
  },
  "language_info": {
   "codemirror_mode": {
    "name": "ipython",
    "version": 3
   },
   "file_extension": ".py",
   "mimetype": "text/x-python",
   "name": "python",
   "nbconvert_exporter": "python",
   "pygments_lexer": "ipython3",
   "version": "3.6.2"
  }
 },
 "nbformat": 4,
 "nbformat_minor": 2
}
