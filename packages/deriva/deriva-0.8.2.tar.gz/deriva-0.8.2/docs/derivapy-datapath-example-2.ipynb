{
 "cells": [
  {
   "cell_type": "markdown",
   "metadata": {
    "collapsed": true
   },
   "source": [
    "# DataPath Example 2\n",
    "This notebook gives a very basic example of how to access data. \n",
    "It assumes that you understand the concepts presented in the \n",
    "example 1 notebook."
   ]
  },
  {
   "cell_type": "code",
   "execution_count": 1,
   "metadata": {},
   "outputs": [],
   "source": [
    "# Import deriva modules\n",
    "from deriva.core import ErmrestCatalog, get_credential"
   ]
  },
  {
   "cell_type": "code",
   "execution_count": 2,
   "metadata": {},
   "outputs": [],
   "source": [
    "# Connect with the deriva catalog\n",
    "protocol = 'https'\n",
    "hostname = 'www.facebase.org'\n",
    "catalog_number = 1\n",
    "credential = get_credential(hostname)\n",
    "catalog = ErmrestCatalog(protocol, hostname, catalog_number, credential)"
   ]
  },
  {
   "cell_type": "code",
   "execution_count": 3,
   "metadata": {},
   "outputs": [],
   "source": [
    "# Get the path builder interface for this catalog\n",
    "pb = catalog.getPathBuilder()"
   ]
  },
  {
   "cell_type": "markdown",
   "metadata": {},
   "source": [
    "## DataPaths\n",
    "The `PathBuilder` object allows you to begin `DataPath`s from the base `Table`s. A `DataPath` begins with a `Table` (or an `TableAlias` to be discussed later) as its \"root\" from which one can \"`link`\", \"`filter`\", and fetch its \"`entities`\"."
   ]
  },
  {
   "cell_type": "markdown",
   "metadata": {},
   "source": [
    "### Start a path rooted at a table from the catalog\n",
    "We will reference a table from the PathBuilder `pb` variable from above. Using the PathBuilder, we will reference the \"isa\" schema, then the \"dataset\" table, and from that table start a path."
   ]
  },
  {
   "cell_type": "code",
   "execution_count": 4,
   "metadata": {},
   "outputs": [],
   "source": [
    "path = pb.schemas['isa'].tables['dataset'].path"
   ]
  },
  {
   "cell_type": "markdown",
   "metadata": {},
   "source": [
    "We could have used the more compact dot-notation to start the same path."
   ]
  },
  {
   "cell_type": "code",
   "execution_count": 5,
   "metadata": {},
   "outputs": [],
   "source": [
    "path = pb.isa.dataset.path"
   ]
  },
  {
   "cell_type": "markdown",
   "metadata": {},
   "source": [
    "### Getting the URI of the current path\n",
    "All DataPaths have URIs for the referenced resources in ERMrest. The URI identifies the resources which are available through \"RESTful\" Web protocols supported by ERMrest."
   ]
  },
  {
   "cell_type": "code",
   "execution_count": 6,
   "metadata": {},
   "outputs": [
    {
     "name": "stdout",
     "output_type": "stream",
     "text": [
      "https://www.facebase.org/ermrest/catalog/1/entity/dataset:=isa:dataset\n"
     ]
    }
   ],
   "source": [
    "print(path.uri)"
   ]
  },
  {
   "cell_type": "markdown",
   "metadata": {},
   "source": [
    "## EntitySets\n",
    "The entities from a DataPath are accessed through a pythonic container object, the `EntitySet`. The `EntitySet` is returned by the DataPath's `entities()` method."
   ]
  },
  {
   "cell_type": "code",
   "execution_count": 7,
   "metadata": {},
   "outputs": [],
   "source": [
    "entities = path.entities()"
   ]
  },
  {
   "cell_type": "markdown",
   "metadata": {},
   "source": [
    "### Fetch entities from the catalog\n",
    "Now we can get entities from the server using the EntitySet's `fetch()` method."
   ]
  },
  {
   "cell_type": "code",
   "execution_count": 8,
   "metadata": {},
   "outputs": [
    {
     "data": {
      "text/plain": [
       "<deriva.core.datapath.EntitySet at 0x10f24c9b0>"
      ]
     },
     "execution_count": 8,
     "metadata": {},
     "output_type": "execute_result"
    }
   ],
   "source": [
    "entities.fetch()"
   ]
  },
  {
   "cell_type": "markdown",
   "metadata": {},
   "source": [
    "`EntitySet`s behave like python containers. For example, we can check the count of rows in this EntitySet."
   ]
  },
  {
   "cell_type": "code",
   "execution_count": 9,
   "metadata": {},
   "outputs": [
    {
     "data": {
      "text/plain": [
       "777"
      ]
     },
     "execution_count": 9,
     "metadata": {},
     "output_type": "execute_result"
    }
   ],
   "source": [
    "len(entities)"
   ]
  },
  {
   "cell_type": "markdown",
   "metadata": {},
   "source": [
    "**Note**: If we had not explicitly called the `fetch()` method, then it would have been called implicitly on the first container operation such as `len(...)`, `list(...)`, `iter(...)` or get item `[...]`."
   ]
  },
  {
   "cell_type": "markdown",
   "metadata": {},
   "source": [
    "### Get an entity\n",
    "To get one entity from the set, use the usual container operator to get an item."
   ]
  },
  {
   "cell_type": "code",
   "execution_count": 10,
   "metadata": {},
   "outputs": [
    {
     "data": {
      "text/plain": [
       "{'id': 6488,\n",
       " 'accession': 'FB00000388.01',\n",
       " 'title': 'microMRI images of skulls of Wnt1 * Tgfbr2F/F * Alk5F/+ mice at E18.5',\n",
       " 'project': 151,\n",
       " 'funding': 'PIs: Scott Fraser and Seth Ruffins. This work was funded by a grant from NIH NIDCR to Scott Fraser.\\r\\n',\n",
       " 'summary': ' microMRI images of skulls of Wnt1Tgfbr2F/F * Alk5F/+ mice at E18.5. The dataset contains 3-D images in niftii format for 1 mouse. ',\n",
       " 'description': ' microMRI images of skulls of Wnt1Tgfbr2F/F * Alk5F/+ mice at E18.5. The dataset contains 3-D images in niftii format for 1 mouse.  \\n',\n",
       " 'view_gene_summary': None,\n",
       " 'mouse_genetic': None,\n",
       " 'human_anatomic': None,\n",
       " 'study_design': None,\n",
       " 'release_date': '2015-06-01',\n",
       " 'status': 2,\n",
       " 'gene_summary': None,\n",
       " 'thumbnail': 382,\n",
       " 'show_in_jbrowse': None,\n",
       " '_keywords': 'Functional Analysis of Neural Crest and Palate Released',\n",
       " 'RID': 13624,\n",
       " 'RCB': None,\n",
       " 'RMB': None,\n",
       " 'RCT': '2017-09-22T17:33:18.797126-07:00',\n",
       " 'RMT': '2018-03-12T03:29:19.902128-07:00'}"
      ]
     },
     "execution_count": 10,
     "metadata": {},
     "output_type": "execute_result"
    }
   ],
   "source": [
    "entities[9]"
   ]
  },
  {
   "cell_type": "markdown",
   "metadata": {},
   "source": [
    "### Get a specific attribute value from an entity\n",
    "To get one attribute value from an entity get the item using its `Column`'s `name` property."
   ]
  },
  {
   "cell_type": "code",
   "execution_count": 11,
   "metadata": {},
   "outputs": [
    {
     "name": "stdout",
     "output_type": "stream",
     "text": [
      "FB00000388.01\n"
     ]
    }
   ],
   "source": [
    "dataset = pb.schemas['isa'].tables['dataset']\n",
    "print (entities[9][dataset.accession.name])"
   ]
  },
  {
   "cell_type": "markdown",
   "metadata": {},
   "source": [
    "## Fetch a Limited Number of Entities\n",
    "To set a limit on the number of entities to be fetched from the catalog, use the explicit `fetch(limit=...)` method with the desired upper limit to fetch from the catalog."
   ]
  },
  {
   "cell_type": "code",
   "execution_count": 12,
   "metadata": {},
   "outputs": [
    {
     "data": {
      "text/plain": [
       "3"
      ]
     },
     "execution_count": 12,
     "metadata": {},
     "output_type": "execute_result"
    }
   ],
   "source": [
    "entities.fetch(limit=3)\n",
    "len(entities)"
   ]
  },
  {
   "cell_type": "markdown",
   "metadata": {},
   "source": [
    "### Iterate over the EntitySet\n",
    "`EntitySet`s are iterable like a typical container."
   ]
  },
  {
   "cell_type": "code",
   "execution_count": 13,
   "metadata": {},
   "outputs": [
    {
     "name": "stdout",
     "output_type": "stream",
     "text": [
      "FB00000965\n",
      "FB00000942\n",
      "FB00000952\n"
     ]
    }
   ],
   "source": [
    "for entity in entities:\n",
    "    print(entity[dataset.accession.name])"
   ]
  },
  {
   "cell_type": "markdown",
   "metadata": {},
   "source": [
    "## Convert to Pandas DataFrame\n",
    "EntitySets can be transformed into the popular Pandas DataFrame."
   ]
  },
  {
   "cell_type": "code",
   "execution_count": 14,
   "metadata": {},
   "outputs": [
    {
     "data": {
      "text/html": [
       "<div>\n",
       "<style scoped>\n",
       "    .dataframe tbody tr th:only-of-type {\n",
       "        vertical-align: middle;\n",
       "    }\n",
       "\n",
       "    .dataframe tbody tr th {\n",
       "        vertical-align: top;\n",
       "    }\n",
       "\n",
       "    .dataframe thead th {\n",
       "        text-align: right;\n",
       "    }\n",
       "</style>\n",
       "<table border=\"1\" class=\"dataframe\">\n",
       "  <thead>\n",
       "    <tr style=\"text-align: right;\">\n",
       "      <th></th>\n",
       "      <th>RCB</th>\n",
       "      <th>RCT</th>\n",
       "      <th>RID</th>\n",
       "      <th>RMB</th>\n",
       "      <th>RMT</th>\n",
       "      <th>_keywords</th>\n",
       "      <th>accession</th>\n",
       "      <th>description</th>\n",
       "      <th>funding</th>\n",
       "      <th>gene_summary</th>\n",
       "      <th>...</th>\n",
       "      <th>mouse_genetic</th>\n",
       "      <th>project</th>\n",
       "      <th>release_date</th>\n",
       "      <th>show_in_jbrowse</th>\n",
       "      <th>status</th>\n",
       "      <th>study_design</th>\n",
       "      <th>summary</th>\n",
       "      <th>thumbnail</th>\n",
       "      <th>title</th>\n",
       "      <th>view_gene_summary</th>\n",
       "    </tr>\n",
       "  </thead>\n",
       "  <tbody>\n",
       "    <tr>\n",
       "      <th>0</th>\n",
       "      <td>https://auth.globus.org/f226978f-e0be-4f47-a57...</td>\n",
       "      <td>2018-03-23T14:34:48.481747-07:00</td>\n",
       "      <td>61861</td>\n",
       "      <td>https://auth.globus.org/f226978f-e0be-4f47-a57...</td>\n",
       "      <td>2018-03-23T14:34:48.481747-07:00</td>\n",
       "      <td>None</td>\n",
       "      <td>FB00000965</td>\n",
       "      <td>We have generated histone ChIP-seq libraries f...</td>\n",
       "      <td>None</td>\n",
       "      <td>None</td>\n",
       "      <td>...</td>\n",
       "      <td>None</td>\n",
       "      <td>153</td>\n",
       "      <td>2018-03-23</td>\n",
       "      <td>True</td>\n",
       "      <td>1</td>\n",
       "      <td>We have generated histone ChIP-seq libraries f...</td>\n",
       "      <td>None</td>\n",
       "      <td>442</td>\n",
       "      <td>ChIP-seq and RNA-seq of mouse e15.5 mandibular...</td>\n",
       "      <td>None</td>\n",
       "    </tr>\n",
       "    <tr>\n",
       "      <th>1</th>\n",
       "      <td>https://auth.globus.org/de244c2a-618a-4f51-949...</td>\n",
       "      <td>2018-02-27T14:15:27.183844-08:00</td>\n",
       "      <td>38541</td>\n",
       "      <td>https://auth.globus.org/b506963e-d274-11e5-99f...</td>\n",
       "      <td>2018-03-13T19:23:41.416142-07:00</td>\n",
       "      <td>Rapid Identification and Validation of Human C...</td>\n",
       "      <td>FB00000942</td>\n",
       "      <td>**This is restricted-access human data.**  To...</td>\n",
       "      <td>None</td>\n",
       "      <td>None</td>\n",
       "      <td>...</td>\n",
       "      <td>None</td>\n",
       "      <td>309</td>\n",
       "      <td>2018-02-27</td>\n",
       "      <td>None</td>\n",
       "      <td>2</td>\n",
       "      <td>None</td>\n",
       "      <td>None</td>\n",
       "      <td>442</td>\n",
       "      <td>(FB0070) 12yo girl w/ micrognathia (progressiv...</td>\n",
       "      <td>None</td>\n",
       "    </tr>\n",
       "    <tr>\n",
       "      <th>2</th>\n",
       "      <td>https://auth.globus.org/de244c2a-618a-4f51-949...</td>\n",
       "      <td>2018-02-27T14:29:03.694379-08:00</td>\n",
       "      <td>38561</td>\n",
       "      <td>https://auth.globus.org/b506963e-d274-11e5-99f...</td>\n",
       "      <td>2018-03-13T19:30:20.424786-07:00</td>\n",
       "      <td>Rapid Identification and Validation of Human C...</td>\n",
       "      <td>FB00000952</td>\n",
       "      <td>**This is restricted-access human data.**  To...</td>\n",
       "      <td>None</td>\n",
       "      <td>None</td>\n",
       "      <td>...</td>\n",
       "      <td>None</td>\n",
       "      <td>309</td>\n",
       "      <td>2018-02-27</td>\n",
       "      <td>None</td>\n",
       "      <td>2</td>\n",
       "      <td>None</td>\n",
       "      <td>None</td>\n",
       "      <td>442</td>\n",
       "      <td>(FB0108) Right coronal synostosis, anisometrop...</td>\n",
       "      <td>None</td>\n",
       "    </tr>\n",
       "  </tbody>\n",
       "</table>\n",
       "<p>3 rows × 22 columns</p>\n",
       "</div>"
      ],
      "text/plain": [
       "                                                 RCB  \\\n",
       "0  https://auth.globus.org/f226978f-e0be-4f47-a57...   \n",
       "1  https://auth.globus.org/de244c2a-618a-4f51-949...   \n",
       "2  https://auth.globus.org/de244c2a-618a-4f51-949...   \n",
       "\n",
       "                                RCT    RID  \\\n",
       "0  2018-03-23T14:34:48.481747-07:00  61861   \n",
       "1  2018-02-27T14:15:27.183844-08:00  38541   \n",
       "2  2018-02-27T14:29:03.694379-08:00  38561   \n",
       "\n",
       "                                                 RMB  \\\n",
       "0  https://auth.globus.org/f226978f-e0be-4f47-a57...   \n",
       "1  https://auth.globus.org/b506963e-d274-11e5-99f...   \n",
       "2  https://auth.globus.org/b506963e-d274-11e5-99f...   \n",
       "\n",
       "                                RMT  \\\n",
       "0  2018-03-23T14:34:48.481747-07:00   \n",
       "1  2018-03-13T19:23:41.416142-07:00   \n",
       "2  2018-03-13T19:30:20.424786-07:00   \n",
       "\n",
       "                                           _keywords   accession  \\\n",
       "0                                               None  FB00000965   \n",
       "1  Rapid Identification and Validation of Human C...  FB00000942   \n",
       "2  Rapid Identification and Validation of Human C...  FB00000952   \n",
       "\n",
       "                                         description funding gene_summary  \\\n",
       "0  We have generated histone ChIP-seq libraries f...    None         None   \n",
       "1   **This is restricted-access human data.**  To...    None         None   \n",
       "2   **This is restricted-access human data.**  To...    None         None   \n",
       "\n",
       "         ...         mouse_genetic  project release_date  show_in_jbrowse  \\\n",
       "0        ...                  None      153   2018-03-23             True   \n",
       "1        ...                  None      309   2018-02-27             None   \n",
       "2        ...                  None      309   2018-02-27             None   \n",
       "\n",
       "  status                                       study_design  summary  \\\n",
       "0      1  We have generated histone ChIP-seq libraries f...     None   \n",
       "1      2                                               None     None   \n",
       "2      2                                               None     None   \n",
       "\n",
       "  thumbnail                                              title  \\\n",
       "0       442  ChIP-seq and RNA-seq of mouse e15.5 mandibular...   \n",
       "1       442  (FB0070) 12yo girl w/ micrognathia (progressiv...   \n",
       "2       442  (FB0108) Right coronal synostosis, anisometrop...   \n",
       "\n",
       "   view_gene_summary  \n",
       "0               None  \n",
       "1               None  \n",
       "2               None  \n",
       "\n",
       "[3 rows x 22 columns]"
      ]
     },
     "execution_count": 14,
     "metadata": {},
     "output_type": "execute_result"
    }
   ],
   "source": [
    "entities.dataframe"
   ]
  },
  {
   "cell_type": "markdown",
   "metadata": {
    "collapsed": true
   },
   "source": [
    "## Selecting Attributes\n",
    "It is also possible to fetch only a subset of attributes from the catalog. The `entities(...)` method accepts a variable argument list followed by keyword arguments. Each argument must be a `Column` object from the table's `columns` container.\n",
    "\n",
    "### Renaming selected attributes\n",
    "To rename the selected attributes, use \"keyword\" arguments in the method. For example, `entities(..., new_name=table.column)` will rename `table.column` with `new_name` in the entities returned from the server. (It will not change anything in the stored catalog data.) Note that in pythong, the keyword arguments _must come after_ other arguments."
   ]
  },
  {
   "cell_type": "code",
   "execution_count": 15,
   "metadata": {},
   "outputs": [],
   "source": [
    "entities = path.entities(dataset.accession, dataset.title, The_Statues_Code=dataset.status).fetch(limit=5)"
   ]
  },
  {
   "cell_type": "markdown",
   "metadata": {},
   "source": [
    "### Convert to list\n",
    "Now we can look at the results from the above fetch. To demonstrate a different access mode, we can convert the entities to a standard python list and dump to the console."
   ]
  },
  {
   "cell_type": "code",
   "execution_count": 16,
   "metadata": {},
   "outputs": [
    {
     "data": {
      "text/plain": [
       "[{'accession': 'FB00000965',\n",
       "  'title': 'ChIP-seq and RNA-seq of mouse e15.5 mandibular process',\n",
       "  'The_Statues_Code': 1},\n",
       " {'accession': 'FB00000942',\n",
       "  'title': '(FB0070) 12yo girl w/ micrognathia (progressive, she did not have as a child) & contracture of fingers',\n",
       "  'The_Statues_Code': 2},\n",
       " {'accession': 'FB00000952',\n",
       "  'title': '(FB0108) Right coronal synostosis, anisometropia and aniseikonia, ptosis of left eyelid, hyperopia',\n",
       "  'The_Statues_Code': 2},\n",
       " {'accession': 'FB00000972',\n",
       "  'title': 'E18.5 wildtype mouse microCT',\n",
       "  'The_Statues_Code': 1},\n",
       " {'accession': 'FB00000964',\n",
       "  'title': 'Cell Proliferation Heat Map of E10.5 mouse embryo',\n",
       "  'The_Statues_Code': 1}]"
      ]
     },
     "execution_count": 16,
     "metadata": {},
     "output_type": "execute_result"
    }
   ],
   "source": [
    "list(entities)"
   ]
  },
  {
   "cell_type": "code",
   "execution_count": null,
   "metadata": {
    "collapsed": true
   },
   "outputs": [],
   "source": []
  }
 ],
 "metadata": {
  "kernelspec": {
   "display_name": "Python 3",
   "language": "python",
   "name": "python3"
  },
  "language_info": {
   "codemirror_mode": {
    "name": "ipython",
    "version": 3
   },
   "file_extension": ".py",
   "mimetype": "text/x-python",
   "name": "python",
   "nbconvert_exporter": "python",
   "pygments_lexer": "ipython3",
   "version": "3.6.5"
  }
 },
 "nbformat": 4,
 "nbformat_minor": 2
}
