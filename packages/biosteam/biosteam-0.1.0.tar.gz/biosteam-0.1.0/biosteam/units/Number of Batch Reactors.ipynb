{
 "cells": [
  {
   "cell_type": "markdown",
   "metadata": {},
   "source": [
    "### I. Calculate minimum number of batch reactors assuming no surge tank before reactor (constant filling/loading):"
   ]
  },
  {
   "cell_type": "markdown",
   "metadata": {},
   "source": [
    "**Given:**\n",
    "\n",
    "$v_0$: Volumetric flow rate\n",
    "\n",
    "$\\tau_R$: Reaction time\n",
    "\n",
    "$\\tau_0$: Cleaning and emptying time\n",
    "\n",
    "$f$: Loading time per volume\n",
    "    \n",
    "**Define:**\n",
    "\n",
    "$N$: Number of reactors\n",
    "\n",
    "$\\tau_L$: Loading time\n",
    "\n",
    "$V_T$: Total volume required \n",
    "\n",
    "$V_i$: Volume of individual reactor \n",
    "    "
   ]
  },
  {
   "cell_type": "markdown",
   "metadata": {},
   "source": [
    "Under constant filling/loading:\n",
    "\n",
    "(1) $f = \\tau_L/V_T$\n",
    "\n",
    "(2) $V_T = v_0(\\tau_L + \\tau + \\tau_0)$\n",
    "\n",
    "(3) $N = \\frac{\\tau_R + \\tau_0 + \\tau_L}{\\tau_L}$\n"
   ]
  },
  {
   "cell_type": "markdown",
   "metadata": {},
   "source": [
    "Solve for $\\tau_L$ in (1):\n",
    "\n",
    "(4) $\\tau_L = fV_T$\n",
    "\n",
    "Plug in $\\tau_L$ in (2) using (4) and solve for $V_T$:\n",
    "\n",
    "(5) $V_T = v_0(fV_T +\\tau + \\tau_0)$\n",
    "\n",
    "(6) $V_T = \\frac{\\tau + \\tau_0}{1/v_0 - f}$\n",
    "\n",
    "Plug in $V_T$ in (1) using (6):\n",
    "\n",
    "(7) $\\tau_L = f\\frac{\\tau + \\tau_0}{1/v_0 - f}$\n",
    "\n",
    "Plug in $\\tau_L$ in (3) using (7) and simplify:\n",
    "\n",
    "(8) $N_{estimate} = \\frac{\\tau_R + \\tau_0 + f\\frac{\\tau + \\tau_0}{1/v_0 - f}}{f\\frac{\\tau + \\tau_0}{1/v_0 - f}}$\n",
    "\n",
    "(9) $N = ceil\\big(\\frac{\\frac{1}{v_0} - f}{f} + 1\\big)$\n"
   ]
  },
  {
   "cell_type": "markdown",
   "metadata": {},
   "source": [
    "\n"
   ]
  },
  {
   "cell_type": "markdown",
   "metadata": {},
   "source": [
    "### II. Minimize capital cost of all reactors:"
   ]
  },
  {
   "cell_type": "markdown",
   "metadata": {},
   "source": [
    "Reactor cost assuming 6/10 scaling rule:\n",
    "    \n",
    "(10) $C = NA\\big(\\frac{V_i}{V_{original}}\\big)^{0.6}$\n",
    "\n",
    "First compute $N$ as an integer using part I. Then solve for $f$ using (9):\n",
    "\n",
    "(12) $f = \\frac{1}{Nv_0}$\n",
    "\n",
    "Note that:\n",
    "\n",
    "(11) $V_i = \\frac{V_T}{N}$\n",
    "\n",
    "Plug in $V_T$ from (6) in $V_i$ (12):\n",
    "\n",
    "(13) $V_i = \\frac{\\tau + \\tau_0}{N(1/v_0 - f)}$\n",
    "\n",
    "Plug in $V_i$ using (13):\n",
    "\n",
    "(14) $C = NA\\big(\\frac{\\tau + \\tau_0}{V_{original}N(1/v_0 - f)}\\big)^{0.6}$\n"
   ]
  },
  {
   "cell_type": "code",
   "execution_count": null,
   "metadata": {},
   "outputs": [],
   "source": []
  }
 ],
 "metadata": {
  "kernelspec": {
   "display_name": "Python 3",
   "language": "python",
   "name": "python3"
  },
  "language_info": {
   "codemirror_mode": {
    "name": "ipython",
    "version": 3
   },
   "file_extension": ".py",
   "mimetype": "text/x-python",
   "name": "python",
   "nbconvert_exporter": "python",
   "pygments_lexer": "ipython3",
   "version": "3.6.5"
  }
 },
 "nbformat": 4,
 "nbformat_minor": 2
}
