{
 "cells": [
  {
   "cell_type": "code",
   "execution_count": 1,
   "metadata": {},
   "outputs": [
    {
     "name": "stdout",
     "output_type": "stream",
     "text": [
      "[[Model]]\n",
      "    (Model(jump) <function convolve at 0x113631268> Model(gaussian))\n",
      "[[Fit Statistics]]\n",
      "    # fitting method   = leastsq\n",
      "    # function evals   = 25\n",
      "    # data points      = 201\n",
      "    # variables        = 3\n",
      "    chi-square         = 24.7562335\n",
      "    reduced chi-square = 0.12503148\n",
      "    Akaike info crit   = -414.939746\n",
      "    Bayesian info crit = -405.029832\n",
      "[[Variables]]\n",
      "    mid:        5 (fixed)\n",
      "    sigma:      0.59576118 +/- 0.01348582 (2.26%) (init = 1.5)\n",
      "    center:     4.50853671 +/- 0.00973231 (0.22%) (init = 3.5)\n",
      "    amplitude:  0.62508459 +/- 0.00189732 (0.30%) (init = 1)\n",
      "[[Correlations]] (unreported correlations are < 0.100)\n",
      "    C(center, amplitude) =  0.329\n",
      "    C(sigma, amplitude)  =  0.268\n",
      "\n"
     ]
    },
    {
     "data": {
      "text/plain": [
       "<Figure size 640x480 with 1 Axes>"
      ]
     },
     "metadata": {},
     "output_type": "display_data"
    }
   ],
   "source": [
    "import matplotlib.pyplot as plt\n",
    "import numpy as np\n",
    "\n",
    "from lmfit import CompositeModel, Model\n",
    "from lmfit.lineshapes import gaussian, step\n",
    "\n",
    "# create data from broadened step\n",
    "npts = 201\n",
    "x = np.linspace(0, 10, npts)\n",
    "y = step(x, amplitude=12.5, center=4.5, sigma=0.88, form='erf')\n",
    "np.random.seed(0)\n",
    "y = y + np.random.normal(size=npts, scale=0.35)\n",
    "\n",
    "\n",
    "def jump(x, mid):\n",
    "    \"\"\"heaviside step function\"\"\"\n",
    "    o = np.zeros(len(x))\n",
    "    imid = max(np.where(x <= mid)[0])\n",
    "    o[imid:] = 1.0\n",
    "    return o\n",
    "\n",
    "\n",
    "def convolve(arr, kernel):\n",
    "    \"\"\"simple convolution of two arrays\"\"\"\n",
    "    npts = min(len(arr), len(kernel))\n",
    "    pad = np.ones(npts)\n",
    "    tmp = np.concatenate((pad*arr[0], arr, pad*arr[-1]))\n",
    "    out = np.convolve(tmp, kernel, mode='valid')\n",
    "    noff = int((len(out) - npts) / 2)\n",
    "    return out[noff:noff+npts]\n",
    "\n",
    "\n",
    "# create Composite Model using the custom convolution operator\n",
    "mod = CompositeModel(Model(jump), Model(gaussian), convolve)\n",
    "\n",
    "pars = mod.make_params(amplitude=1, center=3.5, sigma=1.5, mid=5.0)\n",
    "\n",
    "# 'mid' and 'center' should be completely correlated, and 'mid' is\n",
    "# used as an integer index, so a very poor fit variable:\n",
    "pars['mid'].vary = False\n",
    "\n",
    "# fit this model to data array y\n",
    "result = mod.fit(y, params=pars, x=x)\n",
    "\n",
    "print(result.fit_report())\n",
    "\n",
    "plot_components = False\n",
    "\n",
    "# plot results\n",
    "plt.plot(x, y, 'bo')\n",
    "if plot_components:\n",
    "    # generate components\n",
    "    comps = result.eval_components(x=x)\n",
    "    plt.plot(x, 10*comps['jump'], 'k--')\n",
    "    plt.plot(x, 10*comps['gaussian'], 'r-')\n",
    "else:\n",
    "    plt.plot(x, result.init_fit, 'k--')\n",
    "    plt.plot(x, result.best_fit, 'r-')\n",
    "plt.show()\n",
    "# <end examples/doc_model_composite.py>\n"
   ]
  },
  {
   "cell_type": "code",
   "execution_count": 2,
   "metadata": {},
   "outputs": [
    {
     "ename": "AttributeError",
     "evalue": "'Parameter' object has no attribute 'user_value'",
     "output_type": "error",
     "traceback": [
      "\u001b[0;31m---------------------------------------------------------------------------\u001b[0m",
      "\u001b[0;31mAttributeError\u001b[0m                            Traceback (most recent call last)",
      "\u001b[0;32m~/anaconda3/lib/python3.6/site-packages/IPython/core/formatters.py\u001b[0m in \u001b[0;36m__call__\u001b[0;34m(self, obj)\u001b[0m\n\u001b[1;32m    343\u001b[0m             \u001b[0mmethod\u001b[0m \u001b[0;34m=\u001b[0m \u001b[0mget_real_method\u001b[0m\u001b[0;34m(\u001b[0m\u001b[0mobj\u001b[0m\u001b[0;34m,\u001b[0m \u001b[0mself\u001b[0m\u001b[0;34m.\u001b[0m\u001b[0mprint_method\u001b[0m\u001b[0;34m)\u001b[0m\u001b[0;34m\u001b[0m\u001b[0;34m\u001b[0m\u001b[0m\n\u001b[1;32m    344\u001b[0m             \u001b[0;32mif\u001b[0m \u001b[0mmethod\u001b[0m \u001b[0;32mis\u001b[0m \u001b[0;32mnot\u001b[0m \u001b[0;32mNone\u001b[0m\u001b[0;34m:\u001b[0m\u001b[0;34m\u001b[0m\u001b[0;34m\u001b[0m\u001b[0m\n\u001b[0;32m--> 345\u001b[0;31m                 \u001b[0;32mreturn\u001b[0m \u001b[0mmethod\u001b[0m\u001b[0;34m(\u001b[0m\u001b[0;34m)\u001b[0m\u001b[0;34m\u001b[0m\u001b[0;34m\u001b[0m\u001b[0m\n\u001b[0m\u001b[1;32m    346\u001b[0m             \u001b[0;32mreturn\u001b[0m \u001b[0;32mNone\u001b[0m\u001b[0;34m\u001b[0m\u001b[0;34m\u001b[0m\u001b[0m\n\u001b[1;32m    347\u001b[0m         \u001b[0;32melse\u001b[0m\u001b[0;34m:\u001b[0m\u001b[0;34m\u001b[0m\u001b[0;34m\u001b[0m\u001b[0m\n",
      "\u001b[0;32m~/anaconda3/lib/python3.6/site-packages/lmfit-0.9.12+12.g11fe231-py3.6.egg/lmfit/parameter.py\u001b[0m in \u001b[0;36m_repr_html_\u001b[0;34m(self)\u001b[0m\n\u001b[1;32m    320\u001b[0m                 \u001b[0mcell\u001b[0m\u001b[0;34m(\u001b[0m\u001b[0;34m''\u001b[0m\u001b[0;34m)\u001b[0m\u001b[0;34m\u001b[0m\u001b[0;34m\u001b[0m\u001b[0m\n\u001b[1;32m    321\u001b[0m                 \u001b[0mcell\u001b[0m\u001b[0;34m(\u001b[0m\u001b[0;34m''\u001b[0m\u001b[0;34m)\u001b[0m\u001b[0;34m\u001b[0m\u001b[0;34m\u001b[0m\u001b[0m\n\u001b[0;32m--> 322\u001b[0;31m             \u001b[0mcell\u001b[0m\u001b[0;34m(\u001b[0m\u001b[0mp\u001b[0m\u001b[0;34m.\u001b[0m\u001b[0muser_value\u001b[0m\u001b[0;34m)\u001b[0m\u001b[0;34m\u001b[0m\u001b[0;34m\u001b[0m\u001b[0m\n\u001b[0m\u001b[1;32m    323\u001b[0m             \u001b[0mcell\u001b[0m\u001b[0;34m(\u001b[0m\u001b[0;34m'%f'\u001b[0m \u001b[0;34m%\u001b[0m \u001b[0mp\u001b[0m\u001b[0;34m.\u001b[0m\u001b[0mmin\u001b[0m\u001b[0;34m)\u001b[0m\u001b[0;34m\u001b[0m\u001b[0;34m\u001b[0m\u001b[0m\n\u001b[1;32m    324\u001b[0m             \u001b[0mcell\u001b[0m\u001b[0;34m(\u001b[0m\u001b[0;34m'%f'\u001b[0m \u001b[0;34m%\u001b[0m \u001b[0mp\u001b[0m\u001b[0;34m.\u001b[0m\u001b[0mmax\u001b[0m\u001b[0;34m)\u001b[0m\u001b[0;34m\u001b[0m\u001b[0;34m\u001b[0m\u001b[0m\n",
      "\u001b[0;31mAttributeError\u001b[0m: 'Parameter' object has no attribute 'user_value'"
     ]
    },
    {
     "data": {
      "text/plain": [
       "Parameters([('mid', <Parameter 'mid', value=5.0 (fixed), bounds=[-inf:inf]>),\n",
       "            ('sigma',\n",
       "             <Parameter 'sigma', value=0.595761182715068 +/- 0.0135, bounds=[-inf:inf]>),\n",
       "            ('center',\n",
       "             <Parameter 'center', value=4.508536711163319 +/- 0.00973, bounds=[-inf:inf]>),\n",
       "            ('amplitude',\n",
       "             <Parameter 'amplitude', value=0.6250845856983748 +/- 0.0019, bounds=[-inf:inf]>)])"
      ]
     },
     "execution_count": 2,
     "metadata": {},
     "output_type": "execute_result"
    }
   ],
   "source": [
    "result.params"
   ]
  },
  {
   "cell_type": "code",
   "execution_count": 3,
   "metadata": {},
   "outputs": [
    {
     "data": {
      "text/plain": [
       "<lmfit.model.ModelResult at 0x1a17324c50>"
      ]
     },
     "execution_count": 3,
     "metadata": {},
     "output_type": "execute_result"
    }
   ],
   "source": [
    "result"
   ]
  },
  {
   "cell_type": "code",
   "execution_count": null,
   "metadata": {},
   "outputs": [],
   "source": []
  }
 ],
 "metadata": {
  "kernelspec": {
   "display_name": "Python 3",
   "language": "python",
   "name": "python3"
  },
  "language_info": {
   "codemirror_mode": {
    "name": "ipython",
    "version": 3
   },
   "file_extension": ".py",
   "mimetype": "text/x-python",
   "name": "python",
   "nbconvert_exporter": "python",
   "pygments_lexer": "ipython3",
   "version": "3.6.8"
  }
 },
 "nbformat": 4,
 "nbformat_minor": 2
}
