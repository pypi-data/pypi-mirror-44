{
 "cells": [
  {
   "cell_type": "code",
   "execution_count": 1,
   "metadata": {},
   "outputs": [
    {
     "name": "stdout",
     "output_type": "stream",
     "text": [
      "[[Fit Statistics]]\n",
      "    # fitting method   = leastsq\n",
      "    # function evals   = 63\n",
      "    # data points      = 301\n",
      "    # variables        = 4\n",
      "    chi-square         = 11.4366392\n",
      "    reduced chi-square = 0.03850720\n",
      "    Akaike info crit   = -976.356718\n",
      "    Bayesian info crit = -961.528277\n",
      "[[Variables]]\n",
      "    amp:    5.00922131 +/- 0.03892948 (0.78%) (init = 10)\n",
      "    decay:  0.02526515 +/- 4.4855e-04 (1.78%) (init = 0.1)\n",
      "    shift: -0.10124089 +/- 0.00997623 (9.85%) (init = 0)\n",
      "    omega:  1.99517603 +/- 0.00320270 (0.16%) (init = 3)\n",
      "[[Correlations]] (unreported correlations are < 0.100)\n",
      "    C(shift, omega) = -0.785\n",
      "    C(amp, decay)   =  0.584\n",
      "    C(amp, shift)   = -0.119\n"
     ]
    }
   ],
   "source": [
    "# <examples/doc_parameters_basic.py>\n",
    "import numpy as np\n",
    "\n",
    "from lmfit import Minimizer, Parameters, report_fit\n",
    "\n",
    "# create data to be fitted\n",
    "x = np.linspace(0, 15, 301)\n",
    "data = (5. * np.sin(2*x - 0.1) * np.exp(-x*x*0.025) +\n",
    "        np.random.normal(size=len(x), scale=0.2))\n",
    "\n",
    "\n",
    "# define objective function: returns the array to be minimized\n",
    "def fcn2min(params, x, data):\n",
    "    \"\"\"Model a decaying sine wave and subtract data.\"\"\"\n",
    "    amp = params['amp']\n",
    "    shift = params['shift']\n",
    "    omega = params['omega']\n",
    "    decay = params['decay']\n",
    "    model = amp * np.sin(x*omega + shift) * np.exp(-x*x*decay)\n",
    "    return model - data\n",
    "\n",
    "\n",
    "# create a set of Parameters\n",
    "params = Parameters()\n",
    "params.add('amp', value=10, min=0)\n",
    "params.add('decay', value=0.1)\n",
    "params.add('shift', value=0.0, min=-np.pi/2., max=np.pi/2)\n",
    "params.add('omega', value=3.0)\n",
    "\n",
    "# do fit, here with leastsq model\n",
    "minner = Minimizer(fcn2min, params, fcn_args=(x, data))\n",
    "result = minner.minimize()\n",
    "\n",
    "# calculate final result\n",
    "final = data + result.residual\n",
    "\n",
    "# write error report\n",
    "report_fit(result)\n"
   ]
  },
  {
   "cell_type": "code",
   "execution_count": null,
   "metadata": {},
   "outputs": [],
   "source": []
  },
  {
   "cell_type": "code",
   "execution_count": 2,
   "metadata": {},
   "outputs": [
    {
     "data": {
      "text/html": [
       "<table><tr><th> name </th><th> value </th><th>  </th><th> standard error </th><th> relative error </th><th> initial value </th><th> min </th><th> max </th><th> vary </th></tr><tr><td> amp </td><td>  5.00922131 </td><td> +/- </td><td>  0.03892948 </td><td> 0.78% </td><td> 10 </td><td>  0.00000000 </td><td>         inf </td><td> True </td></tr><tr><td> decay </td><td>  0.02526515 </td><td> +/- </td><td>  4.4855e-04 </td><td> 1.78% </td><td> 0.1 </td><td>        -inf </td><td>         inf </td><td> True </td></tr><tr><td> shift </td><td> -0.10124089 </td><td> +/- </td><td>  0.00997623 </td><td> -9.85% </td><td> 0.0 </td><td> -1.57079633 </td><td>  1.57079633 </td><td> True </td></tr><tr><td> omega </td><td>  1.99517603 </td><td> +/- </td><td>  0.00320270 </td><td> 0.16% </td><td> 3.0 </td><td>        -inf </td><td>         inf </td><td> True </td></tr></table>"
      ],
      "text/plain": [
       "Parameters([('amp',\n",
       "             <Parameter 'amp', value=5.0092213100366 +/- 0.0389, bounds=[0:inf]>),\n",
       "            ('decay',\n",
       "             <Parameter 'decay', value=0.025265146495619707 +/- 0.000449, bounds=[-inf:inf]>),\n",
       "            ('shift',\n",
       "             <Parameter 'shift', value=-0.10124089143314396 +/- 0.00998, bounds=[-1.5707963267948966:1.5707963267948966]>),\n",
       "            ('omega',\n",
       "             <Parameter 'omega', value=1.9951760254678659 +/- 0.0032, bounds=[-inf:inf]>)])"
      ]
     },
     "execution_count": 2,
     "metadata": {},
     "output_type": "execute_result"
    }
   ],
   "source": [
    "result.params"
   ]
  },
  {
   "cell_type": "code",
   "execution_count": 3,
   "metadata": {},
   "outputs": [
    {
     "data": {
      "text/html": [
       "<h2>Fit Statistics</h2><table><tr><td>fitting method</td><td>leastsq</td><td></td></tr><tr><td># function evals</td><td>63</td><td></td></tr><tr><td># data points</td><td>301</td><td></td></tr><tr><td># variables</td><td>4</td><td></td></tr><tr><td>chi-square</td><td> 11.4366392</td><td></td></tr><tr><td>reduced chi-square</td><td> 0.03850720</td><td></td></tr><tr><td>Akaike info crit.</td><td>-976.356718</td><td></td></tr><tr><td>Bayesian info crit.</td><td>-961.528277</td><td></td></tr></table><h2>Variables</h2><table><tr><th> name </th><th> value </th><th>  </th><th> standard error </th><th> relative error </th><th> initial value </th><th> min </th><th> max </th><th> vary </th></tr><tr><td> amp </td><td>  5.00922131 </td><td> +/- </td><td>  0.03892948 </td><td> 0.78% </td><td> 10 </td><td>  0.00000000 </td><td>         inf </td><td> True </td></tr><tr><td> decay </td><td>  0.02526515 </td><td> +/- </td><td>  4.4855e-04 </td><td> 1.78% </td><td> 0.1 </td><td>        -inf </td><td>         inf </td><td> True </td></tr><tr><td> shift </td><td> -0.10124089 </td><td> +/- </td><td>  0.00997623 </td><td> -9.85% </td><td> 0.0 </td><td> -1.57079633 </td><td>  1.57079633 </td><td> True </td></tr><tr><td> omega </td><td>  1.99517603 </td><td> +/- </td><td>  0.00320270 </td><td> 0.16% </td><td> 3.0 </td><td>        -inf </td><td>         inf </td><td> True </td></tr></table><h2>Correlations (unreported correlations are < 0.100)</h2><table><tr><td>shift</td><td>omega</td><td>-0.7851</td></tr><tr><td>amp</td><td>decay</td><td>0.5840</td></tr><tr><td>amp</td><td>shift</td><td>-0.1191</td></tr></table>"
      ],
      "text/plain": [
       "<lmfit.minimizer.MinimizerResult at 0x1a25964208>"
      ]
     },
     "execution_count": 3,
     "metadata": {},
     "output_type": "execute_result"
    }
   ],
   "source": [
    "result"
   ]
  },
  {
   "cell_type": "code",
   "execution_count": null,
   "metadata": {},
   "outputs": [],
   "source": []
  }
 ],
 "metadata": {
  "kernelspec": {
   "display_name": "Python 3",
   "language": "python",
   "name": "python3"
  },
  "language_info": {
   "codemirror_mode": {
    "name": "ipython",
    "version": 3
   },
   "file_extension": ".py",
   "mimetype": "text/x-python",
   "name": "python",
   "nbconvert_exporter": "python",
   "pygments_lexer": "ipython3",
   "version": "3.6.8"
  }
 },
 "nbformat": 4,
 "nbformat_minor": 2
}
