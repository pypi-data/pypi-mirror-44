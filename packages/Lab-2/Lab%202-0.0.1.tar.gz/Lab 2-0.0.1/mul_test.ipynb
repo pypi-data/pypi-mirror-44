{
 "cells": [
  {
   "cell_type": "code",
   "execution_count": null,
   "metadata": {},
   "outputs": [],
   "source": [
    "from pynq import Overlay\n",
    "from pynq import MMIO\n",
    "\n",
    "ol = Overlay(\"/home/xilinx/jupyter_notebooks/mul_test/design_1_wrapper.bit\")\n",
    "ol.download()\n",
    "\n",
    "mul_ip=MMIO(0x43C00000, 0x10000)\n",
    "\n",
    "inp = 5\n",
    "\n",
    "mul_ip.write(0x18, inp)\n",
    "print(\"input:\", mul_ip.read(0x18))\n",
    "mul_ip.write(0x00, 1)\n",
    "print(\"output:\", mul_ip.read(0x10))"
   ]
  }
 ],
 "metadata": {
  "kernelspec": {
   "display_name": "Python 3",
   "language": "python",
   "name": "python3"
  },
  "language_info": {
   "codemirror_mode": {
    "name": "ipython",
    "version": 3
   },
   "file_extension": ".py",
   "mimetype": "text/x-python",
   "name": "python",
   "nbconvert_exporter": "python",
   "pygments_lexer": "ipython3",
   "version": "3.7.1"
  }
 },
 "nbformat": 4,
 "nbformat_minor": 2
}
