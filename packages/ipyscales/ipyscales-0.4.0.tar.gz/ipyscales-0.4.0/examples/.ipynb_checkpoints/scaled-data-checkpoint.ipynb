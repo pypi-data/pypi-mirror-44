{
 "cells": [
  {
   "cell_type": "markdown",
   "metadata": {},
   "source": [
    "# Scaled data widget"
   ]
  },
  {
   "cell_type": "markdown",
   "metadata": {},
   "source": [
    "ipyscales also allow for front-end based scaling of array data by implementing the ipydatawidgets interfaces. This allows e.g. for sending you (large) dataset once, and then rapidly re-scaling it on the front-end side."
   ]
  },
  {
   "cell_type": "code",
   "execution_count": 1,
   "metadata": {},
   "outputs": [],
   "source": [
    "import numpy as np\n",
    "from ipyscales import LinearScale, LogScale\n",
    "from ipyscales.datawidgets import ScaledArray\n",
    "from ipydatawidgets import DataImage\n",
    "np.random.seed(0)"
   ]
  },
  {
   "cell_type": "code",
   "execution_count": 2,
   "metadata": {},
   "outputs": [],
   "source": [
    "from ipyscales._example_helper import use_example_model_ids\n",
    "use_example_model_ids()"
   ]
  },
  {
   "cell_type": "markdown",
   "metadata": {},
   "source": [
    "Set up some random RGBA data:"
   ]
  },
  {
   "cell_type": "code",
   "execution_count": 3,
   "metadata": {},
   "outputs": [],
   "source": [
    "data = np.array(255 * np.random.rand(200, 200, 4), dtype='uint8')"
   ]
  },
  {
   "cell_type": "markdown",
   "metadata": {},
   "source": [
    "Set up two simple scales for translating each channel value, one linear, one logarithmic:"
   ]
  },
  {
   "cell_type": "code",
   "execution_count": 4,
   "metadata": {},
   "outputs": [],
   "source": [
    "linear = LinearScale(range=(0, 255), domain=(0, 255), clamp=True)\n",
    "# Setup log scale as alternative scale. Note the non-zero domain with clamp!\n",
    "log = LogScale(range=(0, 255), domain=(1, 255), clamp=True)"
   ]
  },
  {
   "cell_type": "markdown",
   "metadata": {},
   "source": [
    "Set up our scaled data source. This will not synchronize the scaled data, but if passed to a data union trait, the scaled data will be used:"
   ]
  },
  {
   "cell_type": "code",
   "execution_count": 5,
   "metadata": {},
   "outputs": [],
   "source": [
    "scaled_data = ScaledArray(data=data, scale=linear)"
   ]
  },
  {
   "cell_type": "markdown",
   "metadata": {},
   "source": [
    "Pass the scaled data to a `DataImage` to visualize it:"
   ]
  },
  {
   "cell_type": "code",
   "execution_count": 6,
   "metadata": {},
   "outputs": [
    {
     "data": {
      "application/vnd.jupyter.widget-view+json": {
       "model_id": "ipyscales_example_model_004",
       "version_major": 2,
       "version_minor": 0
      },
      "text/plain": [
       "DataImage(data=ScaledArray(data=array([[[139, 182, 153, 138],\n",
       "        [108, 164, 111, 227],\n",
       "        [245,  97,…"
      ]
     },
     "metadata": {},
     "output_type": "display_data"
    }
   ],
   "source": [
    "image = DataImage(data=scaled_data)\n",
    "image"
   ]
  },
  {
   "cell_type": "markdown",
   "metadata": {},
   "source": [
    "Add some controls for selecting which scale to use, and what the range of the scales should be:"
   ]
  },
  {
   "cell_type": "code",
   "execution_count": 7,
   "metadata": {},
   "outputs": [
    {
     "data": {
      "application/vnd.jupyter.widget-view+json": {
       "model_id": "ipyscales_example_model_014",
       "version_major": 2,
       "version_minor": 0
      },
      "text/plain": [
       "HBox(children=(WidgetDropdown(options={'Linear': LinearScale(clamp=True, domain=(0.0, 255.0), range=(0, 255)),…"
      ]
     },
     "metadata": {},
     "output_type": "display_data"
    }
   ],
   "source": [
    "from ipywidgets import FloatRangeSlider, jslink, HBox\n",
    "from ipyscales.selectors import WidgetDropdown\n",
    "\n",
    "range_selector = FloatRangeSlider(min=0, max=255, step=1, description='range', readout_format='d')\n",
    "jslink((linear, 'range'), (range_selector, 'value'))\n",
    "jslink((range_selector, 'value'), (log, 'range'))\n",
    "\n",
    "scale_selector = WidgetDropdown(options={'Linear': linear, 'Log': log}, description='Scale')\n",
    "jslink((scale_selector, 'value'), (scaled_data, 'scale'))\n",
    "\n",
    "HBox([scale_selector, range_selector])"
   ]
  },
  {
   "cell_type": "markdown",
   "metadata": {},
   "source": [
    "## Color mapped data"
   ]
  },
  {
   "cell_type": "markdown",
   "metadata": {},
   "source": [
    "Set up a 2D scalar field of floats (0-1) to act as our data. Here, a nice diagonal gradient:"
   ]
  },
  {
   "cell_type": "code",
   "execution_count": 8,
   "metadata": {},
   "outputs": [],
   "source": [
    "side_length = 200\n",
    "scalar_field = np.sum(np.meshgrid(\n",
    "    np.linspace(0, 0.5, side_length),\n",
    "    np.linspace(0, 0.5, side_length),\n",
    "), axis=0)"
   ]
  },
  {
   "cell_type": "markdown",
   "metadata": {},
   "source": [
    "This time, we use a color map as the scale. Here we use named, sequential color maps:"
   ]
  },
  {
   "cell_type": "code",
   "execution_count": 9,
   "metadata": {},
   "outputs": [],
   "source": [
    "from ipyscales import NamedSequentialColorMap\n",
    "cmap = NamedSequentialColorMap(name='viridis')"
   ]
  },
  {
   "cell_type": "markdown",
   "metadata": {},
   "source": [
    "When setting up a scaled array with a color map, we should specify the output dtype we want. If not, it will inherit the dtype of the input data. In this case, the input dtype is float, and `DataImage` expects a unsigned 8-bit integer."
   ]
  },
  {
   "cell_type": "code",
   "execution_count": 10,
   "metadata": {},
   "outputs": [],
   "source": [
    "mapped_data = ScaledArray(data=scalar_field, scale=cmap, output_dtype='uint8')"
   ]
  },
  {
   "cell_type": "markdown",
   "metadata": {},
   "source": [
    "Visualize the mapped data:"
   ]
  },
  {
   "cell_type": "code",
   "execution_count": 11,
   "metadata": {},
   "outputs": [
    {
     "data": {
      "application/vnd.jupyter.widget-view+json": {
       "model_id": "ipyscales_example_model_018",
       "version_major": 2,
       "version_minor": 0
      },
      "text/plain": [
       "DataImage(data=ScaledArray(data=array([[ 0.        ,  0.00251256,  0.00502513, ...,  0.49497487,\n",
       "         0.49…"
      ]
     },
     "metadata": {},
     "output_type": "display_data"
    }
   ],
   "source": [
    "mapped_image = DataImage(data=mapped_data)\n",
    "mapped_image"
   ]
  },
  {
   "cell_type": "markdown",
   "metadata": {},
   "source": [
    "Show a drop-down selector for the color map name:"
   ]
  },
  {
   "cell_type": "code",
   "execution_count": 12,
   "metadata": {},
   "outputs": [
    {
     "data": {
      "application/vnd.jupyter.widget-view+json": {
       "model_id": "ipyscales_example_model_023",
       "version_major": 2,
       "version_minor": 0
      },
      "text/plain": [
       "VBox(children=(StringDropdown(options=('Viridis', 'Inferno', 'Magma', 'Plasma', 'Warm', 'Cool', 'CubehelixDefa…"
      ]
     },
     "metadata": {},
     "output_type": "display_data"
    }
   ],
   "source": [
    "cmap.edit()"
   ]
  },
  {
   "cell_type": "code",
   "execution_count": null,
   "metadata": {},
   "outputs": [],
   "source": []
  }
 ],
 "metadata": {
  "kernelspec": {
   "display_name": "Python 3",
   "language": "python",
   "name": "python3"
  },
  "language_info": {
   "codemirror_mode": {
    "name": "ipython",
    "version": 3
   },
   "file_extension": ".py",
   "mimetype": "text/x-python",
   "name": "python",
   "nbconvert_exporter": "python",
   "pygments_lexer": "ipython3",
   "version": "3.6.6"
  }
 },
 "nbformat": 4,
 "nbformat_minor": 2
}
