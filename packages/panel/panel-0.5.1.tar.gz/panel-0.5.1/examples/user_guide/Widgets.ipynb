{
 "cells": [
  {
   "cell_type": "code",
   "execution_count": null,
   "metadata": {},
   "outputs": [],
   "source": [
    "import panel as pn\n",
    "pn.extension()"
   ]
  },
  {
   "cell_type": "markdown",
   "metadata": {},
   "source": [
    "``Panel`` provides a wide range of widgets to allow building complex GUIs. The widget classes emphasize a consistent API which allows treating broad categories of widgets as interchangeable. For instance to select a value from a list of options you can interchangeable use a ``Select`` widget, a ``RadioButtonGroup`` or a range of other equivalent widgets.\n",
    "\n",
    "Like all other components in ``Panel`` components ``Widget`` objects will render and sync their state both in the notebook and on bokeh server:"
   ]
  },
  {
   "cell_type": "code",
   "execution_count": null,
   "metadata": {},
   "outputs": [],
   "source": [
    "widget = pn.widgets.TextInput(name='A widget', value='A string')\n",
    "widget"
   ]
  },
  {
   "cell_type": "markdown",
   "metadata": {},
   "source": [
    "Changing the text value will automatically update the corresponding parameter:"
   ]
  },
  {
   "cell_type": "code",
   "execution_count": null,
   "metadata": {},
   "outputs": [],
   "source": [
    "widget.value"
   ]
  },
  {
   "cell_type": "markdown",
   "metadata": {},
   "source": [
    "Updating the parameter value will also update the widget:"
   ]
  },
  {
   "cell_type": "code",
   "execution_count": null,
   "metadata": {},
   "outputs": [],
   "source": [
    "widget.value = 'ABCDEFG'"
   ]
  },
  {
   "cell_type": "markdown",
   "metadata": {},
   "source": [
    "## Callbacks and links\n",
    "\n",
    "To listen to a parameter change we can call ``widget.param.watch`` with the parameter to watch and a function:"
   ]
  },
  {
   "cell_type": "code",
   "execution_count": null,
   "metadata": {},
   "outputs": [],
   "source": [
    "from __future__ import print_function\n",
    "\n",
    "widget.param.watch(print, 'value')"
   ]
  },
  {
   "cell_type": "markdown",
   "metadata": {},
   "source": [
    "If we change the ``widget.value`` now, the resulting change event will be printed:"
   ]
  },
  {
   "cell_type": "code",
   "execution_count": null,
   "metadata": {},
   "outputs": [],
   "source": [
    "widget.value = 'A'"
   ]
  },
  {
   "cell_type": "markdown",
   "metadata": {},
   "source": [
    "In combination with ``Panel`` objects, widgets make it possible to build interactive dashboards and visualizations very easily. For more detail on defining callbacks and links between widgets and other components see the [Links user guide](Links.ipynb)."
   ]
  },
  {
   "cell_type": "markdown",
   "metadata": {},
   "source": [
    "## Laying out widgets"
   ]
  },
  {
   "cell_type": "markdown",
   "metadata": {},
   "source": [
    "To compose multiple widgets they can be added to a ``Row``, ``Column`` or ``Tabs`` panel. To learn more about laying out widgets and panels see the [layout user guide](Layouts.ipynb)."
   ]
  },
  {
   "cell_type": "code",
   "execution_count": null,
   "metadata": {},
   "outputs": [],
   "source": [
    "slider = pn.widgets.FloatSlider(name='Another widget', width=200)\n",
    "pn.Column(widget, slider, width=200)"
   ]
  },
  {
   "cell_type": "markdown",
   "metadata": {},
   "source": [
    "## Types of Widgets\n",
    "\n",
    "The supported widgets can be grouped into a number of distinct categories with compatible APIs.\n",
    "\n",
    "### Options selectors\n",
    "\n",
    "Option selector widgets allow selecting one or more values from a list or dictionary, all widgets of this type have ``options`` and ``value`` parameters.\n",
    "\n",
    "#### Single values\n",
    "\n",
    "These widgets allow selecting a value from a list or dictionary of options:\n",
    "\n",
    "* **[``AutocompleteInput``](../reference/widgets/AutocompleteInput.ipynb)**: Allows selecting a ``value`` from a list or dictionary of ``options`` by entering the value into an auto-completing text field.\n",
    "* **[``DiscretePlayer``](../reference/widgets/DiscretePlayer.ipynb)**: Displays media-player-like controls which allows playing and stepping through the provided options.\n",
    "* **[``DiscreteSlider``](../reference/widgets/DiscreteSlider.ipynb)**: Allows selecting from a discrete list or dictionary of values using a slider.\n",
    "* **[``RadioButtonGroup``](../reference/widgets/RadioButtonGroup.ipynb)**: Allows selecting from a list or dictionary of values using a set of toggle buttons.\n",
    "* **[``RadioBoxGroup``](../reference/widgets/RadioBoxGroup.ipynb)**: Allows selecting from a list or dictionary of values using a set of checkboxes.\n",
    "* **[``Select``](../reference/widgets/Select.ipynb)**: Allows selecting a value from a list or dictionary of values by selecting it from a dropdown menu.\n",
    "\n",
    "#### Multiple values\n",
    "\n",
    "These widgets allow selecting multiple values from a list or dictionary of options:\n",
    "\n",
    "* **[``CheckBoxGroup``](../reference/widgets/CheckBoxGroup.ipynb)**: Allows selecting between a list of options by ticking the corresponding checkboxes.\n",
    "* **[``CheckButtonGroup``](../reference/widgets/CheckButtonGroup.ipynb)**: Allows selecting between a list of options by toggling the corresponding buttons. \n",
    "* **[``CrossSelector``](../reference/widgets/CrossSelector.ipynb)**: Allows selecting multiple values from a list of options by moving items between two lists.\n",
    "* **[``MultiSelect``](../reference/widgets/MultiSelect.ipynb)**: Allows selecting multiple values from a list or dictionary of values by highlighting the items in a list.\n",
    "\n",
    "### Type based selectors\n",
    "\n",
    "Type based selectors provide means to select a value according to its type and all have a ``value``. The widgets in this category may also have other forms of validation beyond the type, e.g. the upper and lower bounds of sliders.\n",
    "\n",
    "#### Single value\n",
    "\n",
    "Allows selecting a single ``value`` of the appropriate type:\n",
    "\n",
    "##### Numeric\n",
    "\n",
    "Numeric selectors are bounded by a ``start`` and ``end`` value:\n",
    "\n",
    "* **[``IntSlider``](../reference/widgets/IntSlider.ipynb)**: Allows selecting selecting a integer value within a set bounds using a slider.\n",
    "* **[``FloatSlider``](../reference/widgets/FloatSlider.ipynb)**: Allows selecting selecting a float value within a set bounds using a slider.\n",
    "* **[``Player``](../reference/widgets/Player.ipynb)**: Displays media-player-like controls which allows playing and stepping a range of integer values.\n",
    "\n",
    "##### Boolean\n",
    "\n",
    "* **[``Checkbox``](../reference/widgets/Checkbox.ipynb)**: Allows toggling a single condition between ``True``/``False`` states by ticking a checkbox.\n",
    "* **[``Toggle``](../reference/widgets/Toggle.ipynb)**: Allows toggling a single condition between ``True``/``False`` states.\n",
    "\n",
    "##### Dates\n",
    "\n",
    "* **[``DatetimeInput``](../reference/widgets/DatetimeInput.ipynb)**: Allows entering a datetime value as text and parse it using a pre-defined formatter. \n",
    "* **[``DatePicker``](../reference/widgets/DatePicker.ipynb)**: Allows selecting selecting a date value using a text box and the browsers date picking utility.\n",
    "* **[``DateSlider``](../reference/widgets/DateSlider.ipynb)**: Allows selecting selecting a date value within a set bounds using a slider.\n",
    "\n",
    "##### Text\n",
    "\n",
    "* **[``TextInput``](../reference/widgets/TextInput.ipynb)**: Allows entering any string using a text input box.\n",
    "\n",
    "##### Other\n",
    "\n",
    "* **[``ColorPicker``](../reference/widgets/ColorPicker.ipynb)**: Allows selecting a color using the browser's color picking utilities.\n",
    "* **[``FileInput``](../reference/widgets/FileInput.ipynb)**: Allows uploading a file from the frontend and makes the file data and mime type available in Python.\n",
    "* **[``LiteralInput``](../reference/widgets/LiteralInput.ipynb)**: Allows entering any Python literal using a text entry box which is then parsed in Python.\n",
    "\n",
    "#### Ranges\n",
    "\n",
    "Allows selecting a range of values of the appropriate type stored as a ``(lower, upper)`` tuple on the ``value`` parameter.\n",
    "\n",
    "##### Numeric\n",
    "\n",
    "* **[``IntRangeSlider``](../reference/widgets/IntRangeSlider.ipynb)**: Allows selecting a integer range using a slider with two handles.\n",
    "* **[``RangeSlider``](../reference/widgets/RangeSlider.ipynb)**: Allows selecting a float range using a slider with two handles.\n",
    "\n",
    "##### Dates\n",
    "\n",
    "* **[``DateRangeSlider``](../reference/widgets/DateRangeSlider.ipynb)**: Allows selecting a date range using a slider with two handles.\n",
    "\n",
    "### Other\n",
    "\n",
    "* **[``Audio``](../reference/widgets/Audio.ipynb)**: Displays a audio player given a local or remote audio file providing access and control over the player state.\n",
    "* **[``Button``](../reference/widgets/Button.ipynb)**: Allows triggering events when the button is clicked, unlike other widget it does not have a ``value`` parameter."
   ]
  }
 ],
 "metadata": {
  "language_info": {
   "name": "python",
   "pygments_lexer": "ipython3"
  }
 },
 "nbformat": 4,
 "nbformat_minor": 2
}
