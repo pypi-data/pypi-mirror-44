{
 "cells": [
  {
   "cell_type": "code",
   "execution_count": 4,
   "metadata": {},
   "outputs": [
    {
     "name": "stdout",
     "output_type": "stream",
     "text": [
      "1.412102460861206 seconds to program bitstream \n"
     ]
    }
   ],
   "source": [
    "import time\n",
    "from pynq import Overlay\n",
    "import pynq.lib.dma\n",
    "from pynq import Xlnk\n",
    "import numpy as np\n",
    "from pynq import MMIO\n",
    "import random\n",
    "\n",
    "ol = Overlay('/home/xilinx/jupyter_notebooks/sadd/sadd.bit') # check this path\n",
    "t_before_bitstream = time.time()\n",
    "ol.download() # this downloads your bitstream into FPGA\n",
    "t_after_bitstream = time.time()\n",
    "print(t_after_bitstream - t_before_bitstream, 'seconds to program bitstream')\n",
    "dma1 = ol.streamAdd.sadd_dma1 # first dma\n",
    "dma2 = ol.streamAdd.sadd_dma2 # second dma\n",
    "sadd_ip = MMIO(0x43c00000, 0x10000) # we got this address from \n",
    "xlnk = Xlnk()"
   ]
  },
  {
   "cell_type": "code",
   "execution_count": 5,
   "metadata": {},
   "outputs": [
    {
     "name": "stdout",
     "output_type": "stream",
     "text": [
      "Hardware execution time:  0.002737283706665039\n",
      "3+1 = 4\n",
      "4+0 = 4\n",
      "2+4 = 6\n",
      "1+3 = 4\n",
      "0+2 = 2\n"
     ]
    }
   ],
   "source": [
    "length = 5\n",
    "\n",
    "in_buffer1 = xlnk.cma_array(shape=(length,), dtype=np.int32) # input buffer 1\n",
    "in_buffer2 = xlnk.cma_array(shape=(length,), dtype=np.int32) # input buffer 1\n",
    "out_buffer = xlnk.cma_array(shape=(length,), dtype=np.int32) # output buffer\n",
    "\n",
    "samples = random.sample(range(0, length), length)\n",
    "np.copyto(in_buffer1, samples)\n",
    "samples = random.sample(range(0, length), length)\n",
    "np.copyto(in_buffer2, samples)\n",
    "\n",
    "sadd_ip.write(0x10, length) # we got this address from vivado\n",
    "t_start = time.time()\n",
    "dma1.sendchannel.transfer(in_buffer1)\n",
    "dma2.sendchannel.transfer(in_buffer2)\n",
    "dma1.recvchannel.transfer(out_buffer)\n",
    "dma1.sendchannel.wait()\n",
    "dma2.sendchannel.wait()\n",
    "dma1.recvchannel.wait()\n",
    "t_stop = time.time()\n",
    "in_buffer1.close()\n",
    "in_buffer2.close()\n",
    "out_buffer.close()\n",
    "print('Hardware execution time: ', t_stop-t_start)\n",
    "for i in range(0, length):\n",
    "    print('{}+{} = {}'.format(in_buffer1[i], in_buffer2[i], out_buffer[i]))"
   ]
  },
  {
   "cell_type": "code",
   "execution_count": null,
   "metadata": {},
   "outputs": [],
   "source": [
    "ol.ip_dict"
   ]
  },
  {
   "cell_type": "code",
   "execution_count": null,
   "metadata": {},
   "outputs": [],
   "source": [
    "ol.hierarchy_dict."
   ]
  },
  {
   "cell_type": "code",
   "execution_count": null,
   "metadata": {},
   "outputs": [],
   "source": [
    "import numpy as np\n",
    "\n",
    "X = np.linspace(-np.pi, np.pi, 256, endpoint=True)\n",
    "C, S = np.cos(X), np.sin(X)"
   ]
  },
  {
   "cell_type": "code",
   "execution_count": null,
   "metadata": {},
   "outputs": [],
   "source": []
  }
 ],
 "metadata": {
  "kernelspec": {
   "display_name": "Python 3",
   "language": "python",
   "name": "python3"
  },
  "language_info": {
   "codemirror_mode": {
    "name": "ipython",
    "version": 3
   },
   "file_extension": ".py",
   "mimetype": "text/x-python",
   "name": "python",
   "nbconvert_exporter": "python",
   "pygments_lexer": "ipython3",
   "version": "3.6.5"
  }
 },
 "nbformat": 4,
 "nbformat_minor": 2
}
